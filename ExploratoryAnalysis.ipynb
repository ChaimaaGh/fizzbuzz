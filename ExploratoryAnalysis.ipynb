{
 "cells": [
  {
   "cell_type": "markdown",
   "source": [
    "<h1> Exploratory data analysis</h1>\n",
    "We will start with installing the huggingFace datasets"
   ],
   "metadata": {
    "collapsed": false,
    "pycharm": {
     "name": "#%% md\n"
    }
   }
  },
  {
   "cell_type": "code",
   "execution_count": 53,
   "outputs": [
    {
     "name": "stdout",
     "output_type": "stream",
     "text": [
      "Requirement already satisfied: datasets in c:\\users\\imtech\\documents\\github\\fizzbuzz\\venv\\lib\\site-packages (2.1.0)\n",
      "Requirement already satisfied: pandas in c:\\users\\imtech\\documents\\github\\fizzbuzz\\venv\\lib\\site-packages (from datasets) (1.3.5)\n",
      "Requirement already satisfied: tqdm>=4.62.1 in c:\\users\\imtech\\documents\\github\\fizzbuzz\\venv\\lib\\site-packages (from datasets) (4.64.0)\n",
      "Requirement already satisfied: numpy>=1.17 in c:\\users\\imtech\\documents\\github\\fizzbuzz\\venv\\lib\\site-packages (from datasets) (1.21.6)\n",
      "Requirement already satisfied: responses<0.19 in c:\\users\\imtech\\documents\\github\\fizzbuzz\\venv\\lib\\site-packages (from datasets) (0.18.0)\n",
      "Requirement already satisfied: packaging in c:\\users\\imtech\\documents\\github\\fizzbuzz\\venv\\lib\\site-packages (from datasets) (21.3)\n",
      "Requirement already satisfied: pyarrow>=5.0.0 in c:\\users\\imtech\\documents\\github\\fizzbuzz\\venv\\lib\\site-packages (from datasets) (7.0.0)\n",
      "Requirement already satisfied: fsspec[http]>=2021.05.0 in c:\\users\\imtech\\documents\\github\\fizzbuzz\\venv\\lib\\site-packages (from datasets) (2022.3.0)\n",
      "Requirement already satisfied: aiohttp in c:\\users\\imtech\\documents\\github\\fizzbuzz\\venv\\lib\\site-packages (from datasets) (3.8.1)\n",
      "Requirement already satisfied: multiprocess in c:\\users\\imtech\\documents\\github\\fizzbuzz\\venv\\lib\\site-packages (from datasets) (0.70.12.2)\n",
      "Requirement already satisfied: importlib-metadata in c:\\users\\imtech\\documents\\github\\fizzbuzz\\venv\\lib\\site-packages (from datasets) (4.11.3)\n",
      "Requirement already satisfied: huggingface-hub<1.0.0,>=0.1.0 in c:\\users\\imtech\\documents\\github\\fizzbuzz\\venv\\lib\\site-packages (from datasets) (0.5.1)\n",
      "Requirement already satisfied: requests>=2.19.0 in c:\\users\\imtech\\documents\\github\\fizzbuzz\\venv\\lib\\site-packages (from datasets) (2.27.1)\n",
      "Requirement already satisfied: dill in c:\\users\\imtech\\documents\\github\\fizzbuzz\\venv\\lib\\site-packages (from datasets) (0.3.4)\n",
      "Requirement already satisfied: xxhash in c:\\users\\imtech\\documents\\github\\fizzbuzz\\venv\\lib\\site-packages (from datasets) (3.0.0)\n",
      "Requirement already satisfied: typing-extensions>=3.7.4.3 in c:\\users\\imtech\\documents\\github\\fizzbuzz\\venv\\lib\\site-packages (from huggingface-hub<1.0.0,>=0.1.0->datasets) (4.1.1)\n",
      "Requirement already satisfied: filelock in c:\\users\\imtech\\documents\\github\\fizzbuzz\\venv\\lib\\site-packages (from huggingface-hub<1.0.0,>=0.1.0->datasets) (3.6.0)\n",
      "Requirement already satisfied: pyyaml in c:\\users\\imtech\\documents\\github\\fizzbuzz\\venv\\lib\\site-packages (from huggingface-hub<1.0.0,>=0.1.0->datasets) (6.0)\n",
      "Requirement already satisfied: pyparsing!=3.0.5,>=2.0.2 in c:\\users\\imtech\\documents\\github\\fizzbuzz\\venv\\lib\\site-packages (from packaging->datasets) (3.0.8)\n",
      "Requirement already satisfied: certifi>=2017.4.17 in c:\\users\\imtech\\documents\\github\\fizzbuzz\\venv\\lib\\site-packages (from requests>=2.19.0->datasets) (2021.10.8)\n",
      "Requirement already satisfied: idna<4,>=2.5 in c:\\users\\imtech\\documents\\github\\fizzbuzz\\venv\\lib\\site-packages (from requests>=2.19.0->datasets) (3.3)\n",
      "Requirement already satisfied: urllib3<1.27,>=1.21.1 in c:\\users\\imtech\\documents\\github\\fizzbuzz\\venv\\lib\\site-packages (from requests>=2.19.0->datasets) (1.26.9)\n",
      "Requirement already satisfied: charset-normalizer~=2.0.0 in c:\\users\\imtech\\documents\\github\\fizzbuzz\\venv\\lib\\site-packages (from requests>=2.19.0->datasets) (2.0.12)\n",
      "Requirement already satisfied: colorama in c:\\users\\imtech\\documents\\github\\fizzbuzz\\venv\\lib\\site-packages (from tqdm>=4.62.1->datasets) (0.4.4)\n",
      "Requirement already satisfied: attrs>=17.3.0 in c:\\users\\imtech\\documents\\github\\fizzbuzz\\venv\\lib\\site-packages (from aiohttp->datasets) (21.4.0)\n",
      "Requirement already satisfied: asynctest==0.13.0 in c:\\users\\imtech\\documents\\github\\fizzbuzz\\venv\\lib\\site-packages (from aiohttp->datasets) (0.13.0)\n",
      "Requirement already satisfied: aiosignal>=1.1.2 in c:\\users\\imtech\\documents\\github\\fizzbuzz\\venv\\lib\\site-packages (from aiohttp->datasets) (1.2.0)\n",
      "Requirement already satisfied: multidict<7.0,>=4.5 in c:\\users\\imtech\\documents\\github\\fizzbuzz\\venv\\lib\\site-packages (from aiohttp->datasets) (6.0.2)\n",
      "Requirement already satisfied: yarl<2.0,>=1.0 in c:\\users\\imtech\\documents\\github\\fizzbuzz\\venv\\lib\\site-packages (from aiohttp->datasets) (1.7.2)\n",
      "Requirement already satisfied: frozenlist>=1.1.1 in c:\\users\\imtech\\documents\\github\\fizzbuzz\\venv\\lib\\site-packages (from aiohttp->datasets) (1.3.0)\n",
      "Requirement already satisfied: async-timeout<5.0,>=4.0.0a3 in c:\\users\\imtech\\documents\\github\\fizzbuzz\\venv\\lib\\site-packages (from aiohttp->datasets) (4.0.2)\n",
      "Requirement already satisfied: zipp>=0.5 in c:\\users\\imtech\\documents\\github\\fizzbuzz\\venv\\lib\\site-packages (from importlib-metadata->datasets) (3.8.0)\n",
      "Requirement already satisfied: pytz>=2017.3 in c:\\users\\imtech\\documents\\github\\fizzbuzz\\venv\\lib\\site-packages (from pandas->datasets) (2022.1)\n",
      "Requirement already satisfied: python-dateutil>=2.7.3 in c:\\users\\imtech\\documents\\github\\fizzbuzz\\venv\\lib\\site-packages (from pandas->datasets) (2.8.2)\n",
      "Requirement already satisfied: six>=1.5 in c:\\users\\imtech\\documents\\github\\fizzbuzz\\venv\\lib\\site-packages (from python-dateutil>=2.7.3->pandas->datasets) (1.16.0)\n"
     ]
    },
    {
     "name": "stderr",
     "output_type": "stream",
     "text": [
      "WARNING: You are using pip version 21.3.1; however, version 22.0.4 is available.\n",
      "You should consider upgrading via the 'C:\\Users\\imTech\\Documents\\GitHub\\fizzbuzz\\venv\\Scripts\\python.exe -m pip install --upgrade pip' command.\n"
     ]
    },
    {
     "name": "stdout",
     "output_type": "stream",
     "text": [
      "Requirement already satisfied: seaborn in c:\\users\\imtech\\documents\\github\\fizzbuzz\\venv\\lib\\site-packages (0.11.2)\n",
      "Requirement already satisfied: pandas>=0.23 in c:\\users\\imtech\\documents\\github\\fizzbuzz\\venv\\lib\\site-packages (from seaborn) (1.3.5)\n",
      "Requirement already satisfied: scipy>=1.0 in c:\\users\\imtech\\documents\\github\\fizzbuzz\\venv\\lib\\site-packages (from seaborn) (1.7.3)\n",
      "Requirement already satisfied: numpy>=1.15 in c:\\users\\imtech\\documents\\github\\fizzbuzz\\venv\\lib\\site-packages (from seaborn) (1.21.6)\n",
      "Requirement already satisfied: matplotlib>=2.2 in c:\\users\\imtech\\documents\\github\\fizzbuzz\\venv\\lib\\site-packages (from seaborn) (3.5.1)\n",
      "Requirement already satisfied: cycler>=0.10 in c:\\users\\imtech\\documents\\github\\fizzbuzz\\venv\\lib\\site-packages (from matplotlib>=2.2->seaborn) (0.11.0)\n",
      "Requirement already satisfied: packaging>=20.0 in c:\\users\\imtech\\documents\\github\\fizzbuzz\\venv\\lib\\site-packages (from matplotlib>=2.2->seaborn) (21.3)\n",
      "Requirement already satisfied: python-dateutil>=2.7 in c:\\users\\imtech\\documents\\github\\fizzbuzz\\venv\\lib\\site-packages (from matplotlib>=2.2->seaborn) (2.8.2)\n",
      "Requirement already satisfied: fonttools>=4.22.0 in c:\\users\\imtech\\documents\\github\\fizzbuzz\\venv\\lib\\site-packages (from matplotlib>=2.2->seaborn) (4.32.0)\n",
      "Requirement already satisfied: pillow>=6.2.0 in c:\\users\\imtech\\documents\\github\\fizzbuzz\\venv\\lib\\site-packages (from matplotlib>=2.2->seaborn) (9.1.0)\n",
      "Requirement already satisfied: pyparsing>=2.2.1 in c:\\users\\imtech\\documents\\github\\fizzbuzz\\venv\\lib\\site-packages (from matplotlib>=2.2->seaborn) (3.0.8)\n",
      "Requirement already satisfied: kiwisolver>=1.0.1 in c:\\users\\imtech\\documents\\github\\fizzbuzz\\venv\\lib\\site-packages (from matplotlib>=2.2->seaborn) (1.4.2)\n",
      "Requirement already satisfied: pytz>=2017.3 in c:\\users\\imtech\\documents\\github\\fizzbuzz\\venv\\lib\\site-packages (from pandas>=0.23->seaborn) (2022.1)\n",
      "Requirement already satisfied: typing-extensions in c:\\users\\imtech\\documents\\github\\fizzbuzz\\venv\\lib\\site-packages (from kiwisolver>=1.0.1->matplotlib>=2.2->seaborn) (4.1.1)\n",
      "Requirement already satisfied: six>=1.5 in c:\\users\\imtech\\documents\\github\\fizzbuzz\\venv\\lib\\site-packages (from python-dateutil>=2.7->matplotlib>=2.2->seaborn) (1.16.0)\n"
     ]
    },
    {
     "name": "stderr",
     "output_type": "stream",
     "text": [
      "WARNING: You are using pip version 21.3.1; however, version 22.0.4 is available.\n",
      "You should consider upgrading via the 'C:\\Users\\imTech\\Documents\\GitHub\\fizzbuzz\\venv\\Scripts\\python.exe -m pip install --upgrade pip' command.\n"
     ]
    },
    {
     "name": "stdout",
     "output_type": "stream",
     "text": [
      "Requirement already satisfied: matplotlib in c:\\users\\imtech\\documents\\github\\fizzbuzz\\venv\\lib\\site-packages (3.5.1)\n",
      "Requirement already satisfied: pillow>=6.2.0 in c:\\users\\imtech\\documents\\github\\fizzbuzz\\venv\\lib\\site-packages (from matplotlib) (9.1.0)\n",
      "Requirement already satisfied: python-dateutil>=2.7 in c:\\users\\imtech\\documents\\github\\fizzbuzz\\venv\\lib\\site-packages (from matplotlib) (2.8.2)\n",
      "Requirement already satisfied: numpy>=1.17 in c:\\users\\imtech\\documents\\github\\fizzbuzz\\venv\\lib\\site-packages (from matplotlib) (1.21.6)\n",
      "Requirement already satisfied: packaging>=20.0 in c:\\users\\imtech\\documents\\github\\fizzbuzz\\venv\\lib\\site-packages (from matplotlib) (21.3)\n",
      "Requirement already satisfied: kiwisolver>=1.0.1 in c:\\users\\imtech\\documents\\github\\fizzbuzz\\venv\\lib\\site-packages (from matplotlib) (1.4.2)\n",
      "Requirement already satisfied: pyparsing>=2.2.1 in c:\\users\\imtech\\documents\\github\\fizzbuzz\\venv\\lib\\site-packages (from matplotlib) (3.0.8)\n",
      "Requirement already satisfied: cycler>=0.10 in c:\\users\\imtech\\documents\\github\\fizzbuzz\\venv\\lib\\site-packages (from matplotlib) (0.11.0)\n",
      "Requirement already satisfied: fonttools>=4.22.0 in c:\\users\\imtech\\documents\\github\\fizzbuzz\\venv\\lib\\site-packages (from matplotlib) (4.32.0)\n",
      "Requirement already satisfied: typing-extensions in c:\\users\\imtech\\documents\\github\\fizzbuzz\\venv\\lib\\site-packages (from kiwisolver>=1.0.1->matplotlib) (4.1.1)\n",
      "Requirement already satisfied: six>=1.5 in c:\\users\\imtech\\documents\\github\\fizzbuzz\\venv\\lib\\site-packages (from python-dateutil>=2.7->matplotlib) (1.16.0)\n"
     ]
    },
    {
     "name": "stderr",
     "output_type": "stream",
     "text": [
      "WARNING: You are using pip version 21.3.1; however, version 22.0.4 is available.\n",
      "You should consider upgrading via the 'C:\\Users\\imTech\\Documents\\GitHub\\fizzbuzz\\venv\\Scripts\\python.exe -m pip install --upgrade pip' command.\n"
     ]
    }
   ],
   "source": [
    "!pip install datasets\n",
    "!pip install seaborn\n",
    "!pip install matplotlib"
   ],
   "metadata": {
    "collapsed": false,
    "pycharm": {
     "name": "#%%\n"
    }
   }
  },
  {
   "cell_type": "code",
   "execution_count": 26,
   "outputs": [],
   "source": [
    "from datasets import list_datasets, load_dataset\n",
    "from pprint import pprint\n",
    "# Importing required libraries.\n",
    "import pandas as pd\n",
    "import numpy as np\n",
    "import seaborn as sns #visualisation\n",
    "import matplotlib.pyplot as plt #visualisation\n",
    "%matplotlib inline\n",
    "sns.set(color_codes=True)"
   ],
   "metadata": {
    "collapsed": false,
    "pycharm": {
     "name": "#%%\n"
    }
   }
  },
  {
   "cell_type": "markdown",
   "source": [
    "From the datasets library, we can import list_datasets to see the list of datasets available in this library. pprint module provides a capability to “pretty-print”."
   ],
   "metadata": {
    "collapsed": false,
    "pycharm": {
     "name": "#%% md\n"
    }
   }
  },
  {
   "cell_type": "code",
   "execution_count": 7,
   "outputs": [
    {
     "name": "stdout",
     "output_type": "stream",
     "text": [
      "Number of datasets in the Datasets library:  4227 \n",
      "\n",
      "\n",
      "['assin', 'ar_res_reviews', 'ambig_qa', 'bianet', 'ag_news', 'ajgt_twitter_ar',\n",
      " 'aeslc', 'bc2gm_corpus', 'air_dialogue', 'acronym_identification',\n",
      " 'afrikaans_ner_corpus', 'allegro_reviews', 'ade_corpus_v2', 'adversarial_qa',\n",
      " 'alt', 'billsum', 'amazon_polarity', 'amttl', 'ascent_kb', 'big_patent',\n",
      " 'bn_hate_speech', 'bswac', 'capes', 'arsentd_lev', 'bible_para',\n",
      " 'amazon_reviews_multi', 'ai2_arc', 'beans', 'anli', 'arabic_pos_dialect',\n",
      " 'best2009', 'boolq', 'ar_sarcasm', 'asnq', 'bnl_newspapers',\n",
      " 'amazon_us_reviews', 'arxiv_dataset', 'banking77', 'bookcorpus', 'bprec', 'c3',\n",
      " 'allocine', 'aslg_pc12', 'biosses', 'bbc_hindi_nli', 'americas_nli', 'biomrc',\n",
      " 'blimp', 'aqua_rat', 'aquamuse', 'ar_cov19', 'arabic_speech_corpus', 'arcd',\n",
      " 'blended_skill_talk', 'cail2018', 'blbooksgenre', 'bookcorpusopen',\n",
      " 'bsd_ja_en', 'atomic', 'autshumato', 'blog_authorship_corpus', 'caner',\n",
      " 'app_reviews', 'arabic_billion_words', 'art', 'asset', 'blbooks', 'brwac',\n",
      " 'c4', 'ami', 'assin2', 'babi_qa', 'bbaw_egyptian',\n",
      " 'bing_coronavirus_query_set', 'break_data', 'chr_en', 'covid_qa_deepset',\n",
      " 'cifar10', 'cifar100', 'cdsc', 'catalonia_independence', 'circa', 'cc100',\n",
      " 'cawac', 'clue', 'cdt', 'codah', 'casino', 'clickbait_news_bg', 'cc_news',\n",
      " 'ccaligned_multilingual', 'cedr', 'code_x_glue_cc_cloze_testing_maxmin',\n",
      " 'code_x_glue_cc_code_refinement', 'conv_ai', 'conv_ai_3', 'conv_questions',\n",
      " 'covost2', 'cmrc2018', 'commonsense_qa', 'code_x_glue_ct_code_to_text',\n",
      " 'conceptnet5', 'cord19', 'cnn_dailymail', 'code_x_glue_cc_code_to_code_trans',\n",
      " 'com_qa', 'covid_tweets_japanese', 'civil_comments',\n",
      " 'code_x_glue_tc_text_to_code', 'coqa', 'cosmos_qa', 'cfq',\n",
      " 'code_x_glue_cc_clone_detection_poj104', 'cos_e', 'craigslist_bargains',\n",
      " 'cats_vs_dogs', 'common_voice', 'cbt', 'code_search_net', 'climate_fever',\n",
      " 'code_x_glue_cc_clone_detection_big_clone_bench', 'clinc_oos',\n",
      " 'code_x_glue_tc_nl_code_search_adv', 'cmu_hinglish_dog',\n",
      " 'code_x_glue_tt_text_to_text', 'coached_conv_pref', 'cppe-5',\n",
      " 'cornell_movie_dialog', 'coarse_discourse', 'code_x_glue_cc_cloze_testing_all',\n",
      " 'code_x_glue_cc_code_completion_token', 'code_x_glue_cc_defect_detection',\n",
      " 'competition_math', 'conllpp', 'covid_qa_castorini', 'common_gen',\n",
      " 'common_language', 'compguesswhat', 'conll2003',\n",
      " 'code_x_glue_cc_code_completion_line', 'consumer-finance-complaints',\n",
      " 'conv_ai_2', 'counter', 'conll2000', 'conll2002', 'covid_qa_ucsd',\n",
      " 'crawl_domain', 'dbrd', 'dart', 'daily_dialog', 'curiosity_dialogs',\n",
      " 'cryptonite', 'crd3', 'fashion_mnist', 'danish_political_comments', 'ecb',\n",
      " 'docred', 'doc2dial', 'crime_and_punish', 'crows_pairs', 'dane',\n",
      " 'electricity_load_diagrams', 'eli5', 'empathetic_dialogues', 'europa_ecdc_tm',\n",
      " 'cuad', 'datacommons_factcheck', 'definite_pronoun_resolution', 'dream', 'emo',\n",
      " 'ehealth_kd', 'emotone_ar', 'fquad', 'eli5_category', 'europarl_bilingual',\n",
      " 'fake_news_english', 'gem', 'discovery', 'dialog_re', 'dutch_social', 'emea',\n",
      " 'enriched_web_nlg', 'factckbr', 'finer', 'food101', 'duorc', 'e2e_nlg',\n",
      " 'eu_regulatory_ir', 'event2Mind', 'exams', 'fever', 'deal_or_no_dialog',\n",
      " 'cs_restaurants', 'disfl_qa', 'esnli', 'dyk', 'eth_py150_open', 'ecthr_cases',\n",
      " 'euronews', 'evidence_infer_treatment', 'flores', 'flue', 'eduge', 'emotion',\n",
      " 'eraser_multi_rc', 'farsi_news', 'gap', 'dengue_filipino',\n",
      " 'diplomacy_detection', 'drop', 'e2e_nlg_cleaned', 'dbpedia_14',\n",
      " 'disaster_response_messages', 'eitb_parcc', 'discofuse', 'ethos', 'doqa',\n",
      " 'fake_news_filipino', 'eurlex', 'freebase_qa', 'few_rel',\n",
      " 'financial_phrasebank', 'europa_eac_tm', 'harem', 'gigaword', 'glue',\n",
      " 'hatexplain', 'hellaswag', 'has_part', 'great_code', 'gutenberg_time',\n",
      " 'generics_kb', 'giga_fren', 'go_emotions', 'generated_reviews_enth', 'gooaq',\n",
      " 'hate_speech_offensive', 'german_legal_entity_recognition', 'glucose',\n",
      " 'jigsaw_unintended_bias', 'lama', 'mbpp', 'md_gender_bias', 'med_hop',\n",
      " 'ms_terms', 'newspop', 'pass', 'proto_qa', 'ptb_text_only', 'ronec', 'samsum',\n",
      " 'sanskrit_classic', 'scan', 'sepedi_ner', 'social_bias_frames', 'spider',\n",
      " 'tashkeela', 'time_dial', 'germaner', 'germeval_14', 'hate_speech_filipino',\n",
      " 'hausa_voa_ner', 'hebrew_this_world', 'id_nergrit_corpus', 'inquisitive_qg',\n",
      " 'kilt_tasks', 'kor_ner', 'labr', 'laroseda', 'lj_speech', 'math_qa',\n",
      " 'multi_nli', 'mutual_friends', 'mwsc', 'narrativeqa_manual',\n",
      " 'natural_questions', 'nkjp-ner', 'norne', 'numer_sense', 'ollie', 'onestop_qa',\n",
      " 'opus_ubuntu', 'para_crawl', 'per_sent', 'polyglot_ner', 'quora',\n",
      " 'riddle_sense', 'smartdata', 'snips_built_in_intents', 'squad_it',\n",
      " 'ted_iwlst2013', 'thaiqa_squad', 'google_wellformed_query',\n",
      " 'hate_speech_portuguese', 'id_newspapers_2018', 'hotpot_qa', 'id_panl_bppt',\n",
      " 'interpress_news_category_tr', 'kan_hope', 'journalists_questions', 'kor_sae',\n",
      " 'lince', 'masakhaner', 'm_lama', 'mocha', 'medal', 'newsph', 'mkb',\n",
      " 'opus_montenegrinsubs', 'muchocine', 'parsinlu_reading_comprehension',\n",
      " 'myanmar_news', 'paws-x', 'ncbi_disease', 'ro_sts', 'norwegian_ner', 'scielo',\n",
      " 'opus100', 'scitldr', 'opus_books', 'senti_ws', 'sharc', 'opus_finlex',\n",
      " 'orange_sum', 'sick', 'piaf', 'tatoeba', 'qa_zre', 'the_pile', 'qangaroo',\n",
      " 'tilde_model', 'sem_eval_2014_task_1', 'times_of_india_news_headlines',\n",
      " 'sharc_modified', 'siswati_ner_corpus', 'sms_spam', 'sofc_materials_articles',\n",
      " 'spc', 'sst', 'stsb_mt_sv', 'swda', 'swedish_medical_ner', 'hate_speech_pl',\n",
      " 'hausa_voa_topics', 'hope_edi', 'imdb_urdu_reviews', 'jfleg', 'kor_3i4k',\n",
      " 'kor_nli', 'lm1b', 'mac_morpho', 'mdd', 'msr_zhen_translation_parity',\n",
      " 'newsroom', 'numeric_fused_head', 'openslr', 'pec', 'poleval2019_mt', 'py_ast',\n",
      " 'qed_amara', 'refresd', 'squadshifts', 'superb', 'svhn', 'swag', 'tab_fact',\n",
      " 'tamilmixsentiment', 'text2log', 'the_pile_books3', 'humicroedit',\n",
      " 'irc_disentangle', 'klue', 'lener_br', 'liar', 'liveqa', 'menyo20k_mt',\n",
      " 'movie_rationales', 'opus_fiskmo', 'peer_read', 'pib', 'qasc', 'quac',\n",
      " 'ro_sent', 's2orc', 'sem_eval_2018_task_1', 'sogou_news',\n",
      " 'spanish_billion_words', 'super_glue', 'ted_multi', 'hansards', 'hard',\n",
      " 'hate_offensive', 'indic_glue', 'kor_nlu', 'makhzan', 'math_dataset', 'matinf',\n",
      " 'mlsum', 'msra_ner', 'nlu_evaluation_data', 'ohsumed', 'openwebtext',\n",
      " 'opus_elhuyar', 'persian_ner', 'poem_sentiment', 'prachathai67k', 'psc',\n",
      " 'pubmed_qa', 'quartz', 're_dial', 'rotten_tomatoes', 'scene_parse_150',\n",
      " 'schema_guided_dstc8', 'sciq', 'scitail', 'swahili', 'thai_toxicity_tweet',\n",
      " 'the_pile_openwebtext2', 'hendrycks_test', 'hippocorpus', 'hrwac',\n",
      " 'hyperpartisan_news_detection', 'imppres', 'large_spanish_corpus',\n",
      " 'multi_booked', 'opus_paracrawl', 'paws', 'pn_summary', 'quail', 'red_caps',\n",
      " 'ropes', 'simple_questions_v2', 'squad_adversarial', 'squad_es',\n",
      " 'squad_kor_v2', 'story_cloze', 'swahili_news', 'taskmaster1', 'tep_en_fa_para',\n",
      " 'hindi_discourse', 'gnad10', 'hda_nli_hindi', 'imdb', 'hebrew_sentiment',\n",
      " 'lambada', 'id_clickbait', 'lc_quad', 'id_puisi', 'lst20',\n",
      " 'isixhosa_ner_corpus', 'iwslt2017', 'mc4', 'jnlpba', 'kde4', 'multi_eurlex',\n",
      " 'multi_para_crawl', 'kor_hate', 'multi_re_qa', 'kor_qpair', 'multi_woz_v22',\n",
      " 'linnaeus', 'oclar', 'mrqa', 'offenseval_dravidian', 'msr_text_compression',\n",
      " 'ofis_publik', 'multilingual_librispeech', 'omp', 'neural_code_search',\n",
      " 'openai_humaneval', 'offcombr', 'php', 'opus_dogc', 'reasoning_bg',\n",
      " 'poleval2019_cyberbullying', 'scicite', 'qasper', 'sem_eval_2010_task_8',\n",
      " 'race', 'sem_eval_2020_task_11', 'scifact', 'sesotho_ner_corpus', 'setimes',\n",
      " 'setswana_ner_corpus', 'species_800', 'style_change_detection', 'subjqa',\n",
      " 'tanzil', 'taskmaster2', 'the_pile_stack_exchange', 'hlgd', 'greek_legal_code',\n",
      " 'hrenwac_para', 'iapp_wiki_qa_squad', 'guardian_authorship', 'id_liputan6',\n",
      " 'hate_speech18', 'head_qa', 'igbo_english_machine_translation', 'hover',\n",
      " 'isizulu_ner_corpus', 'jeopardy', 'kannada_news', 'ms_marco', 'limit',\n",
      " 'msr_genomics_kbcomp', 'mc_taco', 'mt_eng_vietnamese', 'norec', 'multi_news',\n",
      " 'opus_dgt', 'multi_nli_mismatch', 'opus_infopankki', 'multi_x_science_sum',\n",
      " 'polemo2', 'narrativeqa', 'quarel', 'quoref', 'ncslgr', 'reddit_tifu',\n",
      " 'openbookqa', 'roman_urdu', 'opus_euconst', 'peoples_daily_ner', 'silicone',\n",
      " 'polsum', 'snow_simplified_japanese_corpus', 'so_stacksample', 'pubmed',\n",
      " 'social_i_qa', 'reuters21578', 'saudinewsnet', 'stsb_multi_mt', 'thaisum',\n",
      " 'sent_comp', 'squad_v2', 'srwac', 'tapaco', 'taskmaster3', 'ted_talks_iwslt',\n",
      " 'health_fact', 'ilist', 'kd_conv', 'librispeech_asr', 'librispeech_lm',\n",
      " 'metrec', 'mkqa', 'mlqa', 'multidoc2dial', 'news_commentary', 'newsph_nli',\n",
      " 'opus_rf', 'opus_tedtalks', 'opus_wikipedia', 'oscar', 'pg19', 'qanta',\n",
      " 'russian_super_glue', 'senti_lex', 'sentiment140', 'squad', 'squad_v1_pt',\n",
      " 'stereoset', 'swiss_judgment_prediction', 'telugu_books', 'hind_encorp',\n",
      " 'hkcancor', 'hybrid_qa', 'indonli', 'kilt_wikipedia', 'kor_sarcasm',\n",
      " 'medical_questions_pairs', 'moroco', 'nell', 'newsgroup', 'nli_tr',\n",
      " 'offenseval2020_tr', 'onestop_english', 'open_subtitles', 'opinosis',\n",
      " 'opus_gnome', 'para_pat', 'qa_srl', 'reclor', 'reddit', 'sberquad',\n",
      " 'scb_mt_enth_2020', 'search_qa', 'sede', 'snli', 'speech_commands',\n",
      " 'swedish_ner_corpus', 'swedish_reviews', 'telugu_news', 'hans', 'igbo_ner',\n",
      " 'interpress_news_category_tr_lite', 'jigsaw_toxicity_pred', 'kinnews_kirnews',\n",
      " 'lex_glue', 'medical_dialog', 'miam', 'msr_sqa', 'nsmc', 'opus_memat',\n",
      " 'opus_openoffice', 'piqa', 'pragmeval', 'qa4mre', 'qed', 'selqa',\n",
      " 'squad_kor_v1', 'thainer', 'grail_qa', 'hebrew_projectbenyehuda',\n",
      " 'igbo_monolingual', 'indonlu', 'kelm', 'meta_woz', 'metooma', 'mnist', 'nchlt',\n",
      " 'newsqa', 'nq_open', 'opus_xhosanavy', 'recipe_nlg', 'ro_sts_parallel',\n",
      " 'scientific_papers', 'ted_hrlr', 'timit_asr', 'un_ga', 'totto', 'tlc',\n",
      " 'wiki_hop', 'trec', 'tweets_ar_en_parallel', 'told-br', 'tmu_gfm_dataset',\n",
      " 'udhr', 'tsac', 'ubuntu_dialogs_corpus', 'tuple_ie', 'turku_ner_corpus',\n",
      " 'urdu_fake_news', 'wiki_bio', 'wiki_source', 'wikiann', 'wili_2018', 'wmt18',\n",
      " 'x_stance', 'trivia_qa', 'ttc4900', 'twi_wordsim353', 'wiki_split', 'wmt16',\n",
      " 'xglue', 'xquad', 'xsum', 'vivos', 'wiki_movies', 'wikihow',\n",
      " 'wisesight_sentiment', 'xquad_r', 'yoruba_bbc_topics', 'turkish_ner',\n",
      " 'tweet_qa', 'wiki_qa', 'wisesight1000', 'wmt_t2t', 'wnut_17', 'wrbsc', 'xcsr',\n",
      " 'xnli', 'turk', 'twi_text_c3', 'un_pc', 'universal_dependencies', 'weibo_ner',\n",
      " 'wiki_qa_ar', 'wikipedia', 'tiny_shakespeare', 'wiki_auto', 'wiki_lingua',\n",
      " 'wikisql', 'wmt14', 'wmt20_mlqe_task3', 'turkish_shrinked_ner', 'tydiqa',\n",
      " 'universal_morphologies', 'wikicorpus', 'wikitext', 'turkish_movie_sentiment',\n",
      " 'turkish_product_reviews', 'tweet_eval', 'wiki_snippets', 'wino_bias',\n",
      " 'winogrande', 'wongnai_reviews', 'woz_dialogue', 'xcopa', 'yelp_polarity',\n",
      " 'zest', 'um005', 'urdu_sentiment_corpus', 'web_of_science', 'winograd_wsc',\n",
      " 'wmt17', 'yahoo_answers_topics', 'turkic_xwmt', 'tweets_hate_speech_detection',\n",
      " 'vctk', 'wiki40b', 'wiki_asp', 'wmt15', 'wmt20_mlqe_task2', 'xor_tydi_qa',\n",
      " 'xsum_factuality', 'xtreme', 'yahoo_answers_qa', 'wiki_dpr', 'wiqa',\n",
      " 'yoruba_text_c3', 'yoruba_wordsim353', 'tunizi', 'web_nlg', 'wider_face',\n",
      " 'wiki_atomic_edits', 'wiki_summary', 'xed_en_fi',\n",
      " 'youtube_caption_corrections', 'wi_locness', 'wikitext_tl39',\n",
      " 'wmt20_mlqe_task1', 'yelp_review_full', 'un_multi', 'web_questions', 'wmt19',\n",
      " 'yoruba_gv_ner', 'AConsApart/anime_subtitles_DialoGPT',\n",
      " 'AI-it/korean-hate-speech', 'Abirate/french_book_reviews', 'ARTeLab/fanpage',\n",
      " '0n1xus/pytorrent-standalone', '0n1xus/codexglue',\n",
      " 'ASCCCCCCCC/amazon_zh_simple', 'AlgoveraAI/CryptoPunks',\n",
      " 'Adnan/Urdu_News_Headlines', 'ARKseal/YFCC14M_subset_webdataset',\n",
      " 'Abdo1Kamr/Arabic_Hadith', 'Akshith/aa',\n",
      " 'AndrewMcDowell/de_corpora_parliament_processed', 'AHussain0418/day2_data',\n",
      " 'AlekseyKorshuk/horror-scripts', 'AI-Sweden/SuperLim',\n",
      " 'AI-it/khs_service_test', 'ARTeLab/mlsum-it', 'ARTeLab/ilpost',\n",
      " 'Abirate/code_net_dev_dataset', 'AhmadSawal/qa', 'Akshith/g_rock',\n",
      " 'Aisha/BAAD16', 'AhmedSSoliman/CoNaLa', 'Aisha/BAAD6',\n",
      " 'AlexMaclean/wikipedia-deletion-compressions',\n",
      " 'AlexZapolskii/zapolskii-amazon', 'ASCCCCCCCC/amazon_zh',\n",
      " 'Akila/ForgottenRealmsWikiDataset', 'AHussain0418/day4data',\n",
      " 'AdWeeb/DravidianMT', 'AlekseyDorkin/extended_tweet_emojis',\n",
      " 'Aliseyfi/event_token_type', 'Akshith/test', 'Alvenir/nst-da-16khz',\n",
      " 'AHussain0418/demo_data', 'Abirate/english_quotes', 'Abirate/code_net_dataset',\n",
      " 'Abirate/code_net_test_final_dataset', 'AlexMaclean/all-deletion-compressions',\n",
      " 'AlekseyKorshuk/comedy-scripts', 'Annabelleabbott/real-fake-news-workshop',\n",
      " 'Anurag-Singh-creator/tasks', 'BSC-TeMU/ancora-ca-ner', 'Binbin/my_dataset',\n",
      " 'DDSC/europarl', 'DanL/scientific-challenges-and-directions-dataset',\n",
      " 'Datatang/accented_english', 'DoyyingFace/github-embeddings-doy',\n",
      " 'GEM/CrossWOZ', 'Atsushi/fungi_diagnostic_chars_comparison_japanese',\n",
      " 'Cyberfish/text_error_correction', 'Datatang/multi_language',\n",
      " 'Emma121/testtest', 'Enes3774/data', 'FRTNX/cosuju', 'CodedotAI/code_clippy',\n",
      " 'DDSC/reddit-da-asr-preprocessed', 'DeskDown/ALTDataset',\n",
      " 'Anurag-Singh-creator/task', 'Baybars/parla_text_corpus',\n",
      " 'Bosio/pacman_descriptions', 'Check/region_7', 'Check/region_9',\n",
      " 'Check/vverify', 'Cyberfish/pos_tagger', 'Chuu/Vhh',\n",
      " 'Exr0n/wiki-entity-similarity', 'DelgadoPanadero/Pokemon',\n",
      " 'DiFronzo/Human_Activity_Recognition', 'ESZER/H', 'Firoj/CrisisBench',\n",
      " 'Fraser/python-state-changes', 'Arnold/hausa_common_voice', 'BSC-TeMU/sts-ca',\n",
      " 'BeIR/beir', 'Annielytics/DoctorsNotes', 'DrishtiSharma/as_opus100_processed',\n",
      " 'DrishtiSharma/br_opus100_processed', 'EMBO/biolang',\n",
      " 'Finnish-NLP/mc4_fi_cleaned', 'Francois/futures_es', 'BSC-TeMU/viquiquad',\n",
      " 'BritishLibraryLabs/EThOS-PhD-metadata', 'Check/region_8', 'BeIR/beir-corpus',\n",
      " 'Crives/haha', 'BSC-TeMU/SQAC', 'Check/a_re_gi', 'Chun/dataset', 'DDSC/dkhate',\n",
      " 'DDSC/partial-danish-gigaword-no-twitter',\n",
      " 'DSCI511G1/COP26_Energy_Transition_Tweets', 'Daniele/dante-corpus',\n",
      " 'Darren/data', 'Datatang/mixed_speech_chinese_english', 'DDSC/angry-tweets',\n",
      " 'Check/region_3', 'DDSC/reddit-da', 'Check/region_6',\n",
      " 'ChristophSchuhmann/MS_COCO_2017_URL_TEXT', 'Davlan/masakhanerV1',\n",
      " 'Doohae/modern_music_re', 'CyranoB/polarity',\n",
      " 'DrishtiSharma/kk_opus100_processed', 'Dumiiii/common-voice-romaniarss',\n",
      " 'DeskDown/ALTDataset_en-to-fil-vi-id-ms-ja-khm',\n",
      " 'DoyyingFace/github-issues-doy', 'Fraser/mnist-text-no-spaces',\n",
      " 'Fraser/mnist-text-small', 'Fraser/short-jokes', 'GEM/ART',\n",
      " 'Emanuel/UD_Portuguese-Bosque', 'Fraser/mnist-text-default',\n",
      " 'Fraser/python-lines', 'BenjaminGalliot/pangloss', 'CAGER/rick', 'CALM/arwiki',\n",
      " 'Check/region_1', 'CodedotAI/code_clippy_github', 'Cropinky/flatearther',\n",
      " 'Datatang/multi_language_conversation', 'DoctorSlimm/yipee',\n",
      " 'FRTNX/worldbank-projects', 'Fraser/wiki_sentences',\n",
      " 'BlakesOrb6/Fred-Flintstone', 'CShorten/KerasBERT',\n",
      " 'Davlan/conll2003_de_noMISC', 'Dmitriy612/1',\n",
      " 'DrishtiSharma/bg_opus100_processed', 'DrishtiSharma/hi_opus100_processed',\n",
      " 'DrishtiSharma/or_opus100_processed', 'Eymen3455/xsum_tr', 'GEM/OrangeSum',\n",
      " 'ApiInferenceTest/asr_dummy', 'CShorten/ZillowPrize',\n",
      " 'CodedotAI/code-clippy-tfrecords', 'Cropinky/rap_lyrics_english',\n",
      " 'DDSC/twitter-sent', 'Davlan/conll2003_noMISC',\n",
      " 'Atsushi/fungi_trait_circus_database',\n",
      " 'AryanLala/autonlp-data-Scientific_Title_Generator',\n",
      " 'Atsushi/fungi_indexed_mycological_papers_japanese', 'BSC-TeMU/tecla',\n",
      " 'Babelscape/wikineural', 'BatuhanYilmaz/github-issues', 'Check/region_2',\n",
      " 'Check/region_4', 'Check/regions', 'Cropinky/wow_fishing_bobber',\n",
      " 'Datatang/accented_mandarin', 'DELith/github-issues',\n",
      " 'Datatang/mandarin_chinese', 'DrishtiSharma/sl_opus100_processed',\n",
      " 'Doohae/klue-mrc-bm25', 'Emon/sobuj', 'Fraser/program-synthesis',\n",
      " 'Bosio/pacman', 'CAiRE/ASCEND', 'Champion/vpc2020_clear_anon_speech',\n",
      " 'Check/region_5', 'Cheranga/test', 'Datatang/chinese_dialect',\n",
      " 'DrishtiSharma/mr_opus100_processed', 'FIG-Loneliness/FIG-Loneliness',\n",
      " 'Felix-ML/quoteli3', 'Fraser/news-category-dataset', 'Avishekavi/Avi',\n",
      " 'BSC-TeMU/xquad-ca', 'Babelscape/rebel-dataset', 'ChadxxxxHall/Inter-vision',\n",
      " 'DDSC/lcc', 'DrishtiSharma/sr_opus100_processed', 'EMBO/sd-nlp',\n",
      " 'FL33TW00D/test-dataset', 'GEM/BiSECT', 'GEM/conversational_weather',\n",
      " 'GEM/e2e_nlg', 'GEM/cochrane-simplification', 'GEM/common_gen', 'GEM/dart',\n",
      " 'GEM/totto', 'GEM/wiki_lingua', 'GEM/Taskmaster', 'GEM/RiSAWOZ',\n",
      " 'GEM/surface_realisation_st_2020', 'GEM/turku_hockey_data2text', 'GEM/indonlg',\n",
      " 'GEM/SIMPITIKI', 'GEM/schema_guided_dialog', 'GEM/dstc10_track2_task2',\n",
      " 'GalacticAI/Noirset', 'Graphcore/vqa', 'HarleyQ/WitcherDialogue',\n",
      " 'HenryAI/KerasCodeExamples.txt', 'Jikiwa/demo3', 'Jikiwa/test-16344349440339',\n",
      " 'Jikiwa/test-16344361893586', 'KBLab/overlim', 'GEM/cs_restaurants',\n",
      " 'Graphcore/gqa-lxmert', 'Graphcore/wikipedia-bert-128',\n",
      " 'HenryAI/KerasAPIReference.txt', 'HenryAI/KerasDeveloperGuides.txt',\n",
      " 'Jack0508/demo', 'Jikiwa/temp-repo-valid', 'KETI-AIR/kor_corpora', 'GEM/viggo',\n",
      " 'GEM/xlsum',\n",
      " 'GEM-submissions/lewtun__hugging-face-test-t5-base.outputs.json-36bf2a59__1645559101',\n",
      " 'GroNLP/ik-nlp-22_slp', 'HHousen/ParaSCI', 'HUPD/hupd',\n",
      " 'Harveenchadha/indic-voice', 'HarveyBWest/mybot', 'Jikiwa/stargazers',\n",
      " 'Jikiwa/test-16344368182003', 'Karavet/ARPA-Armenian-Paraphrase-Corpus',\n",
      " 'GEM/mlb_data_to_text', 'GonzaloA/fake_news', 'IsaacBot/GP-Sentiment',\n",
      " 'Jack0508/test', 'Jikiwa/random_repo', 'Gabriel/quora_swe',\n",
      " 'Husain/intent-classification-en-fr', 'Intel/WEC-Eng', 'Ishwar/Senti',\n",
      " 'JIWON/nil_dataset', 'Jikiwa/demo2', 'Jikiwa/test-16336477963335',\n",
      " 'Jikiwa/test-16344362261113', 'KTH/speechdat', 'GEM/opusparcus',\n",
      " 'GroNLP/ik-nlp-22_winemag', 'HHousen/quora', 'Jikiwa/test-16336486877862',\n",
      " 'Jikiwa/test-16344347234752', 'JustinE/Test',\n",
      " 'GEM-submissions/GEM__bart_base_schema_guided_dialog__1645547915',\n",
      " 'HHousen/msrp', 'IFSTalfredoswald/MBTI', 'Jack0508/vi-ko-TED-txt',\n",
      " 'Jean-Baptiste/wikiner_fr', 'Jikiwa/demo1', 'KETI-AIR/klue',\n",
      " 'Khanoooo/autonlp-data-Corona', 'GEM/RotoWire_English-German', 'GEM/SciDuet',\n",
      " 'Jikiwa/pushedd-to-hub', 'Jikiwa/test-16340052901609',\n",
      " 'Jikiwa/test-16344364230608', 'KETI-AIR/nikl', 'GroNLP/ik-nlp-22_transqe',\n",
      " 'Helsinki-NLP/tatoeba_mt', 'IGESML/pubmed_neg',\n",
      " 'JesseParvess/book_snippets_asr', 'Jikiwa/pushed-to-hub',\n",
      " 'Jikiwa/test-16344360501144', 'JonathanSum/en_corpora_parliament_processed',\n",
      " 'Karavet/ILUR-news-text-classification-corpus', 'GEM/wiki_cat_sum',\n",
      " 'Hellisotherpeople/DebateSum', 'IlyaGusev/headline_cause',\n",
      " 'Jack0508/TED2020_kor', 'Jikiwa/glue-mnli-train', 'Jikiwa/test-16344351925697',\n",
      " 'KTH/nst', 'KTH/waxholm', 'Kira-Asimov/gender_clinical_trial',\n",
      " 'GEM/turku_paraphrase_corpus', 'GEM/wiki_auto_asset_turk',\n",
      " 'GEM-submissions/lewtun__hugging-face-test-t5-base.outputs.json-36bf2a59__1645558682',\n",
      " 'Gabriel/squad_v2_sv', 'GroNLP/ik-nlp-22_pestyle', 'Jeska/vaccinchat',\n",
      " 'Jikiwa/test-16344349332219', 'KETI-AIR/aihub', 'GEM/xsum',\n",
      " 'GV05/shlomit_speech', 'Gwangho/NCBI-Sars-Cov-2', 'Jikiwa/pushe-to-hub',\n",
      " 'Jikiwa/test-16344362895458', 'Jikiwa/test-16344364547167',\n",
      " 'Karavet/pioNER-Armenian-Named-Entity', 'Khondoker/SentNoB', 'GEM/references',\n",
      " 'GEM/squad_v2', 'GEM-submissions/ratishsp', 'GeoffVdr/cv8_trainval_processed',\n",
      " 'Halilyesilceng/autonlp-data-nameEntityRecognition',\n",
      " 'Harveenchadha/bol-models', 'Iskaj/dutch_corpora_parliament_processed',\n",
      " 'JIsanan/war-ceb-wikipedia', 'Jack0508/TED2020_vi', 'Jack0508/TED2020vi_kor',\n",
      " 'Jeska/autonlp-data-vaccinfaq', 'Jikiwa/push-to-hub',\n",
      " 'JonathanSum/sv_corpora_parliament_processed',\n",
      " 'GEM-submissions/submission-scores', 'Jikiwa/test-16336478042515',\n",
      " 'Jikiwa/test-16336479967338', 'Jikiwa/test-16336480189315',\n",
      " 'JonathanSum/github-issues', 'KBLab/sucx3_ner', 'KETI-AIR/korquad',\n",
      " 'Kili/plastic_in_river', 'GEM/mlsum', 'Gauravadlakha1509/new_one',\n",
      " 'Graphcore/gqa', 'Graphcore/wikipedia-bert-512',\n",
      " 'HarrisDePerceptron/sv_corpora_parliament_processed',\n",
      " 'HarrisDePerceptron/ur_corpora_pib', 'HenryAI/KerasBERTv1-Data',\n",
      " 'Iftoo95/Arabic_Sentiment_and_Topics', 'IlyaGusev/gazeta',\n",
      " 'Jikiwa/test-16340052972855', 'Jikiwa/test-16344347220590',\n",
      " 'Jikiwa/test-16344367190179', 'GEM/sportsett_basketball', 'GEM/web_nlg',\n",
      " 'Graphcore/vqa-lxmert', 'Jack0508/eng_vi_demo', 'Jikiwa/demo4', 'KTH/martin',\n",
      " 'LIAMF-USP/arc-retrieval-c4', 'LeoCordoba/CC-NEWS-ES', 'Linda/test1111',\n",
      " 'LuisG07/es_corpora_parliament_processed', 'LeoCordoba/CC-NEWS-ES-titles',\n",
      " 'LeverageX/klue-mrc', 'Lumos/yahoo_hga', 'Llamacha/Monolingual-cha',\n",
      " 'MBAH/MOVIESON', 'Language/trans', 'Lenn/github-issues',\n",
      " 'Llamacha/monolingual-quechua-iic', 'MKK/Dhivehi-English',\n",
      " 'LeverageX/book-summarization', 'Lucylulu/amazon', 'LeverageX/klue-re',\n",
      " 'Language/Fren', 'Lucylulu/imdb', 'Langame/waiting-messages',\n",
      " 'LoganKells/amazon_product_reviews_video_games', 'Marzipan/QA4PC',\n",
      " 'Mansooreh/sharif-emotional-speech-dataset', 'NTUYG/RAGTest',\n",
      " 'Narsil/conversational_dummy', 'Narsil/image_dummy', 'NbAiLab/norne',\n",
      " 'Perkhad/corejur', 'Pongsaky/Wiki_SCG', 'Recognai/imdb_spacy-ner',\n",
      " 'Recognai/sentiment-banking', 'Romrawin/mn-sim', 'SajjadAyoubi/persian_qa',\n",
      " 'SaulLu/Natural_Questions_HTML', 'Mateo/test_dataset',\n",
      " 'Mrleo1nid/Test_ru_dataset', 'NYTK/HuWNLI', 'Ofrit/tmp',\n",
      " 'PereLluis13/spanish_speech_text', 'Recognai/veganuary',\n",
      " 'RohanAiLab/persian_daily_news', 'RollingMuffin/test_scripts', 'Samip/func',\n",
      " 'Serhii/Custom_SQuAD', 'NLPC-UOM/English-Tamil-Parallel-Corpus', 'NYTK/HuCoPA',\n",
      " 'NYTK/HuRC', 'Nathanael/NPS', 'NbAiLab/norec_agg',\n",
      " 'NbAiLab/norwegian_parliament', 'PaulLerner/triviaqa_for_viquae',\n",
      " 'SCourthial/test', 'Mahalakshmi/ta_lm_processed', 'Motahar/github-issues',\n",
      " 'Plim/fr_wikipedia_processed', 'Recognai/corrected_labels_ag_news',\n",
      " 'Renukswamy/Patent_sentiment_analysis', 'SaulLu/toy_struc_dataset',\n",
      " 'NYTK/HuCOLA', 'NbAiLab/NCC_small_divided',\n",
      " 'SaulLu/Natural_Questions_HTML_reduced_all', 'Mateo/testdataset',\n",
      " 'NikolajW/NPS_nonNormalized-Cased', 'Omar2027/caner_replicate', 'Pengfei/test',\n",
      " 'Pyjay/emotion_nl', 'RuudVelo/commonvoice_mt_8_processed',\n",
      " 'RuudVelo/nl_corpora_parliament_processed', 'MarkusDressel/cord',\n",
      " 'Mcy/random_uselesstestsequence', 'NahedAbdelgaber/evaluating-student-writing',\n",
      " 'Nuwaisir/Quran_speech_recognition_kaggle', 'PaulLerner/viquae_dataset',\n",
      " 'PlanTL-GOB-ES/pharmaconer', 'Plim/language_model_fr',\n",
      " 'RohanAiLab/persian_blog', 'MarianaSahagun/test', 'Melinoe/TheLabTexts',\n",
      " 'Navigator/dodydard-marty', 'PereLluis13/parla_text_corpus',\n",
      " 'Pyke/patent_abstract', 'NishinoTSK/leishmaniav1', 'Paul/hatecheck',\n",
      " 'Pengfei/asfwe', 'Plim/common_voice_7_0_fr_processed', 'R0bk/XFUN',\n",
      " 'Recognai/ag_news_corrected_labels', 'Sam2021/Arguement_Mining_CL2017',\n",
      " 'McGill-NLP/mlquestions', 'Mulin/my_third_dataset', 'NbAiLab/NPSC',\n",
      " 'PDJ107/riot-data', 'Pengfei/test1', 'PlanTL-GOB-ES/cantemist-ner',\n",
      " 'Recognai/news', 'MickyMike/large_c_corpus', 'NbAiLab/NCC',\n",
      " 'Sabokou/qg_squad_modified', 'SergeiGKS/wikiner_fr_job', 'Narsil/test_data',\n",
      " 'NbAiLab/NCC_small_100', 'QA/abk-eng', 'Remesita/tagged_reviews',\n",
      " 'SaulLu/test', 'Narsil/asr_dummy', 'NbAiLab/bokmaal_admin',\n",
      " 'RohanAiLab/persian_news_dataset', 'SaulLu/Natural_Questions_HTML_Toy',\n",
      " 'SebastianS/github-issues', 'NYTK/HuSST', 'NbAiLab/NPSC_test',\n",
      " 'NbAiLab/NPSC_test2', 'NishinoTSK/leishmaniaV2', 'Pratik/Gujarati_OpenSLR',\n",
      " 'RBG-AI/CoRePooL', 'Recognai/gutenberg_spacy-ner',\n",
      " 'RuudVelo/commonvoice_nl_8_processed', 'Sabokou/qg_squad_modified_dev',\n",
      " 'NLPC-UOM/Sinhala-POS-Data', 'OmarN121/train', 'PaulLerner/viquae_wikipedia',\n",
      " 'PlanTL-GOB-ES/SQAC', 'Plim/fr_corpora_parliament_processed',\n",
      " 'PaulLerner/triviaqa_splits_for_viquae', 'PaulLerner/viquae_images',\n",
      " 'SetFit/sst5', 'SetFit/hate_speech18', 'ShinyQ/PPKM_Pemerintah',\n",
      " 'SetFit/TREC-QC', 'SetFit/ethos', 'SetFit/yelp_review_full',\n",
      " 'SetFit/amazon_counterfactual', 'Smiling/webnovels-en',\n",
      " 'SetFit/amazon_counterfactual_en', 'SetFit/amazon_polarity',\n",
      " 'SetFit/20_newsgroups', 'SocialGrep/the-2022-trucker-strike-on-reddit',\n",
      " 'SetFit/sst2', 'SetFit/ethos_binary', 'SetFit/imdb',\n",
      " 'SetFit/toxic_conversations', 'Tevatron/scifact-corpus',\n",
      " 'Yves/fhnw_swiss_parliament', 'Shanna/Jamaica',\n",
      " 'SocialGrep/one-million-reddit-questions', 'Tahsin-Mayeesha/Bengali-SQuAD',\n",
      " 'Wikidepia/mc4-filter', 'SetFit/bbc-news',\n",
      " 'SocialGrep/reddit-wallstreetbets-aug-2021', 'Trainmaster9977/957',\n",
      " 'Shushant/ContaminationQA', 'Wuhu0/output', 'XiangPan/snli_break',\n",
      " 'SetFit/ag_news', 'SetFit/hate_speech_offensive', 'SetFit/insincere-questions',\n",
      " 'Shushant/NepaliSentiment', 'SocialGrep/reddit-crypto-aug-2021',\n",
      " 'Tevatron/wikipedia-squad-corpus', 'Wiedy/wav2vec2-large-xls-r-300m-tr-colab',\n",
      " 'Zoe10/ner_dataset', 'SocialGrep/one-million-reddit-jokes',\n",
      " 'SocialGrep/reddit-nonewnormal-complete', 'Tevatron/wikipedia-curated-corpus',\n",
      " 'Vishva/UniFAQ_DataSET', 'Yatoro/github_issues', 'Sunbird/salt-dataset',\n",
      " 'TaahaKazi/FCE', 'Terry0107/RiSAWOZ', 'Tevatron/wikipedia-squad',\n",
      " 'TimTreasure4/Test', 'TurkuNLP/register_oscar', 'UMU/spanish-saticorpus-2021',\n",
      " 'VadorMazer/skyrimdialogstest', 'Vishnu393831/VICTORY_dataset',\n",
      " 'Voxcroft/alffa_amharic', 'Wiedy/be', 'Xenova/sponsorblock',\n",
      " 'SkelterLabsInc/JaQuAD', 'SetFit/go_emotions',\n",
      " 'SetFit/student-question-categories', 'SetFit/subj', 'SophieTr/reddit_clean',\n",
      " 'TestCher/Testi', 'Trainmaster9977/zbakuman', 'Voxcroft/alffa_wolof',\n",
      " 'Xenova/sponsorblock-768', 'XiangPan/iflytek', 'XiangXiang/clt',\n",
      " 'Xinghua/test', 'SetFit/emotion', 'SetFit/enron_spam',\n",
      " 'SetFit/tweet_sentiment_extraction', 'Shushant/nepali', 'TRoboto/names',\n",
      " 'Tatyana/ru_sentiment_dataset', 'Tevatron/wikipedia-curated',\n",
      " 'Tevatron/wikipedia-nq-corpus', 'Tevatron/wikipedia-trivia',\n",
      " 'TheBlindBandit/SpongeNot', 'TurkuNLP/turku_paraphrase_corpus',\n",
      " 'Tyler/wikimatrix_collapsed', 'Wikidepia/IndoSQuAD', 'YuAnthony/chid',\n",
      " 'Tevatron/wikipedia-wq-corpus', 'TristanBehrens/js-fakes-4bars',\n",
      " 'WillFerreiraSantos/halos', 'WyrdCurt/AO4W',\n",
      " 'SocialGrep/ten-million-reddit-answers', 'Tevatron/wikipedia-trivia-corpus',\n",
      " 'Zaid/coqa_expanded', 'Tevatron/msmarco-passage', 'Tevatron/wikipedia-nq',\n",
      " 'Tevatron/wikipedia-wq', 'TurkuNLP/register_mc4',\n",
      " 'TurkuNLP/turku_hockey_data2text', 'SocialGrep/one-million-reddit-confessions',\n",
      " 'Tevatron/msmarco-passage-corpus', 'Valahaar/wsdmt', 'Wikidepia/IndoParaCrawl',\n",
      " 'Yatoro/github-issues', 'Yeva/arm-summary', 'abhishek/autonlp-data-imdb_eval',\n",
      " 'abhishek/autonlp-data-prodigy-10', 'SocialGrep/one-year-of-r-india',\n",
      " 'SocialGrep/the-reddit-covid-dataset', 'SuperAI2-Machima/ThaiQA_LST20',\n",
      " 'TRoboto/masc', 'Taekyoon/test_none_state', 'Tevatron/scifact', 'VJGamer/test',\n",
      " 'YuAnthony/tnews', 'Zaid/quac_expanded', 'SetFit/tweet_eval_stance',\n",
      " 'ShreyaR/DepressionDetection', 'SoLID/shellcode_i_a32',\n",
      " 'SocialGrep/top-american-universities-on-reddit', 'Usin2705/test',\n",
      " 'adalbertojunior/MININER', 'addy88/nq-question-answeronly', 'alistvt/coqa',\n",
      " 'allegro/klej-nkjp-ner', 'abidlabs/crowdsourced-speech4',\n",
      " 'abidlabs/test-audio-1', 'abidlabs/test-translation-dataset',\n",
      " 'adamlin/FewShotWoz', 'adamlin/qa_verification', 'allegro/klej-cdsc-r',\n",
      " 'alperiox/autonlp-data-user-review-classification', 'adamlin/daily_dialog',\n",
      " 'aidystark/Yt', 'albertvillanova/datasets-tests-compression',\n",
      " 'albertvillanova/lm_en_dummy4',\n",
      " 'ami-wav2vec2/ami_multi_headset_segmented_and_chunked_and_concatenated',\n",
      " 'ami-wav2vec2/ami_single_headset_segmented_and_chunked',\n",
      " 'anton-l/common_language', 'adamlin/companion', 'adamlin/mail-classification',\n",
      " 'adamlin/weibo_ner', 'addy88/sanskrit-asr-84-eval', 'addy88/sanskrit-asr-84',\n",
      " 'ajmbell/test-dataset', 'aliabd/crowdsourced-speech4', 'anton-l/superb_demo',\n",
      " 'abidlabs/crowdsourced-speech5', 'albertvillanova/dummy_libri2mix',\n",
      " 'aliabd/hello-world', 'alistvt/coqa-flat', 'allegro/klej-dyk',\n",
      " 'anechaev/ru_med_history', 'anuragshas/ha_cc100_processed',\n",
      " 'abidlabs/crowdsourced-speech7', 'abidlabs/test-image-13',\n",
      " 'adalbertojunior/punctuation-ptbr', 'aliabd/crowdsourced-calculator-demo',\n",
      " 'allegro/summarization-allegro-articles',\n",
      " 'ami-wav2vec2/ami_single_headset_segmented_and_chunked_and_concatenated',\n",
      " 'anuragshas/sk_opus100_processed', 'adamlin/coqa_squad',\n",
      " 'albertvillanova/carbon_24', 'albertvillanova/lm_en_dummy3',\n",
      " 'albertvillanova/tests-public-raw-jsonl', 'allegro/klej-cbd',\n",
      " 'antoinegk/HealthChallenge_dataset', 'adamlin/multiwoz_dst', 'adamlin/rs',\n",
      " 'ai4bharat/samanantar', 'albertvillanova/sat',\n",
      " 'allegro/summarization-polish-summaries-corpus',\n",
      " 'anuragshas/lv_opus100_processed', 'abidlabs/crowdsourced-speech-demo',\n",
      " 'abwicke/C-B-R', 'afasafen/mydataset', 'akhaliq/test',\n",
      " 'albertvillanova/tmp-tests-zip', 'alexantonov/chuvash_parallel',\n",
      " 'allegro/klej-polemo2-in', 'ami-wav2vec2/ami_single_headset_segmented',\n",
      " 'anuragshas/hi_opus100_processed', 'anuragshas/mt_opus100_processed',\n",
      " 'abidlabs/test-image-classifier-dataset',\n",
      " 'alvp/autonlp-data-alberti-stanzas-finetuning', 'abwicke/koplo',\n",
      " 'albertvillanova/pmc_open_access', 'alistvt/coqa-stories',\n",
      " 'allegro/klej-polemo2-out', 'allegro/klej-psc', 'allenai/scico',\n",
      " 'alvp/autonlp-data-alberti-stanza-names',\n",
      " 'ami-wav2vec2/ami_single_headset_segmented_and_chunked_dummy',\n",
      " 'ami-wav2vec2/ami_single_headset_segmented_dummy', 'anechaev/med_history',\n",
      " 'animesh/autonlp-data-peptides', 'anton-l/superb_dummy',\n",
      " 'abidlabs/test-audio-13', 'afasafen/newDataSet', 'akumar33/manufacturing',\n",
      " 'allegro/polish-question-passage-pairs', 'anton-l/superb',\n",
      " 'anuragshas/bg_opus100_processed', 'anuragshas/ha_opus100_processed',\n",
      " 'abidlabs/crowdsourced-speech', 'abidlabs/crowdsourced-speech2',\n",
      " 'adalbertojunior/punctuation-ptbr-light', 'adamlin/domain_classification',\n",
      " 'adamlin/roc_story', 'allegro/klej-allegro-reviews', 'allegro/klej-cdsc-e',\n",
      " 'allenai/c4', 'ami-wav2vec2/ami_multi_headset_segmented_and_chunked',\n",
      " 'antoiloui/bsard', 'abidlabs/crowdsourced-speech3',\n",
      " 'albertvillanova/lm_en_dummy2', 'albertvillanova/tests-raw-jsonl',\n",
      " 'alireza655/alireza655',\n",
      " 'ami-wav2vec2/ami_multi_headset_segmented_and_chunked_dummy',\n",
      " 'aminedjebbie/Multi-Arabic-dialects', 'anuragshas/sl_opus100_processed',\n",
      " 'abidlabs/crowdsourced-notes', 'albertvillanova/legal_contracts',\n",
      " 'albertvillanova/lm_en_dummy1', 'albertvillanova/tmp-tests',\n",
      " 'anuragshas/pa_cc100_processed', 'abidlabs/crowdsourced-speech6',\n",
      " 'abidlabs/voice-verification-adversarial-dataset',\n",
      " 'albertvillanova/lm_en_dummy0', 'alittleie/mis_238',\n",
      " 'alperbayram/TwitterDuygu', 'andrepreira/outros2021', 'anukaver/EstQA',\n",
      " 'anuragshas/mr_cc100_processed', 'anuragshas/ur_opus100_processed',\n",
      " 'anushakamath/sv_corpora_parliament_processed_v0',\n",
      " 'autonlp/autonlp-benchmark-gem-GEM__references-GEM-submissions__lewtun__hugging-face-test-t5-base.outputs.json-36bf2a59__1645527851-778',\n",
      " 'avadesian/dddd', 'azuur/gn_wiki_cleaned', 'athar/QA', 'anzorq/kbd-ru-temp',\n",
      " 'anzorq/kbd-ru-1.67M-temp', 'anzorq/kbd-ru-jsonl-tmp', 'arch-raven/MAMI',\n",
      " 'ashish-shrivastava/dont-know-dataset', 'badranx/opus_raw',\n",
      " 'astrideducation/cefr-combined-no-cefr-test', 'beacon/test',\n",
      " 'aseifert/pie-synthetic', 'ashraq/dhivehi-corpus', 'asi/wikitext_fr',\n",
      " 'avanishcobaltest/datasetavanish', 'aseifert/merlin', 'artyeth/Dorian',\n",
      " 'aryanpatke/github-issues', 'astarostap/antisemitic-tweets',\n",
      " 'azuur/es_corpora_parliament_processed', 'bavard/personachat_truecased',\n",
      " 'astarostap/autonlp-data-antisemitism-2', 'averyanalex/panorama',\n",
      " 'asahi417/qg_squad', 'asoroa/bsbasque', 'astremo/friendly_JA_corpus',\n",
      " 'atelders/politweets', 'austin/rheum_abstracts', 'asahi417/qg_jaquad',\n",
      " 'artemis13fowl/github-issues', 'be4rr/github-issues',\n",
      " 'arjunth2001/online_privacy_qna', 'astarostap/antisemitic_tweets',\n",
      " 'ausgequetschtem/jtrddfhfgh', 'bigscience/P3', 'bemanningssitua/dplremjfjfj',\n",
      " 'bertin-project/mc4-es-sampled',\n",
      " 'bigscience-catalogue-lm-data/lm_ar_wikinews_filtered',\n",
      " 'benjaminbeilharz/better_daily_dialog', 'bertin-project/mc4-sampling',\n",
      " 'bigscience/LanguageResourceCatalogue', 'bigscience/mc4-sampled',\n",
      " 'bigscience-catalogue-lm-data/lm_ca_wikiquote_filtered',\n",
      " 'bigscience-catalogue-lm-data/lm_ca_wikisource_filtered',\n",
      " 'bigscience-catalogue-lm-data/lm_en_wikinews_filtered',\n",
      " 'berkergurcay/2020-10K-Reports', 'bhigy/buckeye_asr',\n",
      " 'bigscience-catalogue-lm-data/lm_ca_wikibooks_filtered',\n",
      " 'bigscience-catalogue-lm-data/lm_en_wikivoyage_filtered',\n",
      " 'bhadresh-savani/web_split',\n",
      " 'bigscience-catalogue-lm-data/lm_ar_wikisource_filtered',\n",
      " 'benjaminbeilharz/librivoxdeen',\n",
      " 'bigscience-catalogue-lm-data/lm_ca_wikimedia_filtered',\n",
      " 'bigscience-catalogue-lm-data/lm_en_no_code_stackexchange',\n",
      " 'bigscience-catalogue-lm-data/lm_ar_wikiquote_filtered',\n",
      " 'bigscience-catalogue-lm-data/lm_code_stackexchange', 'bhavnicksm/sentihood',\n",
      " 'bigscience-catalogue-lm-data/lm_ar_wikisource',\n",
      " 'bigscience-catalogue-lm-data/lm_ca_wiktionary_filtered',\n",
      " 'bigscience-catalogue-data-dev/lm_code_github-eval_subset',\n",
      " 'bigscience-catalogue-lm-data/lm_ar_wikibooks',\n",
      " 'bigscience-catalogue-lm-data/lm_ar_wikibooks_filtered',\n",
      " 'bigscience-catalogue-lm-data/lm_ar_wikiversity_filtered',\n",
      " 'bigscience-catalogue-lm-data/lm_en_wiktionary_filtered',\n",
      " 'bigscience/open_subtitles_monolingual',\n",
      " 'bigscience-catalogue-lm-data/lm_en_wikiquote_filtered',\n",
      " 'benjaminbeilharz/empathetic_dialogues_for_lm',\n",
      " 'bigscience-catalogue-lm-data/lm_ar_wiktionary_filtered',\n",
      " 'bigscience-catalogue-lm-data/lm_ca_wikinews_filtered',\n",
      " 'bigscience-catalogue-lm-data/lm_en_wikibooks_filtered',\n",
      " 'bigscience-catalogue-lm-data/lm_fr_wikibooks',\n",
      " 'bigscience-catalogue-lm-data/lm_fr_wikinews_filtered',\n",
      " 'bigscience-catalogue-lm-data/lm_fr_wikivoyage',\n",
      " 'bigscience-catalogue-lm-data/lm_indic-ur_wikiquote_filtered',\n",
      " 'bigscience-catalogue-lm-data/lm_nigercongo-st_wiktionary_filtered',\n",
      " 'bigscience-catalogue-lm-data/lm_fr_wikiversity_filtered',\n",
      " 'bigscience-catalogue-lm-data/lm_indic-bn_wikivoyage_filtered',\n",
      " 'bigscience-catalogue-lm-data/lm_indic-hi_wiktionary_filtered',\n",
      " 'bigscience-catalogue-lm-data/lm_indic-pa_wiktionary_filtered',\n",
      " 'bigscience-catalogue-lm-data/lm_nigercongo-bm_wikibooks_filtered',\n",
      " 'bigscience-catalogue-lm-data/lm_eu_wikisource_filtered',\n",
      " 'bigscience-catalogue-lm-data/lm_id_wikisource_filtered',\n",
      " 'bigscience-catalogue-lm-data/lm_indic-hi_wikiversity_filtered',\n",
      " 'bigscience-catalogue-lm-data/lm_indic-ml_wikiquote_filtered',\n",
      " 'bigscience-catalogue-lm-data/lm_nigercongo-zu_wiktionary_filtered',\n",
      " 'bigscience-catalogue-lm-data/lm_fr_wiktionary_filtered',\n",
      " 'bigscience-catalogue-lm-data/lm_indic-bn_wiktionary_filtered',\n",
      " 'bigscience-catalogue-lm-data/lm_indic-te_wiktionary_filtered',\n",
      " 'bigscience-catalogue-lm-data/lm_es_wikiquote_filtered',\n",
      " 'bigscience-catalogue-lm-data/lm_id_wikibooks_filtered',\n",
      " 'bigscience-catalogue-lm-data/lm_indic-bn_wikibooks_filtered',\n",
      " 'bigscience-catalogue-lm-data/lm_indic-kn_wikiquote_filtered',\n",
      " 'bigscience-catalogue-lm-data/lm_indic-ml_wikisource_filtered',\n",
      " 'bigscience-catalogue-lm-data/lm_fr_wikivoyage_filtered',\n",
      " 'bigscience-catalogue-lm-data/lm_indic-kn_wiktionary_filtered',\n",
      " 'bigscience-catalogue-lm-data/lm_es_wikivoyage_filtered',\n",
      " 'bigscience-catalogue-lm-data/lm_indic-mr_wiktionary_filtered',\n",
      " 'bigscience-catalogue-lm-data/lm_es_wikibooks_filtered',\n",
      " 'bigscience-catalogue-lm-data/lm_eu_wikibooks_filtered',\n",
      " 'bigscience-catalogue-lm-data/lm_eu_wiktionary',\n",
      " 'bigscience-catalogue-lm-data/lm_fr_wikiquote',\n",
      " 'bigscience-catalogue-lm-data/lm_id_wikimedia_filtered',\n",
      " 'bigscience-catalogue-lm-data/lm_indic-ml_wikibooks_filtered',\n",
      " 'bigscience-catalogue-lm-data/lm_indic-pa_wikibooks_filtered',\n",
      " 'bigscience-catalogue-lm-data/lm_indic-ta_wiktionary_filtered',\n",
      " 'bigscience-catalogue-lm-data/lm_nigercongo-ln_wiktionary_filtered',\n",
      " 'bigscience-catalogue-lm-data/lm_es_wikisource_filtered',\n",
      " 'bigscience-catalogue-lm-data/lm_es_wikinews_filtered',\n",
      " 'bigscience-catalogue-lm-data/lm_indic-hi_wikiquote_filtered',\n",
      " 'bigscience-catalogue-lm-data/lm_indic-hi_wikivoyage_filtered',\n",
      " 'bigscience-catalogue-lm-data/lm_indic-mr_wikibooks_filtered',\n",
      " 'bigscience-catalogue-lm-data/lm_indic-mr_wikiquote_filtered',\n",
      " 'bigscience-catalogue-lm-data/lm_indic-ta_wikibooks_filtered',\n",
      " 'bigscience-catalogue-lm-data/lm_indic-ta_wikinews_filtered',\n",
      " 'bigscience-catalogue-lm-data/lm_indic-ur_wikibooks_filtered',\n",
      " 'bigscience-catalogue-lm-data/lm_eu_wiktionary_filtered',\n",
      " 'bigscience-catalogue-lm-data/lm_id_wiktionary_filtered',\n",
      " 'bigscience-catalogue-lm-data/lm_indic-or_wiktionary_filtered',\n",
      " 'bigscience-catalogue-lm-data/lm_nigercongo-rw_wiktionary_filtered',\n",
      " 'bigscience-catalogue-lm-data/lm_nigercongo-ts_wiktionary_filtered',\n",
      " 'bigscience-catalogue-lm-data/lm_es_wikihow_human_instructions',\n",
      " 'bigscience-catalogue-lm-data/lm_fr_wikihow_human_instructionslm_es_wikihow_human_instructions',\n",
      " 'bigscience-catalogue-lm-data/lm_fr_wikiquote_filtered',\n",
      " 'bigscience-catalogue-lm-data/lm_indic-gu_wiktionary_filtered',\n",
      " 'bigscience-catalogue-lm-data/lm_indic-ta_wikiquote_filtered',\n",
      " 'bigscience-catalogue-lm-data/lm_pt_wikibooks_filtered',\n",
      " 'bigscience-catalogue-lm-data/lm_id_wikiquote_filtered',\n",
      " 'bigscience-catalogue-lm-data/lm_indic-as_wiktionary_filtered',\n",
      " 'bigscience-catalogue-lm-data/lm_es_wiktionary_filtered',\n",
      " 'bigscience-catalogue-lm-data/lm_ml_wikisource',\n",
      " 'bigscience-catalogue-lm-data/lm_nigercongo-tn_wiktionary_filtered',\n",
      " 'bigscience-catalogue-lm-data/lm_indic-hi_wikibooks_filtered',\n",
      " 'bigscience-catalogue-lm-data/lm_nigercongo-wo_wikiquote_filtered',\n",
      " 'bigscience-catalogue-lm-data/lm_nigercongo-sw_wiktionary_filtered',\n",
      " 'bigscience-catalogue-lm-data/lm_es_wikiversity_filtered',\n",
      " 'bigscience-catalogue-lm-data/lm_fr_wikibooks_filtered',\n",
      " 'bigscience-catalogue-lm-data/lm_fr_wikinews',\n",
      " 'bigscience-catalogue-lm-data/lm_indic-gu_wikiquote_filtered',\n",
      " 'bigscience-catalogue-lm-data/lm_indic-hi_wikimedia_filtered',\n",
      " 'bigscience-catalogue-lm-data/lm_indic-ml_wiktionary_filtered',\n",
      " 'bigscience-catalogue-lm-data/lm_indic-ur_wiktionary_filtered',\n",
      " 'bigscience-catalogue-lm-data/lm_nigercongo-sw_wikibooks_filtered',\n",
      " 'bigscience-catalogue-lm-data/lm_nigercongo-wo_wiktionary_filtered',\n",
      " 'bigscience-catalogue-lm-data/lm_eu_wikiquote_filtered',\n",
      " 'bigscience-catalogue-lm-data/lm_indic-te_wikibooks_filtered',\n",
      " 'bigscience-catalogue-lm-data/lm_indic-te_wikiquote_filtered',\n",
      " 'bigscience-catalogue-lm-data/lm_pt_wikisource_filtered',\n",
      " 'bigscience-catalogue-lm-data/lm_pt_wikiquote_filtered',\n",
      " 'bigscience-catalogue-lm-data/lm_pt_wikinews_filtered',\n",
      " 'bigscience-catalogue-lm-data/lm_pt_wiktionary_filtered',\n",
      " 'braincode/braincode', 'bryantpwhite/Medieval_Sermons_in_French',\n",
      " 'caltonji/harrypotter_squad_v2_2',\n",
      " 'castorini/msmarco_v1_doc_segmented_doc2query-t5_expansions',\n",
      " 'castorini/msmarco_v2_passage_doc2query-t5_expansions',\n",
      " 'cestwc/adapted-msrcomp', 'cestwc/cnn_dailymail-snippets',\n",
      " 'cgarciae/point-cloud-mnist', 'clarin-pl/cst-wikinews',\n",
      " 'bigscience-catalogue-lm-data/lm_pt_wikiversity_filtered',\n",
      " 'bigscience-catalogue-lm-data/lm_zh_wikiversity_filtered', 'caca/zscczs',\n",
      " 'cem/dnm', 'chau/ink_test01',\n",
      " 'bigscience-catalogue-lm-data/lm_vi_wiktionary_filtered',\n",
      " 'bigscience-catalogue-lm-data/lm_zh_wikivoyage_filtered', 'biu-nlp/qa_align',\n",
      " 'bsc/tecla', 'cakiki/arxiv-metadata',\n",
      " 'castorini/msmarco_v1_doc_doc2query-t5_expansions', 'chitra/contradictionNLI',\n",
      " 'classla/FRENK-hate-sl',\n",
      " 'bigscience-catalogue-lm-data/lm_zh_wiktionary_filtered',\n",
      " 'biu-nlp/qa_discourse', 'bs-modeling-metadata/wiki_dump', 'bsc/xquad-ca',\n",
      " 'castorini/afriberta-corpus', 'cdleong/piglatin-mt', 'classla/reldi_hr',\n",
      " 'biu-nlp/qanom', 'bobbydylan/top2k', 'bstad/github-issues',\n",
      " 'caythuoc/caoduoclieu', 'ccdv/arxiv-classification',\n",
      " 'ccdv/govreport-summarization', 'cemigo/test-data', 'chenghao/mc4_sw_dedup',\n",
      " 'clem/autonlp-data-french_word_detection',\n",
      " 'bs-modeling-metadata/c4_newslike_url_only', 'calvpang/github-issues',\n",
      " 'ccdv/cnn_dailymail', 'cestwc/sac-approx-1', 'classla/reldi_sr',\n",
      " 'classla/ssj500k', 'bigscience-catalogue-lm-data/lm_pt_wikivoyage_filtered',\n",
      " 'bigscience-catalogue-lm-data/tokenization_nigercongo', 'cakiki/args_me',\n",
      " 'castorini/msmarco_v2_doc_doc2query-t5_expansions', 'ccccccc/hdjw_94ejrjr',\n",
      " 'cbrew475/hwu66', 'cestwc/adapted-paranmt5m', 'cestwc/sac',\n",
      " 'cheulyop/ksponspeech', 'chmanoj/ai4bharat__samanantar_processed_te',\n",
      " 'clips/mfaq', 'classla/FRENK-hate-hr', 'biu-nlp/qamr',\n",
      " 'bs-modeling-metadata/OSCAR_Entity_13_000', 'bsc/viquiquad',\n",
      " 'ccdv/pubmed-summarization',\n",
      " 'cdleong/temp_africaNLP_keyword_spotting_for_african_languages', 'cem/film',\n",
      " 'cestwc/asrc', 'bigscience-catalogue-lm-data/lm_zh_wikinews_filtered',\n",
      " 'bigscience-historical-texts/hipe2020', 'bsc/ancora-ca-ner',\n",
      " 'cassandra-themis/QR-AN',\n",
      " 'castorini/msmarco_v2_doc_segmented_doc2query-t5_expansions',\n",
      " 'cestwc/adapted-sentcomp', 'chenyuxuan/wikigold', 'classla/hr500k',\n",
      " 'bigscience-catalogue-lm-data/lm_zh_wikibooks_filtered', 'biu-nlp/qa_srl2018',\n",
      " 'cakiki/paperswithcode', 'cfilt/iitb-english-hindi', 'chenghao/scielo_books',\n",
      " 'classla/FRENK-hate-en',\n",
      " 'bigscience-catalogue-lm-data/lm_vi_wikivoyage_filtered',\n",
      " 'bryantpwhite/Medieval_Texts_in_French', 'cahya/persona_empathetic',\n",
      " 'castorini/triviaqa_gar-t5_expansions', 'ccdv/arxiv-summarization',\n",
      " 'cestwc/adapted-wikismall', 'cestwc/cnn_dailymail-test50',\n",
      " 'chitra/contradiction', 'clarin-pl/nkjp-pos', 'clarin-pl/polemo2-official',\n",
      " 'classla/janes_tag', 'bigscience-catalogue-lm-data/lm_vi_wikisource_filtered',\n",
      " 'bingzhen/test2', 'bitmorse/kickstarter_2022-2021', 'bsc/sts-ca',\n",
      " 'cakiki/en_wiki_quote', 'cameronbc/synthtiger', 'castorini/mr-tydi-corpus',\n",
      " 'cestwc/conjnli', 'chenghao/mc4_eu_dedup',\n",
      " 'bigscience-catalogue-lm-data/lm_pt_wikimedia_filtered',\n",
      " 'birgermoell/sv_corpora_parliament_processed', 'blinoff/medical_qa_ru_data',\n",
      " 'caltonji/harrypotter_squad_v2', 'castorini/nq_gar-t5_expansions',\n",
      " 'ccdv/patent-classification', 'cdminix/iwslt2011',\n",
      " 'cestwc/cnn_dailymail-metaeval100', 'cheulyop/dementiabank', 'chopey/dhivehi',\n",
      " 'clarin-pl/kpwr-ner', 'bigscience-catalogue-lm-data/lm_vi_wikibooks_filtered',\n",
      " 'bigscience-catalogue-lm-data/lm_zh_wikiquote_filtered', 'biu-nlp/qa_srl2020',\n",
      " 'bondarchukb/autonlp-data-iab_classification', 'bwu2018/anime-tagging-dataset',\n",
      " 'castorini/msmarco_v1_passage_doc2query-t5_expansions',\n",
      " 'cemigo/taylor_vs_shakes', 'cestwc/adapted-synonym', 'classla/copa_hr',\n",
      " 'bigscience-catalogue-lm-data/lm_vi_wikiquote_filtered',\n",
      " 'bigscience-catalogue-lm-data/lm_zu_wiktionary',\n",
      " 'bigscience-historical-texts/HIPE2020_sent-split', 'brunodorneles/ner',\n",
      " 'bs-modeling-metadata/website_metadata_c4', 'castorini/mr-tydi',\n",
      " 'cdminix/mgb1', 'cestwc/adapted-wordnet', 'cestwc/sac-na',\n",
      " 'clarin-pl/aspectemo', 'clarin-pl/multiwiki_90k', 'classla/setimes_sr',\n",
      " 'clips/mqa', 'cristinakuo/latino40', 'csebuetnlp/xnli_bn',\n",
      " 'crystina-z/inlang-mrtydi', 'csikasote/bemba_train_dev_sets_processed',\n",
      " 'ctu-aic/csfever', 'cyko/books', 'crich/cider',\n",
      " 'crystina-z/inlang-mrtydi-corpus', 'congpt/dstc23_asr',\n",
      " 'csikasote/sv_corpora_parliament_processed', 'corypaik/coda',\n",
      " 'craffel/openai_lambada', 'csarron/image-captions',\n",
      " 'csikasote/bembaspeech_plus_jw_processed', 'collectivat/tv3_parla',\n",
      " 'crystina-z/mbert-mrtydi-corpus', 'coala/kkk', 'ctgowrie/chessgames',\n",
      " 'coyotte508/dataset', 'comodoro/pscr',\n",
      " 'cointegrated/ru-paraphrase-NMT-Leipzig', 'comodoro/vystadial2016',\n",
      " 'corypaik/prost', 'crystina-z/mbert-mrtydi', 'cylee/github-issues',\n",
      " 'csebuetnlp/xlsum', 'cstrathe435/Task2Dial', 'ctu-aic/csfever_nli',\n",
      " 'ctu-aic/ctkfacts_nli', 'cnrcastroli/aaaa', 'codeceejay/ng_accent',\n",
      " 'csikasote/bemba_trainset_processed', 'davanstrien/embellishments',\n",
      " 'edsas/fgrdtgrdtdr', 'fatvvs/autonlp-data-entity_model_conll2003',\n",
      " 'dalle-mini/open-images', 'dalle-mini/YFCC100M_OpenAI_subset',\n",
      " 'damlab/HIV_V3_bodysite', 'dfki-nlp/few-nerd', 'diiogo/ocr-galdino',\n",
      " 'dispenst/jhghdghfd', 'dongpil/test', 'dvilasuero/ag_news_error_analysis',\n",
      " 'dataset/wikipedia_bn', 'debatelab/deepa2', 'dispix/test-dataset',\n",
      " 'dvilasuero/test-dataset', 'dynabench/dynasent', 'dynabench/qa',\n",
      " 'ebrigham/autonlp-data-csat_classification_fr', 'echarlaix/gqa',\n",
      " 'echarlaix/vqa', 'edsas/grttyi', 'fihtrotuld/asu', 'dasago78/dasago78dataset',\n",
      " 'diwank/silicone-merged', 'dweb/squad_with_cola_scores',\n",
      " 'ehcalabres/ravdess_speech', 'emrecan/stsb-mt-turkish',\n",
      " 'fengzhang/fzTestDatasets', 'dennlinger/klexikon', 'dfgvhxfgv/fghghj',\n",
      " 'dgknrsln/Yorumsepeti', 'diiogo/annotations', 'ebrigham/multi_sentiment',\n",
      " 'eugenesiow/Set14', 'fededeleon/CriteriosClasificacion',\n",
      " 'flax-community/conceptual-12m-multilingual-marian-128',\n",
      " 'davanstrien/ads-test', 'ewdrtfwe/54refyghrtf', 'dalle-mini/wit',\n",
      " 'darentang/generated', 'davanstrien/kitten',\n",
      " 'davanstrien/manuscript_iiif_test', 'debajyotidatta/biosses',\n",
      " 'dk-crazydiv/huggingface-modelhub', 'dvilasuero/ag_news_training_set_losses',\n",
      " 'echarlaix/vqa-lxmert', 'edbeeching/decision_transformer_atari_dqn_replay',\n",
      " 'edbeeching/github-issues', 'flax-community/code_clippy_data',\n",
      " 'dgao/librispeech_nc_test', 'dlb/plue', 'eliza-dukim/load_klue_re',\n",
      " 'damlab/HIV_FLT', 'davanstrien/hipe2020', 'debatelab/aaac', 'eason929/test',\n",
      " 'ebrigham/labels', 'erwanlc/cocktails_recipe', 'eugenesiow/Div2k',\n",
      " 'facebook/multilingual_librispeech', 'darkraipro/recipe-instructions',\n",
      " 'david-wb/zeshel', 'dcfidalgo/test', 'deepset/germandpr', 'diiogo/harem-total',\n",
      " 'diiogo/oscar', 'edge2992/rri_short', 'enelpol/czywiesz',\n",
      " 'espejelomar/code_search_net_python_10000_examples', 'eugenesiow/Urban100',\n",
      " 'evageon/IADD', 'flax-community/conceptual-12m-multilingual-marian-es',\n",
      " 'damlab/HIV_V3_coreceptor', 'dansbecker/hackernews_hiring_posts',\n",
      " 'davanstrien/beyond_test', 'deokgu/fooddetection', 'dragosnicolae555/RoITD',\n",
      " 'ebrigham/asr_files', 'edbeeching/decision_transformer_gym_replay',\n",
      " 'edge2992/rri-short', 'elonmuskceo/wordle',\n",
      " 'emre/Open_SLR108_Turkish_10_hours', 'eugenesiow/PIRM', 'damlab/HIV_PI',\n",
      " 'darentang/sroie', 'davanstrien/hmd_newspapers',\n",
      " 'davidwisdom/reddit-randomness', 'elonmuskceo/persistent-space-dataset',\n",
      " 'ervis/aaa', 'fhamborg/news_sentiment_newsmtsc',\n",
      " 'flax-community/conceptual-12m-multilingual-marian',\n",
      " 'davanstrien/snorkel_genre', 'dev/untitled_imgs', 'dfki-nlp/mobie',\n",
      " 'diiogo/harem-seletivo', 'eugenesiow/BSD100', 'davanstrien/19th-century-ads',\n",
      " 'davanstrien/testpush', 'dog/punks', 'edge2992/github-issues',\n",
      " 'ejjaffe/onion_headlines_2_sources', 'fastjt/fasst', 'davanstrien/ads-im-test',\n",
      " 'davanstrien/test_iiif', 'deepset/germanquad', 'dog/friends-of-mine',\n",
      " 'dram-conflict/horror-scripts', 'edfews/szdfcszdf', 'elricwan/bert_data',\n",
      " 'ervis/qqq', 'erwanlc/cocktails_recipe_no_brand', 'eugenesiow/Set5',\n",
      " 'fighterhitx/test', 'flax-community/conceptual-12m-mbart-50-multilingual',\n",
      " 'davanstrien/test_push_to_hub_image', 'diiogo/brwac-clean',\n",
      " 'echarlaix/gqa-lxmert', 'flax-community/norwegian-clean-dummy',\n",
      " 'flax-community/german_common_crawl', 'flexthink/librig2p-nostress-space',\n",
      " 'flax-community/dummy-oscar-als-32', 'flexthink/librig2p-nostress',\n",
      " 'flexthink/ljspeech', 'florentgbelidji/test-dataset',\n",
      " 'florentgbelidji/test-covid', 'florianbussmann/train_tickets-yu2020pick',\n",
      " 'geekydevu/mlquestions', 'gj1997/trial', 'gsarti/clean_mc4_it',\n",
      " 'hf-internal-testing/fixtures_ocr', 'huggingartists/aaron-watson',\n",
      " 'huggingartists/agata-christie', 'huggingartists/big-russian-boss',\n",
      " 'huggingartists/drake', 'huggingartists/jah-khalib',\n",
      " 'huggingartists/krept-and-konan-bugzy-malone-sl-morisson-abra-cadabra-rv-and-snap-capone',\n",
      " 'huggingartists/led-zeppelin', 'flax-community/german-common-voice-processed',\n",
      " 'flax-sentence-embeddings/stackexchange_math_jsonl',\n",
      " 'flax-community/conceptual-captions-12', 'flax-sentence-embeddings/paws-jsonl',\n",
      " 'fuliucansheng/pascal_voc', 'ghomasHudson/hotpotExtended', 'habu24/fdz',\n",
      " 'hf-internal-testing/fixtures_ade20k', 'huggingartists/david-bowie',\n",
      " 'huggingartists/deep-purple', 'huggingartists/egor-kreed',\n",
      " 'huggingartists/elton-john', 'huggingartists/galenskaparna-and-after-shave',\n",
      " 'huggingartists/jim-morrison', 'huggingartists/joji',\n",
      " 'huggingartists/katy-perry', 'huggingartists/kehlani',\n",
      " 'huggingartists/lil-skies', 'frtna/deneme', 'gigant/african_accented_french',\n",
      " 'herbievore/test', 'huggingartists/5nizza', 'huggingartists/as-i-lay-dying',\n",
      " 'huggingartists/burzum', 'huggingartists/dababy', 'huggingartists/duran-duran',\n",
      " 'huggingartists/gizmo', 'huggingartists/hillsong-worship',\n",
      " 'huggingartists/imagine-dragons', 'huggingartists/lady-gaga',\n",
      " 'huggingartists/lil-baby', 'flexudy/OMQD', 'formu/CVT',\n",
      " 'frtna/es_it_Results-base-OPUS_Tatoeba', 'fuyun1107/clip-for-vlp',\n",
      " 'gagan3012/fake-news', 'gayanin/pubmed-gastro-summarisation',\n",
      " 'gcaillaut/citeseer', 'gcaillaut/frwiki_good_pages_el',\n",
      " 'ghomasHudson/character_id', 'hartzeer/kdfjdshfje', 'huggingartists/asdfgfa',\n",
      " 'huggingartists/big-baby-tape', 'huggingartists/bob-dylan',\n",
      " 'huggingartists/boris-grebenshikov', 'huggingartists/chief-keef',\n",
      " 'huggingartists/egor-letov', 'huggingartists/kesha',\n",
      " 'huggingartists/lil-uzi-vert', 'flax-community/multilingual-vqa',\n",
      " 'frtna/sabahaKKarsi', 'gfissore/arxiv-abstracts-2021', 'holylovenia/recam',\n",
      " 'hong/autonlp-data-zoo_test',\n",
      " 'huggingFaceUser02/air21_grp13_inference_results', 'huggingartists/bones',\n",
      " 'huggingartists/dua-lipa', 'huggingartists/florence-the-machine',\n",
      " 'huggingartists/idktime',\n",
      " 'flax-sentence-embeddings/Gender_Bias_Evaluation_Set', 'fuliucansheng/mininlp',\n",
      " 'henrychess/gutenberg-fulltext-dirty-locc',\n",
      " 'hf-internal-testing/librispeech_asr_dummy', 'howardmiddleton382/wgweagwege',\n",
      " 'huggingartists/100-gecs', 'huggingartists/abba', 'huggingartists/ajr',\n",
      " 'huggingartists/baklan', 'huggingartists/billy-talent',\n",
      " 'huggingartists/bushido-zho', 'huggingartists/coldplay',\n",
      " 'huggingartists/denderty', 'huggingartists/dzhizus',\n",
      " 'huggingartists/ghostmane', 'fuliucansheng/coco', 'fvillena/cantemist',\n",
      " 'gayanin/pubmed-gastro-paraphrasing', 'gcaillaut/cora', 'guoqiang/cuge',\n",
      " 'hf-test/sv_corpora_parliament_processed', 'hfface/poopi',\n",
      " 'huggingartists/alan-walker', 'huggingartists/architects',\n",
      " 'huggingartists/arctic-monkeys', 'huggingartists/billie-eilish',\n",
      " 'huggingartists/ddt', 'huggingartists/ghostemane',\n",
      " 'huggingartists/grigory-leps', 'huggingartists/hyuna',\n",
      " 'huggingartists/lil-nas-x', 'huggingartists/25-17',\n",
      " 'huggingartists/death-grips', 'huggingartists/ed-sheeran',\n",
      " 'huggingartists/enya', 'huggingartists/grimes', 'huggingartists/john-k-samson',\n",
      " 'huggingartists/kendrick-lamar', 'huggingartists/king-krule',\n",
      " 'huggingartists/kishlak', 'florentgbelidji/test-3', 'frahman/github-issues',\n",
      " 'frtna/jwt300_mt', 'frtna/ted_mt', 'frtna/test2', 'fuliucansheng/minicoco',\n",
      " 'gayanin/pubmed-gastro-maskfilling', 'german-nlp-group/german_common_crawl',\n",
      " 'ghadeermobasher/BC5CDR-Chemical-Disease', 'gsarti/change_it',\n",
      " 'fractalego/QA_to_statements', 'gsarti/flores_101', 'frtna/opensubtitles_mt',\n",
      " 'hf-internal-testing/librispeech_asr_demo', 'fulai/DuReader',\n",
      " 'howardmiddleton382/esuyertusutr', 'huggingartists/bill-wurtz',\n",
      " 'huggingartists/coin', 'huggingartists/face', 'huggingartists/gunna',\n",
      " 'huggingartists/lazy-jay', 'ghadeermobasher/CRAFT-Chem',\n",
      " 'gorkemgoknar/tr_ted_talk_translated', 'gpt3mix/sst2', 'gusu/mymodel1',\n",
      " 'huggingartists/5opka', 'huggingartists/ariana-grande',\n",
      " 'huggingartists/bladee', 'huggingartists/enigma',\n",
      " 'huggingartists/freddie-dredd', 'huggingartists/justin-bieber',\n",
      " 'flax-sentence-embeddings/stackexchange_titlebody_best_voted_answer_jsonl',\n",
      " 'frtna/test', 'huggingartists/6ix9ine', 'huggingartists/booker',\n",
      " 'huggingartists/chester-bennington', 'huggingartists/cocomelon',\n",
      " 'huggingartists/dermot-kennedy', 'huggingartists/fascinoma',\n",
      " 'huggingartists/freelancer', 'huggingartists/gorillaz',\n",
      " 'huggingartists/john-lennon', 'huggingartists/kasta', 'huggingartists/kizaru',\n",
      " 'flax-sentence-embeddings/stackexchange_title_body_jsonl',\n",
      " 'flax-sentence-embeddings/stackexchange_xml', 'fvillena/spanish_diagnostics',\n",
      " 'gagan3012/grover-data', 'gar1t/test', 'gpt3mix/rt20',\n",
      " 'hf-internal-testing/test-dataset',\n",
      " 'huggingFaceUser02/air21_grp13_tokenized_results', 'huggingartists/adele',\n",
      " 'huggingartists/andre-3000', 'huggingartists/doja-cat',\n",
      " 'huggingartists/krechet', 'huggingartists/kurt-cobain',\n",
      " 'flax-sentence-embeddings/stackexchange_titlebody_best_and_down_voted_answer_jsonl',\n",
      " 'flxclxc/encoded_drug_reviews', 'gabella/demo_data_raw',\n",
      " 'flax-sentence-embeddings/stackexchange_title_best_voted_answer_jsonl',\n",
      " 'florianbussmann/FUNSD-vu2020revising', 'formermagic/github_python_1m',\n",
      " 'geninhu/vi_vivos-cv-tts-fpt_processed', 'gfigueroa/wikitext_processed',\n",
      " 'ghomasHudson/ao3_style_change', 'gigant/romanian_speech_synthesis_0_8_1',\n",
      " 'gcaillaut/pubmed', 'hf-internal-testing/cats_vs_dogs_sample',\n",
      " 'hf-internal-testing/transformers-metadata', 'honghungle/dataset',\n",
      " 'huggingartists/ariya', 'ghomasHudson/long_contra_pro',\n",
      " 'huggingartists/bryan-adams', 'huggingartists/ghost',\n",
      " 'gigant/m-ailabs_speech_dataset_fr', 'huggingartists/green-day',\n",
      " 'gigant/ro_corpora_parliament_processed', 'huggingartists/gspd',\n",
      " 'huggingartists/kojey-radical', 'gmnlp/tico19',\n",
      " 'hf-internal-testing/fixtures_docvqa', 'huggingartists/21-savage',\n",
      " 'huggingartists/aikko', 'huggingartists/arash',\n",
      " 'huggingartists/bring-me-the-horizon', 'huggingartists/cardi-b',\n",
      " 'huggingartists/eminem', 'huggingartists/fear-factory',\n",
      " 'huggingartists/kanye-west', 'geninhu/vi_opus100_processed',\n",
      " 'ghomasHudson/vlsp', 'gsarti/itacola', 'gsarti/wmt_vat',\n",
      " 'huggingartists/aimer', 'huggingartists/braii',\n",
      " 'huggingartists/bruce-springsteen', 'huggingartists/dj-artem-artemov',\n",
      " 'huggingartists/epic-rap-battles-of-history',\n",
      " 'huggingartists/i-dont-know-how-but-they-found-me',\n",
      " 'huggingartists/joni-mitchell', 'flax-community/swahili-safi',\n",
      " 'gagan3012/vizwiz', 'ghomasHudson/muld',\n",
      " 'hf-internal-testing/fixtures_image_utils',\n",
      " 'hf-internal-testing/fixtures_nlvr2', 'hf-internal-testing/fixtures_sintel',\n",
      " 'holodata/sensai', 'huggingartists/50-cent', 'huggingartists/armin-van-buuren',\n",
      " 'huggingartists/asper-x', 'huggingartists/kipelov', 'huggingartists/lil-peep',\n",
      " 'huggingartists/macan', 'huggingartists/michael-jackson',\n",
      " 'huggingartists/lizer', 'huggingartists/loverance',\n",
      " 'huggingartists/little-big', 'huggingartists/loud-luxury',\n",
      " 'huggingartists/nervy', 'huggingartists/lumen', 'huggingartists/mayot',\n",
      " 'huggingartists/melanie-martinez', 'huggingartists/nautilus-pompilius',\n",
      " 'huggingartists/obladaet', 'huggingartists/og-buda',\n",
      " 'huggingartists/red-hot-chili-peppers', 'huggingartists/slava-marlow',\n",
      " 'huggingartists/the-the-pigs', 'huggingface/DataMeasurementsFiles',\n",
      " 'ia-bentebib/conv_ai_2_fr', 'jamescalam/climate-fever-similarity',\n",
      " 'jcmc/ga_mc4_processed', 'jegorkitskerkin/dutch-snli', 'jianhong/dateset2',\n",
      " 'jinmang2/pred', 'huggingartists/logic', 'huggingartists/miyagi',\n",
      " 'huggingartists/mnogoznaal', 'huggingartists/ot-rus',\n",
      " 'huggingartists/radiohead', 'huggingartists/rihanna',\n",
      " 'huggingartists/sektor-gaza', 'huggingartists/shadowraze',\n",
      " 'huggingartists/system-of-a-down', 'huggingartists/tanzy-minus',\n",
      " 'huggingartists/veggietales', 'huggingartists/vladimir-vysotsky',\n",
      " 'hyeonduck/your_dataset_name', 'imvladikon/knesset_meetings_corpus',\n",
      " 'jcmc/ga-IE_opus_dgt_train', 'jeffboudier/testing3',\n",
      " 'jsfactory/mental_health_reddit_posts', 'huggingartists/lovv66',\n",
      " 'huggingartists/mashina-vremeni', 'huggingartists/max-korzh',\n",
      " 'huggingartists/metallica', 'huggingartists/mikhail-gorshenev',\n",
      " 'huggingartists/our-last-night', 'huggingartists/t-fest',\n",
      " 'huggingartists/taylor-swift', 'husnu/tquad-v1v2',\n",
      " 'ia-bentebib/daily_dialog_fr',\n",
      " 'jakeazcona/short-text-labeled-emotion-classification',\n",
      " 'jeree/fr_corpora_parliament_processed', 'jimregan/clarinpl_sejmsenat',\n",
      " 'jimregan/lasid', 'huggingartists/queen', 'huggingartists/the-69-eyes',\n",
      " 'huggingartists/tony-raut-and-garry-topor', 'huggingartists/zemfira',\n",
      " 'ia-bentebib/diafrag', 'jglaser/binding_affinity', 'huggingartists/nirvana',\n",
      " 'huggingartists/rage-against-the-machine', 'huggingartists/tiamat',\n",
      " 'huggingartists/till-lindemann', 'huggingartists/tool',\n",
      " 'huggingface/documentation-images', 'iohadrubin/mtop',\n",
      " 'jhonparra18/spanish_billion_words_clean', 'jimregan/clarinpl_studio',\n",
      " 'julien-c/persistent-space-dataset', 'juny116/few_glue',\n",
      " 'huggingartists/rammstein', 'huggingartists/rex-orange-county',\n",
      " 'huggingartists/sundara-karma', 'huggingartists/tedeschi-trucks-band',\n",
      " 'huggingartists/the-sugarcubes', 'imthanhlv/binhvq_news21_raw',\n",
      " 'jakeazcona/short-text-multi-labeled-emotion-classification',\n",
      " 'jgammack/THESES-abstracts', 'jozierski/ecomwebtexts-pl',\n",
      " 'julien-c/reactiongif', 'huggingartists/mc-ride', 'huggingartists/mumiy-troll',\n",
      " 'huggingartists/oasis', 'huggingartists/oxxxymiron',\n",
      " 'huggingartists/pink-floyd', 'huggingartists/platina',\n",
      " 'huggingartists/slava-kpss', 'huggingartists/sum-41',\n",
      " 'huggingartists/v-x-v-prince', 'jamol1741/test_dataset',\n",
      " 'jgammack/SAE-door-abstracts', 'jiminsun/atc0_demo',\n",
      " 'huggingartists/machine-gun-kelly', 'huggingartists/mikhail-krug',\n",
      " 'huggingartists/morgenshtern', 'huggingartists/ramil',\n",
      " 'huggingartists/the-velvet-underground', 'huggingartists/totpoc',\n",
      " 'huggingartists/yung-lean', 'huggingartists/yung-plague',\n",
      " 'huggingface/transformers-metadata', 'jakemarcus/MATH',\n",
      " 'huggingartists/noize-mc', 'huggingartists/sqwore',\n",
      " 'huggingartists/suicideoscope', 'huggingartists/viktor-tsoi',\n",
      " 'ia-bentebib/dialog_re_fr', 'jdepoix/junit_test_completion',\n",
      " 'jfrenz/legalglue', 'jiyoojeong/targetizer',\n",
      " 'julien-c/dummy-dataset-from-colab', 'huggingartists/lorde',\n",
      " 'huggingartists/madonna', 'huggingartists/linkin-park',\n",
      " 'huggingartists/marillion', 'huggingartists/tom-waits',\n",
      " 'huggingartists/nicki-minaj', 'huggingartists/placebo',\n",
      " 'huggingartists/scriptonite', 'huggingartists/the-gazette',\n",
      " 'huggingface-course/codeparrot-ds-train', 'ia-bentebib/doc2dial_fr',\n",
      " 'indonesian-nlp/id_personachat', 'jel/covid', 'jinmang2/load_klue_re',\n",
      " 'juniorrios/roi_leish_test', 'huggingartists/lyapis-trubetskoy',\n",
      " 'huggingartists/maroon-5', 'huggingartists/mating-ritual',\n",
      " 'huggingartists/post-malone', 'huggingartists/selena-gomez',\n",
      " 'huggingartists/the-king-and-the-jester', 'huggingartists/van-morrison',\n",
      " 'iamshsdf/sssssssssss', 'iarfmoose/qa_evaluator', 'iohadrubin/smcalflow',\n",
      " 'ixxi/my_v1', 'joelito/ler', 'juliensimon/autonlp-data-song-lyrics-demo',\n",
      " 'huggingartists/skillet', 'huggingartists/sugar-ray',\n",
      " 'huggingartists/the-grateful-dead', 'huggingartists/upsahl', 'huyongquan/d2',\n",
      " 'ia-bentebib/empathetic_dialogues_fr', 'indonesian-nlp/id_newspapers_2018',\n",
      " 'jaimin/wav2vec2-large-xlsr-gujarati-demo', 'jinmang2/common-sense-mrc',\n",
      " 'huggingartists/pharaoh', 'huggingartists/pop-smoke', 'huggingartists/sam-kim',\n",
      " 'huggingartists/sergei-letov', 'huggingartists/sia',\n",
      " 'huggingartists/the-avalanches', 'huggingface-course/codeparrot-ds-valid',\n",
      " 'ia-bentebib/conv_ai_3_fr', 'ju-bezdek/conll2003-SK-NER',\n",
      " 'huggingartists/twenty-one-pilots', 'huggingface/cats-image',\n",
      " 'huggingface/task-page-images', 'imthanhlv/binhvq_dedup',\n",
      " 'jacobbieker/open-crab-sample', 'jimregan/foinse', 'jinmang2/KorQuADv1',\n",
      " 'jinmang2/medical-mask', 'joelito/sem_eval_2010_task_8', 'jonfd/ICC',\n",
      " 'jpcorb20/multidogo', 'huggingartists/muse', 'huggingartists/mf-doom',\n",
      " 'huggingartists/peter-paul-and-mary', 'huggingartists/sid-sriram',\n",
      " 'huggingartists/the-beatles', 'huggingartists/tyler-the-creator',\n",
      " 'huggingartists/xxxtentacion', 'huggingface/label-files', 'husnu/tquad2',\n",
      " 'iarfmoose/question_generator', 'jgammack/MTL-abstracts', 'jianhong/dateset1',\n",
      " 'jmamou/augmented-glue-sst2', 'huggingartists/phish',\n",
      " 'huggingartists/pyrokinesis', 'huggingartists/rocket',\n",
      " 'huggingartists/snoop-dogg', 'huggingartists/the-notorious-big',\n",
      " 'huggingartists/the-weeknd', 'huggingartists/travis-scott',\n",
      " 'huggingartists/young-thug', 'hyeonduck/whiteboard_abuse_dataset',\n",
      " 'image-search-2/unsplash_lite_image_dataset', 'jfarray/TFM', 'jhqwqq/2',\n",
      " 'jlh/coco', 'johnpaulbin/autonlp-data-asag-v2',\n",
      " 'juliensimon/autonlp-data-song-lyrics', 'kartikay/review-summarizer',\n",
      " 'kenlevine/CUAD', 'kmfoda/booksum', 'kmfoda/name_finder_v1',\n",
      " 'kmyoo/klue-tc-dev', 'laion/laion400m', 'lewtun/github-issues', 'lhoestq/test',\n",
      " 'lhoestq/test2', 'linhd-postdata/stanzas', 'lukasmasuch/my-test-repo-3',\n",
      " 'luofengge/testDataset', 'luozhouyang/dureader', 'lysandre/image-to-text',\n",
      " 'justinqbui/covid_fact_checked_polifact', 'lewtun/test',\n",
      " 'lukasmasuch/my-test-repo-4', 'lvwerra/important_dataset',\n",
      " 'kingabzpro/tt_corpora_parliament_processed',\n",
      " 'lewtun/bulk-superb-s3p-superb-49606', 'lewtun/gem-test-references',\n",
      " 'lgrobol/openminuscule', 'lhoestq/test_commit_descriptions', 'liweili/c4_200m',\n",
      " 'lvwerra/codeparrot-valid', 'justinqbui/covid_fact_checked_google_api',\n",
      " 'katanaml/cord', 'kevinassobo/sales_2015_dataset', 'kiyoung2/temp',\n",
      " 'krandiash/youtubemix', 'kroshan/BioASQ', 'lewtun/binary_classification_dummy',\n",
      " 'liam168/nlp_c4_sentiment', 'lvwerra/codeparrot-clean-train',\n",
      " 'lvwerra/codeparrot-clean-valid', 'lysandre/my-cool-dataset',\n",
      " 'knilakshan20/wikigold', 'kresnik/librispeech_asr_test', 'laion/filtered-wit',\n",
      " 'laugustyniak/abusive-clauses-pl', 'lukasmasuch/test-3',\n",
      " 'luomingshuang/GRID_text', 'lvwerra/red-wine', 'kingabzpro/Rick-bot-flags',\n",
      " 'kingabzpro/pan_corpora_parliament_processed',\n",
      " 'lavis-nlp/german_legal_sentences', 'leoapolonio/AMI_Meeting_Corpus',\n",
      " 'leonadase/mycoll3', 'lewtun/s3prl-sd-dummy',\n",
      " 'lewtun/text_classification_dummy', 'lucien/voacantonesed',\n",
      " 'lukesjordan/worldbank-project-documents',\n",
      " 'lvwerra/codeparrot-valid-clean-minimal', 'lvwerra/github-alphacode',\n",
      " 'lvwerra/github-code', 'katoensp/VR-OP', 'kiamehr74/CoarseWSD-20',\n",
      " 'kingabzpro/ga_corpora_parliament_processed', 'krandiash/sc09',\n",
      " 'kresnik/zeroth_korean', 'laion/laion_100m_vqgan_f8', 'lewtun/benchmark-test',\n",
      " 'lewtun/drug-reviews', 'lukasmasuch/test-2',\n",
      " 'luozhouyang/question-answering-datasets', 'k-halid/ar',\n",
      " 'khalidsaifullaah/detecThreats', 'khursani8/sani', 'kleinay/qa_srl',\n",
      " 'krandiash/beethoven', 'larcane/ko-WIT', 'lewtun/gem-test-predictions',\n",
      " 'lewtun/mnist-preds', 'lhoestq/wikipedia_bn', 'lijingxin/github-issues',\n",
      " 'lkiouiou/o9ui7877687', 'lohanna/testedjkcxkf', 'lukasmasuch/test',\n",
      " 'lvwerra/abc', 'kroshan/qa_evaluator', 'leiping/jj',\n",
      " 'lewtun/my-awesome-dataset', 'lhoestq/demo1', 'lijingxin/squad_zen',\n",
      " 'limjiayi/hateful_memes_expanded',\n",
      " 'llangnickel/long-covid-classification-data', 'lsb/million-english-numbers',\n",
      " 'karinev/lanuitdudroit', 'kaushikacharya/github-issues', 'keshan/wit-dataset',\n",
      " 'kevinjesse/ManyTypes4TypeScript', 'kudo-research/mustc-en-es-text-only',\n",
      " 'lara-martin/Scifi_TV_Shows', 'lewtun/asr_dummy',\n",
      " 'lkndsjkndgskjngkjsndkj/jsjdjsdvkjvszlhdskb', 'lpsc-fiuba/melisa',\n",
      " 'lucien/wsaderfffjjjhhh', 'luofengge/mydata',\n",
      " 'keshan/large-sinhala-asr-dataset', 'kevinlu1248/personificationgen',\n",
      " 'kingabzpro/ar_corpora_parliament_processed', 'layboard/layboard.in',\n",
      " 'lewtun/gem-sub-03', 'lhoestq/custom_squad', 'lhoestq/test_zip_txt',\n",
      " 'loveguruji609/dfdfsdfsdfsdfsdfsd', 'lucien/sciencemission', 'lvwerra/test',\n",
      " 'k0t1k/test', 'kiyoung2/aistage-mrc', 'leiping/teeee', 'lewtun/asr-preds-test',\n",
      " 'lewtun/github-issues-test', 'lidia/202111', 'lijingxin/squad_zh_1',\n",
      " 'lorsorlah/Dadedadedam', 'luozhouyang/kgclue-knowledge', 'leonadase/fdner',\n",
      " 'lewtun/gem-multi-dataset-predictions', 'lhoestq/tmp', 'linhd-postdata/pulpo',\n",
      " 'lucio/common_voice_eval', 'keshan/clean-si-mc4',\n",
      " 'keshan/multispeaker-tts-sinhala', 'kingabzpro/savtadepth-flags',\n",
      " 'lsb/ancient-latin-passages', 'luomingshuang/GRID_audio', 'lvwerra/abc-test',\n",
      " 'lvwerra/codeparrot-clean', 'lvwerra/repo-images', 'kaka10/fgfgfgfg',\n",
      " 'lhoestq/conll2003', 'lhoestq/squad', 'lkarjun/Malayalam-Articles',\n",
      " 'lvwerra/lm_ar_wikipedia', 'khanbaba/online_love', 'kowndinya23/bert-dataset',\n",
      " 'kyryl0s/ukbbc', 'lc-col/sv_corpora_parliament_processed',\n",
      " 'lincoln/newsquadfr', 'luomingshuang/grid_lip_160_80',\n",
      " 'maindadwitiya/weather_dataset', 'mariosasko/dummy_test', 'martodaniel/terere',\n",
      " 'medzaf/test', 'microsoft/codexglue_method_generation', 'midas/kptimes',\n",
      " 'maximedb/wow', 'midas/duc2001', 'midas/ldke3k_small', 'morganchen1007/1216',\n",
      " 'moumeneb1/filtered_300', 'mozilla-foundation/common_voice_3_0',\n",
      " 'mammut/mammut-corpus-venezuela', 'meghanabhange/chaii', 'merve/qqp',\n",
      " 'metopedia/autonlp-data-Multiple-Source-Language-Consensus-Reconstruction-o',\n",
      " 'midas/kpcrowd', 'midas/test_ldkp', 'mishig/sample_images',\n",
      " 'mksaad/Arabic_news', 'moumeneb1/fr_lm_dataset',\n",
      " 'mozilla-foundation/common_voice_6_0', 'mozilla-foundation/common_voice_7_0',\n",
      " 'maji/npo_mission_statement_ucf', 'malay-huggingface/pembalakan',\n",
      " 'manandey/OSCAR_Entity_Toy', 'm3hrdadfi/recipe_nlg_lite',\n",
      " 'meghanabhange/hitalmsandbox', 'michaelbenayoun/wikipedia-bert-128',\n",
      " 'illuin/fr_corpora_parliament_processed', 'midas/ldkp3k', 'markscrivo/OddsOn',\n",
      " 'masked-neuron/qb', 'morganchen1007/1216_00',\n",
      " 'moumeneb1/large_vocabulary_dataset', 'merty/nateraw-food101-copy',\n",
      " 'mozilla-foundation/common_voice_1_0', 'merve/coco', 'midas/nus',\n",
      " 'mmm-da/rutracker_anime_torrent_titles', 'mnaylor/evaluating-student-writing',\n",
      " 'moshew/my_raft', 'moxi43/github-issues',\n",
      " 'mozilla-foundation/common_voice_5_0', 'metaeval/linguisticprobing',\n",
      " 'midas/kp20k', 'midas/ldke3k_medium', 'midas/pubmed',\n",
      " 'midas/semeval2017_ke_tagged', 'mirari/sv_corpora_parliament_processed',\n",
      " 'mostol/wiktionary-ipa', 'moumeneb1/osc_processed_lm',\n",
      " 'manandey/entity_experiments', 'manifoldix/swg_parliament_fhnw',\n",
      " 'masked-neuron/ccd', 'meghanabhange/hitalm141021', 'meghanabhange/talm141021',\n",
      " 'midas/oagkx', 'ml6team/cnn_dailymail_nl',\n",
      " 'mozilla-foundation/common_voice_4_0', 'makanan/umich', 'marinone94/nst_no',\n",
      " 'mariosasko/PetImages', 'maximedb/vaccinchat_retrieval',\n",
      " 'mbateman/github-issues', 'merve/folk-mythology-tales', 'metaeval/crowdflower',\n",
      " 'metaeval/ethics', 'mideind/icelandic-common-crawl-corpus-IC3',\n",
      " 'mideind/icelandic-error-corpus-IceEC', 'ml6team/xsum_nl', 'mnemlaghi/widdd',\n",
      " 'moumeneb1/French_arpa_lm', 'matteopilotto/github-issues',\n",
      " 'metalearning/kaggale-nlp-tutorial', 'midas/krapivin', 'midas/www',\n",
      " 'mad/IndonesiaNewsDataset', 'majod/CleanNaturalQuestionsDataset',\n",
      " 'maximedb/paws-x-all', 'maximedb/vaccinchat', 'midas/inspec', 'midas/kdd',\n",
      " 'mohamed-illiyas/wav2vec2-base-lj-demo-colab', 'marinone94/nst_sv',\n",
      " 'maximedb/mcqa_light', 'maximedb/mfaq_light', 'meghanabhange/hilm141021',\n",
      " 'midas/ldkp3k_small', 'miesnerjacob/github-issues',\n",
      " 'mldmm/glass_alloy_composition', 'morganchen1007/1215', 'moumeneb1/filtered',\n",
      " 'merve/poetry', 'metamong1/summarization_optimization',\n",
      " 'morganchen1007/test_1213_00',\n",
      " 'manu/fr_corpora_parliament_processed-lowercased',\n",
      " 'metaeval/blimp_classification', 'midas/semeval2017',\n",
      " 'mmcquade11-test/reuters-for-summarization-two',\n",
      " 'mozilla-foundation/common_voice_6_1',\n",
      " 'mammut/mammut-corpus-venezuela-test-set', 'manishk31/Demo',\n",
      " 'masked-neuron/amazon', 'maxmoynan/SemEval2017-Task4aEnglish',\n",
      " 'metaeval/colors', 'midas/citeulike180', 'midas/semeval2010_ke_tagged',\n",
      " 'moumeneb1/testing', 'mozilla-foundation/common_voice_2_0',\n",
      " 'mattchurgin/sv_corpora_parliament_processed', 'midas/inspec_ke_tagged',\n",
      " 'midas/ldkp10k', 'midas/openkp', 'mikeee/model-z',\n",
      " 'mozilla-foundation/common_voice_5_1', 'manifoldix/sg_testset_fhnw',\n",
      " 'metaeval/recast', 'midas/cstr', 'midas/semeval2010',\n",
      " 'mozilla-foundation/common_voice_8_0',\n",
      " 'mpierrau/sv_corpora_parliament_processed', 'mr-robot/ec',\n",
      " 'mrm8488/goemotions', 'mrojas/body', 'mrm8488/fake-news', 'mrojas/family',\n",
      " 'mrojas/disease', 'mrojas/finding', 'mrojas/procedure', 'mrojas/abbreviation',\n",
      " 'mrojas/medication', 'msarmi9/korean-english-multitarget-ted-talks-task',\n",
      " 'msivanes/github-issues', 'mrp/Thai-Semantic-Textual-Similarity-Benchmark',\n",
      " 'mswedrowski/multiwiki_90k', 'muhtasham/autonlp-data-Doctor_DE',\n",
      " 'mulcyber/europarl-mono', 'mtfelix/datasetdemo', 'mtlew/0001_Angry_test',\n",
      " 'munggok/mc4-id', 'mustafa12/edaaaas', 'mustafa12/db_ee', 'mvarma/medwiki',\n",
      " 'mustafa12/thors', 'mvip/tr_corpora_parliament_processed_non_hatted',\n",
      " 'nateraw/auto-exp-2', 'nateraw/auto-cats-and-dogs', 'nateraw/cats-and-dogs',\n",
      " 'nateraw/beans', 'nateraw/blahblah', 'nateraw/bulk-dummy',\n",
      " 'nateraw/dummy-csv-dataset', 'nateraw/cats_vs_dogs', 'nateraw/beans_old',\n",
      " 'nateraw/imagefolder', 'nateraw/huggingpics-data-2', 'nateraw/filings-10k',\n",
      " 'nateraw/huggingpics-data', 'nateraw/image-folder', 'nateraw/food101',\n",
      " 'nateraw/img-demo', 'nateraw/food101_old', 'nateraw/imagenette',\n",
      " 'naver-clova-conversation/klue-tc-dev-tsv', 'nateraw/test',\n",
      " 'naver-clova-conversation/klue-tc-tsv', 'nathanlsl/news',\n",
      " 'nateraw/rock_paper_scissors', 'nateraw/wit', 'nateraw/sync_food101',\n",
      " 'naver-clova-conversation-ul/klue-tc-dev',\n",
      " 'ncats/GARD_EpiSet4TextClassification', 'navjordj/nak_nb',\n",
      " 'ncduy/github-issues', 'ncats/EpiSet4BinaryClassification',\n",
      " 'ncats/EpiSet4NER-v1', 'ncduy/mt-en-vi', 'ncoop57/rico_captions',\n",
      " 'ncoop57/athena_data', 'ncoop57/csnc_human_judgement',\n",
      " 'neelalex/raft-predictions', 'nferruz/UR50_2021_04_text',\n",
      " 'nferruz/UR50_2021_04', 'newsha/PQuAD', 'ngdiana/uaspeech',\n",
      " 'ngdiana/uaspeech_severity_high', 'ngdiana/uaspeech_severity',\n",
      " 'ngdiana/hu_severity', 'ngdiana/uaspeech_severity_low',\n",
      " 'nickmuchi/fin_dataset', 'nickmuchi/trade-the-event-finance',\n",
      " 'nickmuchi/financial-classification', 'nid989/FNC-1', 'nielsr/XFUN',\n",
      " 'nielsr/FUNSD_layoutlmv2', 'nielsr/funsd', 'nlpconnect/dpr-nq-reader-v2',\n",
      " 'nlpconnect/dpr-nq-reader', 'nlpconnect/ms_marco_subset_v2.1',\n",
      " 'nlpyeditepe/tr-qnli', 'nlpufg/brwac-pt', 'nlpufg/oscar-pt',\n",
      " 'nlpyeditepe/tr_rte', 'nlpufg/brwac', 'nntadotzip/iuQAchatbot',\n",
      " 'nouamanetazi/ar_common_voice_processed', 'nouamanetazi/ar_opus100_processed',\n",
      " 'notional/notional-python', 'nthngdy/openwebtext_split', 'ntutexas/amazon',\n",
      " 'nthngdy/ccnews_split', 'nthngdy/bananas', 'ntagg/data1',\n",
      " 'nucklehead/ht-voice-dataset', 'nykodmar/cs_corpora_parliament_processed',\n",
      " 'oelkrise/CRT', 'openclimatefix/eumetsat_uk_hrv', 'openclimatefix/hrrr',\n",
      " 'openclimatefix/goes', 'openclimatefix/goes-l2', 'openclimatefix/goes-mrms',\n",
      " 'openclimatefix/gfs', 'openclimatefix/nimrod-uk-1km',\n",
      " 'osanseviero/codeparrot-train', 'osanseviero/llama_test', 'osanseviero/test',\n",
      " 'oscar-corpus/OSCAR-2109', 'ought/raft-submission', 'ought/raft',\n",
      " 'outman/test', 'patrickvonplaten/librispeech_asr_dummy', 'peixian/rtGender',\n",
      " 'polinaeterna/test_opus', 'projecte-aina/tecla', 'piEsposito/br-quad-2.0',\n",
      " 'projecte-aina/sts-ca', 'papluca/language-identification',\n",
      " 'projecte-aina/vilaquad', 'pelican/test_100', 'persiannlp/parsinlu_entailment',\n",
      " 'phongdtd/VinDataVLSP', 'piEsposito/squad_20_ptbr', 'pdesoyres/test',\n",
      " 'phongdtd/youtube_casual_audio', 'pietrolesci/ag_news',\n",
      " 'polinaeterna/dummy_dataset', 'proffttega/ILLUMINATI',\n",
      " 'proffttega/join_illuminati_to_become_rich', 'MLCommons/ml_spoken_words',\n",
      " 'pritamdeka/cord-19-abstract', 'priya3301/test', 'proffttega/doc',\n",
      " 'projecte-aina/ancora-ca-ner', 'persiannlp/parsinlu_translation_fa_en',\n",
      " 'philschmid/prompted-germanquad', 'phonlab-tcd/cngv1', 'project2you/asr',\n",
      " 'persiannlp/parsinlu_translation_en_fa', 'piEsposito/br_quad_20',\n",
      " 'pierreant-p/jcvd-or-linkedin', 'pierresi/cord',\n",
      " 'poperson1205/mrtydi-v1.1-korean-fixed', 'priya3301/Graduation_admission',\n",
      " 'projecte-aina/parlament_parla', 'peixian/equity_evaluation_corpus',\n",
      " 'projecte-aina/casum', 'projecte-aina/catalan_government_crawling',\n",
      " 'patrickvonplaten/common_voice_processed_turkish',\n",
      " 'persiannlp/parsinlu_query_paraphrasing', 'philschmid/test_german_squad',\n",
      " 'phoelti/squad_dev', 'princeton-nlp/datasets-for-simcse',\n",
      " 'projecte-aina/catalan_general_crawling',\n",
      " 'projecte-aina/catalan_textual_corpus', 'patrickvonplaten/librispeech_local',\n",
      " 'phonlab-tcd/corpuscrawler-ga', 'pritamdeka/cord-19-fulltext',\n",
      " 'projecte-aina/teca', 'pasinit/scotus',\n",
      " 'parivartanayurveda/Malesexproblemsayurvedictreatment', 'pasinit/xlwic',\n",
      " 'patrickvonplaten/ami_single_headset_segmented_and_chunked',\n",
      " 'pierreguillou/lener_br_finetuning_language_model',\n",
      " 'prajin/ne_corpora_parliament_processed', 'peterhsu/github-issues',\n",
      " 'priya3301/tes', 'pariajm/sharif_emotional_speech_dataset',\n",
      " 'patrickvonplaten/librispeech_local_dummy',\n",
      " 'peterbonnesoeur/autonlp-data-test_text_summarization',\n",
      " 'pierreguillou/test_datasetdict', 'patrickvonplaten/common_voice_6_tr',\n",
      " 'patrickvonplaten/helena_coworking',\n",
      " 'patrickvonplaten/scientific_papers_dummy',\n",
      " 'patrickvonplaten/sensitive_data_sv',\n",
      " 'persiannlp/parsinlu_reading_comprehension', 'persiannlp/parsinlu_sentiment',\n",
      " 'pmc/open_access', 'proffttega/persian_daily_news', 'projecte-aina/vilasum',\n",
      " 'projecte-aina/xquad-ca', 'pulmo/chest_xray',\n",
      " 'radhakri119/sv_corpora_parliament_processed', 's3h/customized-qalb-v2',\n",
      " 'samgin/FooReview', 'sh110495/kor-namuwiki1', 'sh110495/kor-namuwiki2',\n",
      " 'sh110495/kor-namuwiki3', 'sh110495/kor-namuwiki5', 'sh110495/kor_newspaper1',\n",
      " 'sammy786/finnish_traindata', 'sentence-transformers/parallel-sentences',\n",
      " 'sh110495/kor_newspaper4', 'psrpsj/stop_words', 'ronaldvanos/testdata',\n",
      " 'rookieguy12/dataset', 'roskoN/dailydialog', 'seamew/THUCNewsTitle',\n",
      " 'sh110495/kor_newspaper7', 'qanastek/ELRC-Medical-V2',\n",
      " 'rajeshradhakrishnan/malayalam_news', 'rubrix/cleanlab-label_errors',\n",
      " 's-myk/test', 's3h/arabic-gec', 'sajadk/IranianCarLicencePlate',\n",
      " 'sc2qa/sc2q_commoncrawl', 'sentence-transformers/reddit-title-body',\n",
      " 'sh110495/kor_newspaper10', 'rays2pix/example_dataset', 's3h/poc-gec',\n",
      " 'safik/github-issues-comments', 'safik/github-issues',\n",
      " 'samirt8/fr_corpora_parliament_processed', 'sanyu/aw',\n",
      " 'projecte-aina/viquiquad', 'ranim/Algerian-Arabic', 'ranpox/xfund',\n",
      " 'rays2pix/example', 's3h/gec-arabic', 'seamew/THUCNews',\n",
      " 'seanbethard/autonlp-data-summarization_model', 'rony/soccer-dialogues',\n",
      " 'rubenwol/multi_news_qasrl', 'ramitsurana/sanskrit',\n",
      " 'roskoN/dstc8-reddit-corpus', 'rwebe/rwebe', 's3h/custom-qalb-classification',\n",
      " 'sanyu/er', 'seamew/THUCNewsText', 'sh110495/kor_newspaper8', 'qwant/squad_fr',\n",
      " 'ramybaly/conll2012', 'sagnikrayc/quasar', 'sh110495/klue-nli',\n",
      " 'sh110495/kor_newspaper5', 'quarter100/boolq_log', 'ramybaly/nerd',\n",
      " 'rewardsignal/reddit_writing_prompts', 'sdfufygvjh/fgghuviugviu',\n",
      " 'seamew/Hotel', 'sebastiaan/test-cefr', 'sh110495/kor_newspaper6',\n",
      " 'ragarwal/args-me-pairs', 'rubrix/imdb_spacy-ner', 's3h/gec-cleaned',\n",
      " 'salesken/Paraphrase_category_detection', 'sc2qa/sc2q_commoncrawl_large',\n",
      " 'sebastian-hofstaetter/tripclick-training', 'sh110495/kor-domain-language',\n",
      " 'qanastek/ANTILLES', 'qanastek/EMEA-V3', 'rahular/itihasa',\n",
      " 'readerbench/ChatLinks', 's3h/arabic-grammar-corrections', 'sagnikrayc/mctest',\n",
      " 'samjgorman/sample', 'sanyu/hh', 'qanastek/WMT-16-PubMed',\n",
      " 'rajeshradhakrishnan/malayalam_2020_wiki', 'sanyu/vb',\n",
      " 'sentence-transformers/embedding-training-data', 'seregadgl/test_set',\n",
      " 'sevbqewre/vebdesbdty', 'severo/dummy_gated', 'sh110495/kor-namuwiki4',\n",
      " 'robz/test', 'rocca/sims4-faces', 's3h/customized-qalb',\n",
      " 'samarlune/Holy_Coran', 'sc2qa/sc2qa_commoncrawl',\n",
      " 'seyia92coding/steam_games_2019.csv', 'sh110495/kor_newspaper2',\n",
      " 'sh110495/korquad', 'pstroe/cc100-latin', 'qa4pc/QA4PC',\n",
      " 'qfortier/instagram_ny', 'quis/vnexpress-train', 'rgismondi/code-fill-dataset',\n",
      " 'rucyang/sales', 'sagteam/author_profiling',\n",
      " 'sarulab-speech/bvcc-voicemos2022', 'seamew/Weibo',\n",
      " 'sentence-transformers/msmarco-hard-negatives', 'severo/embellishments',\n",
      " 'severo/wit', 'sh110495/kor-namuwiki6', 'sh110495/kor-wikipedia',\n",
      " 'sh110495/kor_newspaper3', 'rajeshradhakrishnan/malayalam_wiki',\n",
      " 'rosettarandd/rosetta_balcanica', 'rubrix/sentiment-banking',\n",
      " 's3h/gec-token-classification', 'samgin/star_tagging', 'seamew/ChnSentiCorp',\n",
      " 'severo/autonlp-data-sentiment_detection-3c8bcd36', 'sh110495/kor_newspaper9',\n",
      " 'shahrukhx01/questions-vs-statements', 'shivmoha/squad_adversarial_manual',\n",
      " 'shivam/hindi_pib_processed', 'shivmoha/squad-unanswerable',\n",
      " 'softcatala/Tilde-MODEL-Catalan', 'svalabs/all-nli-german-translation-wmt19',\n",
      " 'tanay/embed', 'tasosk/airlines', 'tau/scientific_papers',\n",
      " 'testOrganization01/test05', 'teven/mpww', 'shivkumarganesh/CoLA',\n",
      " 'shahp7575/sia_pile_sample', 'shpotes/ms_coco', 'softcatala/ca_text_corpus',\n",
      " 'ssasaa/gghghgh', 'sshleifer/pseudo_bart_xsum', 'stas/oscar-en-10k',\n",
      " 'subiksha/OwnDataset', 'tesemnikov-av/toxic_dataset_classification',\n",
      " 'shaina/covid19', 'shao/test', 'sijpapi/funsd',\n",
      " 'stas/wmt16-en-ro-pre-processed', 'tau/fs', 'teven/c4_15M',\n",
      " 'sheryylli/utr_total_reads', 'stevhliu/demo', 'tau/mrqa',\n",
      " 'tesemnikov-av/toxic_dataset_ner', 'shahp7575/sia_tp_sample', 'sine/zzz',\n",
      " 'spasis/github-issues', 'teven/github_all_lang_filtered', 'shao/git_data',\n",
      " 'sijpapi/batch13', 'superb/superb-data', 'svanhvit/iceErrorCorpus',\n",
      " 'sharejing/BiPaR', 'shivam/test-translation', 'shpotes/tfcol',\n",
      " 'stas/c4-en-10k', 'tarudesu/UIT-ViCTSD', 'shivam/test-translation-2',\n",
      " 'silentzone/test', 'stas/openwebtext-10k', 'svakulenk0/spoken_kgqa',\n",
      " 'sil-ai/bloom-lm', 'smallv0221/my-test',\n",
      " 'softcatala/Softcatala-Web-Texts-Dataset', 'shivam/marathi_pib_processed',\n",
      " 'shivam/marathi_samanantar_processed', 'softcatala/catalan-dictionary',\n",
      " 'solomonk/reddit_mental_health_posts', 'stiel/skjdhjkasdhasjkd',\n",
      " 'susumu2357/squad_v2_sv', 'shanya/website_metadata_c4_toy',\n",
      " 'sia-precision-education/pile_cpp', 'sia-precision-education/pile_python',\n",
      " 'softcatala/Europarl-catalan', 'stas/wmt14-en-de-pre-processed',\n",
      " 'sismetanin/rureviews', 'tau/scrolls', 'svakulenk0/qrecc', 'tals/test',\n",
      " 'teven/all_wikipedia_passages', 'sia-precision-education/pile_js',\n",
      " 'softcatala/open-source-english-catalan-corpus',\n",
      " 'spacemanidol/ms_marco_doc2query', 'spacemanidol/msmarco_passage_ranking',\n",
      " 'spasis/datasets-github-issues', 'svalabs/ms-marco-german-translation-wmt19',\n",
      " 'svanhvit/icelandic-ner-MIM-GOLD-NER', 'sijpapi/funsds',\n",
      " 'tanfiona/causenet_wiki', 'teven/matched_passages_wikidata', 'shivam/test',\n",
      " 'sia-precision-education/sia_pile_sample', 'tharindu/MOLD', 'tharindu/SOLID',\n",
      " 'teven/stackexchange', 'thomwolf/github-dataset',\n",
      " 'tranduyquang2205/vietnamese_dataset', 'teven/pseudo_crawl_en_seeds',\n",
      " 'thomwolf/very-test-dataset', 'toloka/CrowdSpeech', 'teven/prompted_examples',\n",
      " 'turingbench/TuringBench',\n",
      " 'toriving/talktalk-sentiment-210713-multi-singleturn-custom-multiturn',\n",
      " 'toddmorrill/github-issues', 'trnt/github-issues', 'thomwolf/codeparrot-train',\n",
      " 'thomwolf/very-good-dataset', 'thiemowa/argumentationreviewcorpus',\n",
      " 'ttj/metadata_arxiv', 'tianxing1994/temp', 'tommy19970714/common_voice',\n",
      " 'thomwolf/github-python', 'transformersbook/codeparrot-train',\n",
      " 'thomwolf/very-test-dataset-2', 'ucberkeley-dlab/measuring-hate-speech',\n",
      " 'teven/mpww_all_passages', 'thomwolf/codeparrot',\n",
      " 'transformersbook/codeparrot', 'ubamba98/ro_cv7_processed',\n",
      " 'thiemowa/empathyreviewcorpus', 'transformersbook/codeparrot-valid',\n",
      " 'uasoyasser/rgfes', 'thomwolf/codeparrot-valid', 'toloka/VoxDIY-RusNews',\n",
      " 'toriving/kosimcse', 'usc-isi/WikiConvert', 'vesteinn/IC3',\n",
      " 'vumichien/common_voice_large_jsut_jsss_css10',\n",
      " 'wpicard/nostradamus-propheties', 'yuvalkirstain/qasper_t5_lm',\n",
      " 'yuvalkirstain/qmsum_t5', 'yuvalkirstain/quality_squad',\n",
      " 'yuvalkirstain/quality_t5', 'yxchar/citation_intent-tlm', 'zapsdcn/chemprot',\n",
      " 'zj88zj/PubMed_200k_RCT', 'zloelias/lenta-ru',\n",
      " 'zwang199/autonlp-data-traffic_nlp_binary', 'vasudevgupta/fairseq-ljspeech',\n",
      " 'iitm-ddp/iiith-indic-speech', 'versae/norwegian-t5-dataset-debug2',\n",
      " 'vkhangpham/github-issues', 'wesamhaddad14/testdata', 'wikilee/ADFA_Mapping',\n",
      " 'wikimedia/wikipedia', 'ysharma/rickandmorty',\n",
      " 'yuvalkirstain/contract_nli-debug', 'yuvalkirstain/qasper_t5', 'yxchar/ag-tlm',\n",
      " 'zhufy/xquad_split', 'zlucia/casehold', 'uit-nlp/vietnamese_students_feedback',\n",
      " 'ujjawal1612/quora', 'valurank/hate-multi', 'vannora/pdata',\n",
      " 'vasudevgupta/prml_data_contest', 'wmt/europarl', 'wmt/news-commentary',\n",
      " 'yuvalkirstain/quality', 'zapsdcn/rct-20k', 'zapsdcn/sciie',\n",
      " 'uva-irlab/canard_quretec', 'vanadhi/finlitqa', 'vctc92/test',\n",
      " 'vershasaxena91/squad_multitask', 'vumichien/ja_opus100_processed',\n",
      " 'webek18735/ddvoacantonesed', 'yonesuke/Ising2D', 'yonesuke/Vicsek',\n",
      " 'yonesuke/kuramoto', 'yuvalkirstain/squad_full_doc',\n",
      " 'yuvalkirstain/summ_screen_fd_t5', 'yuvalkirstain/summ_screen_fd_t5_lm',\n",
      " 'yxchar/imdb-tlm', 'z-uo/female-LJSpeech-italian',\n",
      " 'zhangruihan1/face-recognition', 'zhoujun/hitab', 'zloelias/lenta-ru-short',\n",
      " 'uyeongjae/load_klue_re_agmented', 'weijieliu/senteval_cn', 'wmt/wmt13',\n",
      " 'wzkariampuzha/EpiClassifySet', 'yharyarias/tirads_tiroides',\n",
      " 'yuvalkirstain/quality_squad_debug', 'vannacute/AmazonReviewHelpfulness',\n",
      " 'vasudevgupta/bigbird-tokenized-natural-questions',\n",
      " 'vasudevgupta/gsoc-librispeech', 'vasudevgupta/natural-questions-validation',\n",
      " 'versae/modernisa', 'w-nicole/childes_data', 'wicho/stylekqc-style',\n",
      " 'vasudevgupta/data', 'vblagoje/lfqa_support_docs', 'w11wo/imdb-javanese',\n",
      " 'x-tech/cantonese-mandarin-translations', 'xiaj/ds_test', 'yerevann/sst2',\n",
      " 'yuchenlin/OntoRock', 'yxchar/chemprot-tlm', 'zapsdcn/ag',\n",
      " 'zloelias/kinopoisk-reviews-short', 'uva-irlab/trec-cast-2019-multi-turn',\n",
      " 'vishnun/huggingpics-data', 'webimmunization/COVID-19-vaccine-attitude-tweets',\n",
      " 'wmt/wmt15', 'wmt/wmt16', 'yo/devparty',\n",
      " 'yuanchuan/annotated_reference_strings', 'yuvalkirstain/asset',\n",
      " 'yxchar/rct-20k-tlm', 'zhangruihan1/fr-cfp_fp', 'versae/bibles',\n",
      " 'vpelloin/MEDIA', 'xkang/github-issues', 'xuyeliu/notebookCDG',\n",
      " 'yuvalkirstain/qmsum_t5_lm', 'zhangruihan1/face-recognition-validation',\n",
      " 'zj88zj/SCIERC', 'vasudevgupta/temperature-distribution-2d-plate',\n",
      " 'w-nicole/childes_data_with_tags', 'webek18735/dhikhscook', 'webis/conclugen',\n",
      " 'wifis/ouivirtual', 'wmt/wmt10', 'wmt/wmt18', 'xiaobendanyn/demo',\n",
      " 'xiaobendanyn/tacred', 'yannobla/Sunshine', 'zloelias/kinopoisk-reviews',\n",
      " 'unicamp-dl/mmarco', 'vannynakamura/leish',\n",
      " 'vasudevgupta/temperature-distribution-3d-cylinder', 'vblagoje/lfqa',\n",
      " 'versae/norwegian-t5-dataset-debug3', 'vesteinn/icelandic-qa-NQiI',\n",
      " 'versae/norwegian-t5-dataset-debug', 'wanagenst/maslow-six-choices',\n",
      " 'wardenga/lsoie', 'webis/args_me', 'wmt/wmt17', 'wikimedia/wikisource',\n",
      " 'wisdomify/story', 'wzywzy/telegram_summary', 'wmt/wikititles',\n",
      " 'yuvalkirstain/squad_t5', 'yxchar/amazon-tlm', 'zapsdcn/hyperpartisan_news',\n",
      " 'yabramuvdi/wfh-problematic', 'yazdipour/text-to-sparql-kdwd', 'yluisfern/PBU',\n",
      " 'yuvalkirstain/contract_nli_t5', 'yuvalkirstain/quality_t5_lm',\n",
      " 'yxchar/hyp-tlm', 'z-uo/male-LJSpeech-italian', 'vasudevgupta/amazon-ml-hack',\n",
      " 'umangchaudhry/demo_data_raw', 'vctc92/sdsd',\n",
      " 'vesteinn/icelandic-ner-MIM-GOLD-NER', 'vincentclaes/mit_indoor_scenes',\n",
      " 'wanagenst/reiss-stories', 'ydshieh/coco_dataset_script',\n",
      " 'yhavinga/mc4_nl_cleaned', 'yuvalkirstain/squad_seq2seq',\n",
      " 'zapsdcn/citation_intent', 'vasilis/et_corpora_parliament_processed',\n",
      " 'vblagoje/wikipedia_snippets_streamed', 'vidhur2k/multilingual-hate-speech',\n",
      " 'vs4vijay/VizDS', 'w-nicole/childes_data_no_tags_',\n",
      " 'w-nicole/childes_data_with_tags_', 'wanagenst/maslow-stories',\n",
      " 'wzkariampuzha/EpiExtract4GARD', 'xiaj/test0919',\n",
      " 'yuvalkirstain/contract_nli_t5_lm', 'yuvalkirstain/quality_debug',\n",
      " 'yuvalkirstain/scrolls_t5', 'z-uo/squad-it', 'zapsdcn/amazon',\n",
      " 'zf-org/org_dataset', 'zfaB4Hmm/test', 'unicamp-dl/mrobust',\n",
      " 'vumichien/common_voice_large', 'w-nicole/childes_data_no_tags',\n",
      " 'wanagenst/reiss-twenty-choices', 'yxchar/sciie-tlm',\n",
      " 'valurank/offensive-multi', 'vera-pro/ShadowLink', 'vershasaxena91/datasets',\n",
      " 'viktor-enzell/common_voice_sv_test_preprocessed',\n",
      " 'viktor-enzell/europarl_sv_train_corpora_preprocessed',\n",
      " 'vivekverma239/question-generation', 'wanagenst/plutchik-nine-choices',\n",
      " 'wanagenst/plutchik-stories', 'warwickai/financial_phrasebank_mirror',\n",
      " 'webis/ms-marco-anchor-text', 'winvoker/turkish-sentiment-analysis-dataset',\n",
      " 'wmt/uncorpus', 'wmt/wmt14', 'wmt/wmt19', 'xiaobendanyn/nyt10', 'zapsdcn/imdb',\n",
      " 'mvip/tr_corpora_parliament_processed', 'maydogan/TRSAv1',\n",
      " 'mohamed-illiyas/wav2vec-malayalam-data', 'NLPC-UOM/Sinhala-Stopword-list',\n",
      " 'Emma121/aaaaa', 'omar-sharif/BAD-Bengali-Aggressive-Text-Dataset',\n",
      " 'davanstrien/embellishments-sample',\n",
      " 'vocab-transformers/wiki-en-passages-20210101',\n",
      " 'loretoparisi/spoken-punctuation', 'qanastek/ECDC',\n",
      " 'rubrix/gutenberg_spacy-ner', 'prk/testsq',\n",
      " 'Sakonii/nepalitext-language-model-dataset',\n",
      " 'SuperAI2-Machima/Yord_ThaiQA_LST20', 'Wittgensteinian/KR3',\n",
      " 'GEM-submissions/Leo__bart-large__1645784880',\n",
      " 'GEM-submissions/lewtun__hugging-face-test-t5-base.outputs.json-36bf2a59__1645800191',\n",
      " 'GEM-submissions/Leo__mbart-large-cc25__1645802644',\n",
      " 'w11wo/regional_languages_indonesia_similar_words',\n",
      " 'mariosasko/test_multi_dir_dataset', 'jonatli/youtube-sponsor',\n",
      " 'abdusahmbzuai/masc', 'abdusahmbzuai/masc_dev', 'Jiejie/asr_book_lm',\n",
      " 'cloverhxy/DADER-source', 'benjaminbeilharz/daily_dialog_w_turn_templates',\n",
      " 'arjundd/meddlr-data', 'andstor/smart_contracts',\n",
      " 'alperbayram/HaberTweetlerininDuyguAnaliziVeSiniflandirma',\n",
      " 'alperbayram/Tweet_Siniflandirma', 'Niciu/test-squad',\n",
      " 'stjokerli/TextToText_mnli', 'leetdavid/market-positivity-bert-tokenized',\n",
      " 'stjokerli/TextToText_cb', 'stjokerli/TextToText_rte', 'SetFit/qqp',\n",
      " 'stjokerli/TextToText_copa', 'stjokerli/TextToText_boolq',\n",
      " 'davanstrien/iiif_labeled', 'diwank/hinglish-dump',\n",
      " 'GEM-submissions/lewtun__hugging-face-test-t5-base.outputs.json-36bf2a59__1646049378',\n",
      " 'GEM-submissions/lewtun__hugging-face-test-t5-base.outputs.json-36bf2a59__1646049424',\n",
      " 'GEM-submissions/lewtun__hugging-face-test-t5-base.outputs.json-36bf2a59__1646049601',\n",
      " 'GEM-submissions/lewtun__hugging-face-test-t5-base.outputs.json-36bf2a59__1646049876',\n",
      " 'GEM-submissions/lewtun__hugging-face-test-t5-base.outputs.json-36bf2a59__1646050898',\n",
      " 'GEM-submissions/lewtun__hugging-face-test-t5-base.outputs.json-36bf2a59__1646051364',\n",
      " 'GEM-submissions/lewtun__hugging-face-test-t5-base.outputs.json-36bf2a59__1646052073',\n",
      " 'SetFit/rte', 'GEM-submissions/lewtun__this-is-a-test__1646052811',\n",
      " 'SetFit/mnli', 'SetFit/mrpc', 'SetFit/qnli', 'shibing624/nli_zh',\n",
      " 'SetFit/wnli', 'SetFit/mnli_mm', 'luketheduke/stsb', 'SetFit/stsb',\n",
      " 'boudinfl/inspec', 'davanstrien/crowdsourced-keywords',\n",
      " 'philschmid/germeval18', 'davanstrien/iiif_manuscripts_label_ge_50',\n",
      " 'crystina-z/msmarco-passage', 'nateraw/punks', 'csarron/4m-img-caps',\n",
      " 'imflash217/github-issues', 'puffy310/yandset',\n",
      " 'mohamed-illiyas/wav2vec-malayalam-new-data',\n",
      " 'stjokerli/TextToText_mnli_seqio', 'stjokerli/TextToText_cb_seqio',\n",
      " 'stjokerli/TextToText_boolq_seqio', 'stjokerli/TextToText_rte_seqio',\n",
      " 'stjokerli/TextToText_copa_seqio',\n",
      " 'izzy-lazerson/sv_corpora_parliament_processed', 'shibing624/source_code',\n",
      " 'leetdavid/celera', 'polinaeterna/benchmark', 'polinaeterna/benchmark_dataset',\n",
      " 's50227harry/test1', 'giganticode/java-cmpx', 'Niciu/github-issues',\n",
      " 'Niciu/test-cre-dataset-issues', 'orisuchy/Descriptive_Sentences_He',\n",
      " 'csarron/25m-img-caps', 'lbox/lbox_open', 'wietsedv/stsbenchmark',\n",
      " 'huggingface-course/documentation-images', 'giganticode/java-cmpx-v1',\n",
      " 'GEM-submissions/lewtun__this-is-a-test__1646230987', 'coastalcph/fairlex',\n",
      " 'fancyerii/test', 'ArnavL/finetune_preprocessed_yelp', 'huggan/anime-faces',\n",
      " 'GEM-submissions/lewtun__this-is-a-test__1646314818',\n",
      " 'GEM-submissions/lewtun__this-is-a-test__1646316929', 'v-card/lol',\n",
      " 'fuliucansheng/wheat', 'segments/sidewalk-semantic', 'davanstrien/testhugit',\n",
      " 'testst/dsdfasdfsaf', 'firzens/authors',\n",
      " 'NLPC-UOM/Sinhala-Tamil-Aligned-Parallel-Corpus',\n",
      " 'NLPC-UOM/AnanyaSinhalaNERDataset', 'openclimatefix/gfs-reforecast',\n",
      " 'nlpaueb/finer-139', 'GEM-submissions/ratishsp__seqplan__1646397329',\n",
      " 'GEM-submissions/ratishsp__seqplan__1646397829', 'Alvenir/alvenir_asr_da_eval',\n",
      " 'google/xtreme_s', 'kensho/spgispeech_dummy', 'anjandash/java-8m-methods-v1',\n",
      " 'PhilSad/data-guided-scp-gptj-lit', 'elkarhizketak',\n",
      " 'ruanchaves/hashset_distant_sampled', 'ruanchaves/hashset_distant',\n",
      " 'chiarab/covid-tweet-sentiment', 'ruanchaves/hashset_manual',\n",
      " 'ruanchaves/stan_large', 'ruanchaves/stan_small', 'ruanchaves/boun',\n",
      " 'ruanchaves/dev_stanford', 'ruanchaves/test_stanford',\n",
      " 'Davis/Swahili-tweet-sentiment', 'codyburker/yelp_review_sampled',\n",
      " 'bigscience-catalogue-lm-data/lm_bn_wikisource', 'OrfeasTsk/TriviaQA',\n",
      " 'bigscience-catalogue-lm-data/lm_indic-bn_wikisource_filtered',\n",
      " 'ruanchaves/loyola', 'AhmedSSoliman/QRCD', 'mbartolo/synQA',\n",
      " 'Paulosdeanllons/sedar', 'ruanchaves/bt11', 'ruanchaves/nru_hse',\n",
      " 'ruanchaves/binkley', 'ruanchaves/jhotdraw', 'ruanchaves/lynx',\n",
      " 'ruanchaves/snap', 'crystina-z/nocs-mrtydi', 'crystina-z/nocs-mrtydi-corpus',\n",
      " 'rocca/emojis', 'Siyam/mydata', 'w11wo/regional_languages_indonesia_corpus',\n",
      " 'flxclxc/english-norwegian-bible-set', 'Carlisle/msmarco-passage-non-abs',\n",
      " 'Carlisle/msmarco-passage-abs', 'wypoon/github-issues',\n",
      " 'gustavecortal/fr_covid_news', 'teven/hal_tests', 'Cyberfish/multiwoz2.1',\n",
      " 'Jiejie/asr_book_lm_v1.1', 'mateiut1/sv_corpora_parliament_processed',\n",
      " 'jackwyndham/gloru', 'flxclxc/en-no-semantic-search-set',\n",
      " 'm-newhauser/senator-tweets', 'FinScience/FS-distilroberta-fine-tuned',\n",
      " 'flxclxc/en_no_with_embeddings', 'Carlisle/msmacro-passage-non-abs-small',\n",
      " 'flxclxc/en_no_with_embeddings2', 'msollami-sf/processed_mnist', 'Sunghun/1',\n",
      " 'Sunghun/Example1', 'Sunghun/Example2', 'pensieves/mimicause',\n",
      " 'ayberkuckun/hu_corpora_parliament_processed', 'chiarab/tweet-text-full',\n",
      " 'chiarab/tweets-dict', 'helloway/data-test', 'FanFan/sentiment-amazon-test',\n",
      " 'yawnick/QMSum', 'nielsr/rvl-cdip-demo', 'z-uo/qasper-squad',\n",
      " 'lhoestq/test_none_image', 'jquiros/suicide', 'Noricum/der_standard_processed',\n",
      " 'nielsr/rvlcdip-demo', 'shpotes/bosch-small-traffic-lights-dataset',\n",
      " 'Huseyin/tummul', 'Marianina/Example2', 'Carlosholivan/base',\n",
      " 'Marianina/sentiment-banking', 'franz96521/BilletesMexico',\n",
      " 'crystina-z/no-nonself-mrtydi', 'jquiros/clean',\n",
      " 'SocialGrep/the-antiwork-subreddit-dataset', 'laion/laion2B-en',\n",
      " 'christianloyal/loyal_clinc_MLE', 'crystina-z/no-nonself-mrtydi-corpus',\n",
      " 'laion/laion2B-multi', 'chiarab/jan-2021-unlabeled-full',\n",
      " 'chiarab/combined-train', 'chiarab/may-2020-unlabeled-full',\n",
      " 'hadehuang/testdataset', 'Suyogyart/nepali-20-newsgroup', 'fmplaza/EmoEvent',\n",
      " 'abdusahmbzuai/adi5', 'nortizf/risk_multilabel', 'khcy82dyc/zzzz',\n",
      " 'ai4bharat/IndicParaphrase', 'albertvillanova/wikipedia',\n",
      " 'rubrix/sst2_with_predictions', 'nthngdy/oscar-mini', 'laion/laion1B-nolang',\n",
      " 'ia-bentebib/tweet_eval_sentiment_fr', 'drAbreu/bc4chemd_ner',\n",
      " 'fuliucansheng/unitorch-datasets', 'FanFan/sentiment-amazon-clean',\n",
      " 'davanstrien/iiif_manuscripts_label_ge_100',\n",
      " 'christianloyal/loyal_clinc_MLE_unlabeled', 'damlab/uniprot',\n",
      " 'agemagician/u50_test', 'chiarab/vaccine-sentiment-clean',\n",
      " 'chiarab/vaccine-sentiment-clean-2', 'juched/spotifinders',\n",
      " 'ArnavL/TWTEval-Pretraining-Processed', 'juched/spotifinders-dataset',\n",
      " 'PaddlePaddle/dureader_robust', 'Carlisle/msmacro-test-corpus',\n",
      " 'Carlisle/msmacro-test', 'Georgii/poetry-genre', 'joangaes/depression',\n",
      " 'ai4bharat/IndicHeadlineGeneration', 'ai4bharat/IndicSentenceSummarization',\n",
      " 'ai4bharat/IndicWikiBio', 'ai4bharat/IndicQuestionGeneration',\n",
      " 'aasd291809733/myself', 'Mulin/sg-holiday',\n",
      " 'gustavecortal/diverse_french_news',\n",
      " 'Azu/Handwritten-Mathematical-Expression-Convert-LaTeX',\n",
      " 'sasha/pii-oscar-sample', 'ruanchaves/reddit_china',\n",
      " 'Biomedical-TeMU/ProfNER_corpus_classification',\n",
      " 'Biomedical-TeMU/ProfNER_corpus_NER', 'yjernite/datasets_clusters',\n",
      " 'McGill-NLP/feedbackQA', 'Biomedical-TeMU/SPACCC_Sentence-Splitter',\n",
      " 'Biomedical-TeMU/SPACCC_Tokenizer', 'Biomedical-TeMU/CodiEsp_corpus',\n",
      " 'Mulin/weather-data', 'swcrazyfan/net-web2kjv', 'lstynerl/M1a1d',\n",
      " 'Khedesh/ArmanNER', 'gigant/horse2zebra', 'Khedesh/PeymaNER',\n",
      " 'asahi417/qa_wiki_t5_large', 'GEM-submissions/ratishsp__macro__1646998904',\n",
      " 'asahi417/qa_wiki_t5_base', 'asahi417/qa_wiki_t5_small',\n",
      " 'asahi417/qa_wiki_bart_base', 'asahi417/qa_wiki_bart_large',\n",
      " 'Kaveh8/movieimdbrating', 'Khedesh/ParsTwiNER', 'rubrix/big_patent_a_test_100',\n",
      " 'happifyhealth/self_vs_other_focus_semi_supervised', 'solomonk/reddit',\n",
      " 'GEM-submissions/v1-outputs-and-scores',\n",
      " 'GEM-submissions/v2-outputs-and-scores',\n",
      " 'crystina-z/no-nonself-title-mrtydi-corpus', 'Zeel/common', 'microsoft/CLUES',\n",
      " 'Unso/amazon_reviews_multi_de', 'Unso/amazon_reviews_multi_es',\n",
      " 'Unso/amazon_reviews_multi_fr', 'Unso/amazon_reviews_multi_ja',\n",
      " 'Unso/amazon_reviews_multi_zh', 'Unso/catalonia_independence_ca',\n",
      " 'Unso/catalonia_independence_es', 'Unso/muchocine_es', 'Unso/xglue_nc',\n",
      " 'rakkaalhazimi/hotel-review', 'jglaser/protein_ligand_contacts',\n",
      " 'Amba/mt5-small-finetuned-amazon-en-es_books_dataset',\n",
      " 'Amba/mt5-small-finetuned-amazon-en-es_tokenized_datasets',\n",
      " 'Mudrock/huggingpics-data', 'SetFit/catalonia_independence_ca',\n",
      " 'SetFit/catalonia_independence_es', 'SetFit/xglue_nc',\n",
      " 'SetFit/amazon_reviews_multi_de', 'SetFit/amazon_reviews_multi_es',\n",
      " 'SetFit/amazon_reviews_multi_ja', 'SetFit/amazon_reviews_multi_zh',\n",
      " 'SetFit/amazon_reviews_multi_fr', 'SetFit/muchocine_es', 'Unso/myfirstds',\n",
      " 'multiIR/toy_data', 'rocca/top-reddit-posts',\n",
      " 'willcai/wav2vec2_common_voice_accents', 'chiarab/just-vaccine',\n",
      " 'gj1997/trial2', 'carbon12/evaluating_student_writing', 'chiarab/final-train',\n",
      " 'Parmann/speech_classification', 'chiarab/add-10', 'chiarab/dct-keyword-all',\n",
      " 'chiarab/vaccine-keyword-all', 'gj1997/trial3',\n",
      " 'chiarab/sorted-with-10-lessneu', 'sosuke/ease-dataset-en.json',\n",
      " 'chiarab/dct-keyword-us', 'chiarab/dct-keyword-uk',\n",
      " 'stjokerli/TextToText_wic_seqio', 'stjokerli/TextToText_multirc_seqio',\n",
      " 'stjokerli/TextToText_record_seqio', 'zhiweitong/wiki_dpr-qg',\n",
      " 'sosuke/ease-dataset-18-langs.json', 'stjokerli/TextToText_wsc_seqio',\n",
      " 'stjokerli/TextToText_axg_seqio', 'stjokerli/TextToText_axb_seqio',\n",
      " 'Amba/bert-finetuned-ner_raw_datasets',\n",
      " 'Amba/bert-finetuned-ner_tokenized_datasets', 'raphaelmerx/lfqa-id',\n",
      " 'weizhey/asap_review', 'lewtun/top_quark_tagging', 'chiarab/canada',\n",
      " 'chiarab/dct-keyword-canada', 'chiarab/uk', 'chiarab/us',\n",
      " 'wanyu/IteraTeR_full_sent', 'chiarab/vax-keyword-canada',\n",
      " 'chiarab/vax-keyword-uk', 'chiarab/vax-keyword-us', 'Evan/spaCy-github-issues',\n",
      " 'wanyu/IteraTeR_full_doc', 'wanyu/IteraTeR_human_sent',\n",
      " 'wanyu/IteraTeR_human_doc', 'benjaminbeilharz/ed-for-lm',\n",
      " 'joypersicanon/ph-en-text', 'reatiny/chinese-spam-10000', 'alkzzz/palui',\n",
      " 'GEM-submissions/lewtun__this-is-a-test__1647246406',\n",
      " 'GEM-submissions/lewtun__mt5_xl__1647246454', 'ianomunga/MIAS',\n",
      " 'GEM-submissions/lewtun__this-is-a-test__1647247409', 'drAbreu/BLURB',\n",
      " 'Jiejie/asr_book_lm_v2.0',\n",
      " 'GEM-submissions/lewtun__this-is-a-test__1647256250', 'wikitablequestions',\n",
      " 'gimmaru/github-issues', 'openclimatefix/uk_pv',\n",
      " 'GEM-submissions/lewtun__this-is-a-test__1647263213', 'marsyas/gtzan',\n",
      " 'happifyhealth/senses_semi_supervised', 'GEM/xwikis_sum', 'lvwerra/my_test',\n",
      " 'lvwerra/my_test_2', 'Jiejie/asr_book_lm_v2.1', 'EALeon16/poems',\n",
      " 'oscar-corpus/OSCAR-2201',\n",
      " 'PradeepReddyThathireddy/Inspiring_Content_Detection_Dataset',\n",
      " 'conll2012_ontonotesv5', 'anjandash/java-8m-methods-v2',\n",
      " 'victor/autonlp-data-tweet-sentiment', 'agemagician/uniref50',\n",
      " 'hazal/Turkish-Biomedical-corpus-trM', 'cgarciae/cartoonset',\n",
      " 'rubrix/go_emotions_training', 'Jiejie/asr_book_lm_v2.3', 'CLUTRR/v1',\n",
      " 'malteos/paperswithcode-aspects', 'tdklab/Hebrew_Squad_v1',\n",
      " 'kSaluja/tokens_data', 'Dayyan/bwns', 'Hiruni99/eng-sin-laws-and-acts',\n",
      " 'jeffboudier/testing', 'rubrix/research_titles_multi-label',\n",
      " 'rubrix/go_emotions_multi-label', 'elricwan/roberta-data',\n",
      " 'willcai/wav2vec2_common_voice_accents_3', 'gcaillaut/enwiki_el',\n",
      " 'crabz/stsb-sk', 'mfleck/german_extracted_text', 'ebrigham/agnewsadapted',\n",
      " 'yangdong/ecqa', 'davanstrien/newspaper_navigator_people', 'voidful/NMSQA',\n",
      " 'shpotes/SJTU', 'shpotes/ImVisible', 'LongNN/news_sum', 'tomekkorbak/test',\n",
      " 'tomekkorbak/pile-curse-small', 'jorge-henao/disco_poetry_spanish',\n",
      " 'Aclairs/ALBERTFINALYEAR', 'MatanBenChorin/temp', 'shivam/split-test',\n",
      " 'rubrix/research_papers_multi-label', 'wietsedv/udpos28',\n",
      " 'anthonny/hate_speech', 'nikit91/qald9', 'Cooool/kaggle', 'Cooool/nlp',\n",
      " 'Wang123/codeparrot-train', 'Wang123/codeparrot-valid',\n",
      " 'tomekkorbak/pile-curse-full_test', 'DrishtiSharma/MESD-Processed-Dataset',\n",
      " 'abidlabs/crowdsourced-test3', 'abidlabs/crowdsourced-test4',\n",
      " 'abidlabs/crowdsourced-test5', 'shivam/split', 'mrm8488/test2',\n",
      " 'mercerchen/fakenews-jsonl', 'Mionozmi/Ddy', 'franz96521/scientific_papers',\n",
      " 'Paulosdeanllons/ODS_BOE', 'MickyMike/cve_fixes', 'malteos/test-ds',\n",
      " 'malteos/test2', 'malteos/aspect-paper-embeddings', 'Guscerra/whatever',\n",
      " 'elena-soare/crawled-ecommerce', 'abdusahmbzuai/arabic_speech_massive',\n",
      " 'cfilt/iwn_wordlists', 'Heriot-WattUniversity/lewis-test', 'arun007/mydata',\n",
      " 'tomekkorbak/pile-debug', 'malteos/aspect-paper-metadata',\n",
      " 'hackathon-pln-es/parallel-sentences', 'fofiu/test-dataset',\n",
      " 'indonesian-nlp/eli5_id', 'tomekkorbak/pile-curse-chunk-1',\n",
      " 'tomekkorbak/pile-curse-chunk-0', 'tomekkorbak/pile-curse-chunk-3',\n",
      " 'tomekkorbak/pile-curse-chunk-2', 'tomekkorbak/pile-curse-chunk-5',\n",
      " 'tomekkorbak/pile-curse-chunk-6', 'tomekkorbak/pile-curse-chunk-4',\n",
      " 'tomekkorbak/pile-curse-chunk-16', 'tomekkorbak/pile-curse-chunk-15',\n",
      " 'tomekkorbak/pile-curse-chunk-14', 'tomekkorbak/pile-curse-chunk-13',\n",
      " 'tomekkorbak/pile-curse-chunk-8', 'tomekkorbak/pile-curse-chunk-9',\n",
      " 'tomekkorbak/pile-curse-chunk-20', 'tomekkorbak/pile-curse-chunk-7',\n",
      " 'tomekkorbak/pile-curse-chunk-24', 'tomekkorbak/pile-curse-chunk-18',\n",
      " 'tomekkorbak/pile-curse-chunk-17', 'tomekkorbak/pile-curse-chunk-21',\n",
      " 'tomekkorbak/pile-curse-chunk-22', 'tomekkorbak/pile-curse-chunk-10',\n",
      " 'tomekkorbak/pile-curse-chunk-26', 'tomekkorbak/pile-curse-chunk-11',\n",
      " 'tomekkorbak/pile-curse-chunk-27', 'tomekkorbak/pile-curse-chunk-12',\n",
      " 'tomekkorbak/pile-curse-chunk-25', 'tomekkorbak/pile-curse-chunk-19',\n",
      " 'tomekkorbak/pile-curse-chunk-29', 'tomekkorbak/pile-curse-chunk-23',\n",
      " 'tomekkorbak/pile-curse-chunk-28', 'tomekkorbak/pile-curse-full',\n",
      " 'scjnugacj/scjn_dataset_ner', 'kingabzpro/savtadepth-flags-V2',\n",
      " 'yhavinga/ccmatrix', 'JennyGub/PrivTest', 'indonesian-nlp/lfqa_id',\n",
      " 'artemis13fowl/sst-3', 'IIC/spanish_biomedical_crawled_corpus',\n",
      " 'scjnugacj/scjn_dataset_corpus_tesis', 'hackathon-pln-es/MESD',\n",
      " 'MatanBenChorin/our_dataset', 'vinaykudari/acled-token-summary',\n",
      " 'IIC/lfqa_spanish', 'TomTBT/pmc_open_access_xml',\n",
      " 'Heriot-WattUniversity/CANDOR-corpus', 'Heriot-WattUniversity/bAbi-Plus',\n",
      " 'Heriot-WattUniversity/switchboard',\n",
      " 'Heriot-WattUniversity/Groningen-Meaning-Bank', 'enimai/must_c_french',\n",
      " 'voidful/asr_glue_train', 'dannyvas23/textosuicidios',\n",
      " 'abidlabs/Urdu-ASR-flags', 'abidlabs/Urdu-ASR-flags2',\n",
      " 'kingabzpro/Urdu-ASR-flags2', 'dannyvas23/notas_suicidios',\n",
      " 'Splend1dchan/phone-mnli', 'nathanaelc/commonvoice8',\n",
      " 'hazal/electronic-radiology-phd-thesis-trR', 'jacobbieker/hyperion-clouds',\n",
      " 'rubrix/frases_muchocine', 'monash_tsf', 'aomar85/softwaresecuirty',\n",
      " 'kingabzpro/Urdu-ASR-flags', 'nickmuchi/carla-selfdriving',\n",
      " 'xiongshunjie/ProDataset', 'polinaeterna/test_audiofolder',\n",
      " 'eleldar/github-issues', 'Cheltone/MyTwitter', 'nielsr/CelebA-faces',\n",
      " 'Dabs/bioasq', 'blo05/cleaned_wiki_en', 'CohleM/sample',\n",
      " 'fangyuan/lfqa_discourse', 'rubrix/frases_muchocine_NER',\n",
      " 'EALeon16/autonlp-data-pruebapoems', 'afrodp95/MEDDOPROF',\n",
      " 'hackathon-pln-es/comentarios_depresivos', 'hackathon-pln-es/poems-es',\n",
      " 'rubrix/muchocine_ner', 'rubrix/pococine_textcat', 'IIC/bioasq22_es',\n",
      " 'rubrix/muchocine_aspects', 'happifyhealth/S_Item_semi_supervised',\n",
      " 'josearangos/spanish-calls-corpus-Home',\n",
      " 'josearangos/spanish-calls-corpus-Caribbean', 'Suyogyart/nepali-16-newsgroups',\n",
      " 'josearangos/spanish-calls-corpus-Friends', 'bigscience-biomedical/biosses',\n",
      " 'aomar85/SE-Quora_NER', 'nedroden/nlcity', 'rubrix/muchocine_aspectos',\n",
      " 'archmagos/HourAI-data', 'emrecan/nli_tr_for_simcse', 'd0r1h/Real_vs_Fake',\n",
      " 'Carlos89apc/TraductorES_Kichwa', 'sayalaruano/FakeNewsCorpusSpanish',\n",
      " 'sayalaruano/FakeNewsSpanish_Kaggle1', 'sayalaruano/FakeNewsSpanish_Kaggle2',\n",
      " 'openclimatefix/mrms', 'mariosasko/dummy_pandas',\n",
      " 'erikacardenas300/Zillow-Text-Listings', 'jullarson/sdd',\n",
      " 'finiteautomata/legal-ner', 'raulminan/depresion-twitter-es',\n",
      " 'rahulkuruvilla/CovidTravelQA', 'nreimers/trec-covid', 'Mnauel/MESD',\n",
      " 'IsaacRodgz/Fake-news-latam-omdena', 'sichenzhong/squad_v2_back_trans_aug',\n",
      " 'asvs/tqa', 'sumedh/MeQSum', 'sh110495/IndustryClassification',\n",
      " 'nthngdy/oscar-small', 'huggan/CelebA-faces',\n",
      " '10zinten/op_classical_corpus_bo', 'CohleM/CohleM', 'CohleM/Classification',\n",
      " 'grabbysingh/funsd', 'nreimers/trec-covid-generated-queries',\n",
      " 'peerapongch/aion-3-20220323', 'tau/multi_news',\n",
      " 'sosuke/ease-dataset-test.json',\n",
      " 'GEM-submissions/lewtun__this-is-a-test-name__1648048960',\n",
      " 'Rakesharma21/transliterate-eng-hi', 'huggan/edges2shoes', 'huggan/facades',\n",
      " 'albertvillanova/zip_zip', 'polinaeterna/test_encode_example',\n",
      " 'huggan/night2day', 'huggan/maps', 'huggan/cityscapes', 'huggan/ae_photos',\n",
      " 'DrishtiSharma/test', 'RUC-DataLab/ER-dataset', 'doctorlan/bert-amz-c',\n",
      " 'crystina-z/msmarco-passage-dl19', 'crystina-z/msmarco-passage-dl20',\n",
      " 'tiennvcs/your_dataset_name', 'tartuNLP/liv4ever',\n",
      " 'sentence-transformers/NQ-retrieval',\n",
      " 'GEM-submissions/lewtun__this-is-a-test-name__1648111972',\n",
      " 'M-Quan/sv_corpora_parliament_processed', 'huggan/CelebA-HQ', 'Jira/mao',\n",
      " 'huggan/cartoon-faces', 'huggan/cats',\n",
      " 'Gare/Classical_Chinese_to_Modern_Chinese', 'Vipitis/Shadertoys-bimodal',\n",
      " 'ebrigham/NOS-news', 'GEM-submissions/lewtun__this-is-a-test-name__1648137608',\n",
      " 'wesamhaddad14/spanishNLP',\n",
      " 'Openmindedness/mc_chat_scraped_from_toxigon_anarchy', 'huggan/AFHQ',\n",
      " 'DrishtiSharma/MESD-Processed-Dataset-v2', 'beyond/20NG',\n",
      " 'Yaxin/amazon_reviews_multi', 'huggan/AFHQv2', 'dfki-nlp/scidtb',\n",
      " 'huggan/metfaces', 'pietrolesci/nli_fever', 'pietrolesci/conj_nli',\n",
      " 'AhmedSSoliman/CoNaLa-Dataset', 'Fatima-Gh/GLARE', 'sosuke/dataset_for_ease',\n",
      " 'Sakonii/16NepaliNews',\n",
      " 'GEM-submissions/lewtun__this-is-a-test-name__1648220072',\n",
      " 'roman_urdu_hate_speech', 'JuanJoseMV/CIE10-classifier-Test_Dataset',\n",
      " 'facebook/winoground', 'nndhung/garlic', 'avacaondata/lfqa_squad',\n",
      " 'Splend1dchan/NMSQA_w2v2-st-ft', 'Gare/github-issues', 'benjamin/ner-uk',\n",
      " 'laion/laion2B-en-safety', 'laion/laion2B-multi-safety',\n",
      " 'laion/laion1B-nolang-safety', 'laion/laion5B-index',\n",
      " 'Marmoot/Fake_News_jpposadas', 'Marmoot/Kaggle_1', 'Georgii/russianPoetry',\n",
      " 'MorVentura/TRBLLmaker', 'medardodt/ESsnli', 'jglaser/pdbbind_complexes',\n",
      " 'ashishpapanai/inverted_vs_normal', 'Jiangjie/ekar_chinese',\n",
      " 'Jiangjie/ekar_english', 'atenglens/taiwanese_english_translation',\n",
      " 'nadhifikbarw/id_ohsuhmed', 'tomekkorbak/pile-toxic-chunk-0',\n",
      " 'UrukHan/wav2vec2-russian', 'T-202/github-issues', 'TzRain/AMPs',\n",
      " 'smilegate-ai/kor_unsmile', 'UrukHan/t5-russian-spell_I',\n",
      " 'UrukHan/t5-russian-spell_II', 'UrukHan/t5-russian-spell_III',\n",
      " 'stjokerli/TextToText_DocNLI_seqio',\n",
      " 'laion/conceptual-captions-12m-webdataset', 'leonadase/fdRE',\n",
      " 'IIC/spanish_biomedical_crawled_corpus_splitted', 'mrm8488/AnswerSum',\n",
      " 'IIC/ms_marco_es', 'stjokerli/TextToText_squad_seqio', 'sac3tf/roman_urdu',\n",
      " 'yawnick/QMSum-Summaries', 'adv_glue', 'sichenzhong/squad_v2_synonym_aug',\n",
      " 'aaditya/medmcqa', 'carolina-c4ai/corpus-carolina',\n",
      " 'wrapper228/arxiv_data_extended', 'nobodylll/test_huggingface_dataset',\n",
      " 'laion/laion-synthetic-115m', 'gorkaartola/github-issues', 'IIC/msmarco_es',\n",
      " 'laion/laion2B-en-watermark', 'laion/water-vit-webdataset',\n",
      " 'Splend1dchan/NMSQA_w2v2-st-ft2', 'Pavithra/sampled-code-parrot-ds-train',\n",
      " 'Pavithra/sampled-code-parrot-ds-valid',\n",
      " 'M-Quan/sv_corpora_parliament_processe',\n",
      " 'hackathon-pln-es/Dataset-Acoso-Twitter-Es', 'Sampson2022/demo',\n",
      " 'abdusahmbzuai/arabic_speech_massive_sm', 'huggan/horse2zebra',\n",
      " 'tskolm/youtube_top_popular_videos_comments', 'huggan/monet2photo',\n",
      " 'huggan/cezanne2photo', 'huggan/ukiyoe2photo', 'huggan/vangogh2photo',\n",
      " 'huggan/apple2orange', 'huggan/iphone2dslr_flower',\n",
      " 'huggan/summer2winter_yosemite', 'huggan/grumpifycat',\n",
      " 'malay-huggingface/jelapang-padi', 'boris/gis_filtered',\n",
      " 'hackathon-pln-es/Fake_news_train', 'rzhang123/UScourt',\n",
      " 'crisdev/codigocomentario', 'marksverdhei/clickbait_title_classification',\n",
      " 'laion/laion2B-en-joined', 'laion/laion2B-multi-joined',\n",
      " 'laion/laion1B-nolang-joined', 'liza-alx/tokenized_data_yahoo',\n",
      " 'liza-alx/tokenized_data', 'laion/laion2B-multi-watermark',\n",
      " 'laion/laion1B-nolang-watermark', 'hackathon-pln-es/nli-es',\n",
      " 'sichenzhong/squad_v2_word2vec_aug', 'vumichien/pitch_japanese_data',\n",
      " 'Cptburgos/aircraft_reports', 'andreamorgar/spanish_poetry',\n",
      " 'blo05/cleaned_wiki_en_0-20', 'javilonso/mex_data', 'Splend1dchan/phone-squad',\n",
      " 'artemis13fowl/imdb', 'blo05/cleaned_wiki_en_20-40', 'ntt123/infore',\n",
      " 'omerm/test_dataset', 'MLCommons/peoples_speech',\n",
      " 'hackathon-pln-es/Axolotl-Spanish-Nahuatl', 'lislia/GDPR', 'MF-Rocket/MFRPC',\n",
      " 'mariosasko/rvl_cdip', 'sichenzhong/squad_v2_context_aug',\n",
      " 'sichenzhong/squad_v2_back_trans_synonym_aug', 'copenlu/sufficient_facts',\n",
      " 'simonchristensen1/GDPR', 'hackathon-pln-es/disco_spanish_poetry',\n",
      " 'nateraw/test-imagefolder-dataset', 'oscarfossey/NLP_Pole_emploi',\n",
      " 'su/jingdong', 'Atnafu/Parallel_dataset_for_Ethiopian_languages',\n",
      " 'DioLiu/Test1', 'DioLiu/Test2', 'NbAiLab/nb_bert',\n",
      " 'tomekkorbak/pile-nontoxic-chunk-0', 'r1ck/Corpus-Embedd',\n",
      " 'Splend1dchan/phone-squad-parquet', 'benwoodyear/guardian_crosswords',\n",
      " 'LeoFeng/MLHW_6', 'tomekkorbak/pile-toxicity-balanced',\n",
      " 'huggan/CelebA-faces-with-attributes', 'rubrix/news', 'rubrix/news_test',\n",
      " 'rubrix/test_datasetdict', 'johnowhitaker/glid3_orbs', 'arjundd/dosma-data',\n",
      " 'hackathon-pln-es/neutral-es', 'happifyhealth/A_Goal_semi_supervised',\n",
      " 'NbAiLab/nb_bert_debiased', 'KevinZ/psycholinguistic_eval',\n",
      " 'sichenzhong/squad_v2_back_trans_possib_aug',\n",
      " 'sichenzhong/squad_v2_back_trans_synonym_possib_aug',\n",
      " 'Ericblancosf/subtechnique', 'malay-huggingface/lane-detection', 'tan9/bioasq',\n",
      " 'HosseinGT/wider_face_background', 'tan9/pubmedQA', 'sfdkiaei/EAS',\n",
      " 'jimregan/psst', 'mariosasko/CelebA-faces-with-attributes',\n",
      " 'huggan/few-shot-obama', 'huggan/few-shot-grumpy-cat', 'huggan/few-shot-panda',\n",
      " 'huggan/few-shot-cat', 'huggan/few-shot-dog', 'huggan/few-shot-anime-face',\n",
      " 'huggan/pokemon', 'blo05/cleaned_wiki_en_40-60',\n",
      " 'huggan/few-shot-art-painting', 'huggan/few-shot-fauvism-still-life',\n",
      " 'huggan/few-shot-flat-colored-patterns', 'huggan/few-shot-moongate',\n",
      " 'huggan/few-shot-pokemon', 'huggan/few-shot-shells', 'huggan/few-shot-skulls',\n",
      " 'hackathon-pln-es/es_tweets_laboral', 'lislia/gdpr_train', 'metashift',\n",
      " 'jamescalam/stoic-corpus', 'PaulLerner/viquae_passages',\n",
      " 'nntadotzips/vietjack_geography_original_labeled_train_test',\n",
      " 'jglaser/pdb_protein_ligand_complexes', 'hackathon-pln-es/biomed_squad_es_v2',\n",
      " 'MalakhovIlya/RuNNE', 'DMetaSoul/chinese-semantic-textual-similarity',\n",
      " 'AykeeSalazar/violation-classification', 'copenlu/fever_gold_evidence',\n",
      " 'UrukHan/t5-russian-summarization', 'marksverdhei/wordnet-definitions-en-2021',\n",
      " 'hackathon-pln-es/spanish-poetry-dataset',\n",
      " 'hackathon-pln-es/spanish-to-quechua', 'aymen31/PlantVillage', 'abdulhady/ckb',\n",
      " 'blo05/cleaned_wiki_en_60-80', 'johnowhitaker/colorbs',\n",
      " 'fmmolina/eHealth-KD-Adaptation', 'Pavithra/sampled-code-parrot-train-100k',\n",
      " 'Pavithra/sampled-code-parrot-valid-100k',\n",
      " 'hackathon-pln-es/readability-es-caes', 'hackathon-pln-es/unam_tesis',\n",
      " 'hackathon-pln-es/scientific_papers_en', 'miracFence/scientific_papers_es',\n",
      " 'miracFence/scientific_papers_en_es', 'hackathon-pln-es/scientific_papers_es',\n",
      " 'hackathon-pln-es/scientific_papers_en_es', 'hackathon-pln-es/ITAMA-DataSet',\n",
      " 'ManRo/Sexism_Twitter_MeTwo', 'pragnakalp/squad_v2_french_translated',\n",
      " 'blo05/cleaned_wiki_en_80-100',\n",
      " 'ikekobby/40-percent-cleaned-preprocessed-fake-real-news',\n",
      " 'arch-raven/music-fingerprint-dataset',\n",
      " 'hackathon-pln-es/readability-es-hackathon-pln-public',\n",
      " 'huggan/inat_butterflies', 'elena-soare/datasaur_text2sql',\n",
      " 'huggingartists/olga-buzova', 'Nart/abkhaz_text',\n",
      " 'lislia/clean_policyQA_train', 'huggan/inat_butterflies_top10k',\n",
      " 'damlab/human_hiv_ppi', 'nielsr/eurosat-demo', 'huggan/flowers-102-categories',\n",
      " 'met/mm', 'huggan/smithsonian-butterfly-lowres', 'met/Meti_ICT',\n",
      " 'SocialGrep/the-reddit-dataset-dataset',\n",
      " 'happifyhealth/G_Activity_semi_supervised', 'aaraki/github-issues',\n",
      " 'DioLiu/Test3', 'rafay/upside_down_detection_cifar100',\n",
      " 'jet-universe/jetclass', 'PolyAI/minds14', 'aaraki/github-issues2',\n",
      " 'ramnika003/autotrain-data-sentiment_analysis_project', 'met/AMH_MET',\n",
      " 'met/Meti_try', 'met/Met', 'Jeneral/fer2013', 'duskvirkus/dafonts-free',\n",
      " 'huggan/sim2real_gta5_to_cityscapes', 'javilonso/mex_data_augmented',\n",
      " 'galv/peoples-speech', 'happifyhealth/E_Perspective_semi_supervised',\n",
      " 'julien-c/impressionists', 'Pavithra/sampled-code-parrot-ds-train-100',\n",
      " 'aayush9753/InterIIT-Bosch-MidPrep-AgeGenderClassificationInCCTV',\n",
      " 'gigant/wikiart-test', 'SocialGrep/the-reddit-place-dataset', 'Junior/data',\n",
      " 'Cheltone/augmented_50k', 'dnes1983/train.csv', 'dnes1983/train',\n",
      " 'Jianxin1111/juicycollection', 'aaraki/github-issues3', 'ChainYo/rvl-cdip',\n",
      " 'theproductboxes/packagingboxes', 'dalton72/turk-data-tw',\n",
      " 'israel/Amharic-News-Text-classification-Dataset', 'lulul/liludataset',\n",
      " 'huggan/wikiart', 'nealmgkr/tminer_hs', 'dalton72/twitter-sent',\n",
      " 'albertvillanova/mtet', 'Mateo/isic', 'truongpdd/KDD22task2', 'tyfann/csgsql',\n",
      " 'StanBienaives/french-open-fiscal-texts', 'JeunesseAfricaine/sheng_nlu',\n",
      " 'dalton72/twitter-data-set-tr', 'Pavithra/sampled-code-parrot-ds-valid-100',\n",
      " 'Jeneral/fer-2013', 'ChainYo/rvl-cdip-questionnaire',\n",
      " 'ChainYo/rvl-cdip-invoice', 'ukr-models/Ukr-Synth', 'Cheltone/AugSent',\n",
      " 'openclimatefix/era5', 'happifyhealth/robinson_emotions_semi_supervised',\n",
      " 'ucl-snlp-group-11/guardian_crosswords', 'truongpdd/KDD22task2Full',\n",
      " 'bible-nlp/biblenlp-corpus', 'gary109/MIR_ST500', 'DINDAKHRNNNSA/VCLAS_M6',\n",
      " 'frascuchon/news_test', 'aaraki/github-issues1', 'MalakhovIlya/NEREL',\n",
      " 'mteb/reddit-clustering', 'yuxiangwang/flat_relation',\n",
      " 'NLPC-UOM/Sinhala-News-Category-classification',\n",
      " 'NLPC-UOM/Sinhala-News-Source-classification',\n",
      " 'Splend1dchan/NMSQA_wav2vev2-lv-60-espeak-cv-ft_phone',\n",
      " 'tomekkorbak/pile-toxicity-balanced2', 'mteb/stackexchange-clustering',\n",
      " 'mteb/twentynewsgroups-clustering', 'skt/kobest_v1',\n",
      " 'AlekseyKorshuk/fluf-world-scenes-and-sounds', 'LeoFeng/Text_classification',\n",
      " 'abhishek-shrm/github-issues', 'kniemiec/crack-segm',\n",
      " 'AlekseyKorshuk/dooggies', 'johnnydevriese/airplanes', 'finiteautomata/sa-es',\n",
      " 'i-am-neo/ami_shard_0of8_phrases',\n",
      " 'i-am-neo/ami_shard_0of8_phrases_experiment', 'yzhou992/tokenize_wikitext103',\n",
      " 'Gautam9595/Squad_Translated', 'nateraw/quickdraw-sample',\n",
      " 'aaraki/github-issues5', 'deepakvk/squad2_valdn', 'AlekseyKorshuk/cryptopunks',\n",
      " 'ChainYo/cats_vs_dogs', 'deepakvk/squad2_valdn_paraphrased',\n",
      " 'openclimatefix/swedish-rainfall-radar',\n",
      " 'GEM-submissions/ratishsp__ent__1649421332',\n",
      " 'GEM-submissions/ratishsp__ncp_cc__1649422112',\n",
      " 'GEM-submissions/ratishsp__ent__1649422569',\n",
      " 'GEM-submissions/ratishsp__ncp_cc__1649422863', 'Gautam9595/Squad_dataset2',\n",
      " 'davanstrien/v4design_test', 'davanstrien/v4design_csv_only',\n",
      " 'juancopi81/github-issues', 'bergoliveira/pl-corpus', 'lm233/humor_train',\n",
      " 'McGill-NLP/TopiOCQA', 'alperiox/user-opinion-classification-hf-kili',\n",
      " 'nateraw/quickdraw', 'ceyda/smithsonian_butterflies',\n",
      " 'eliwill/First_and_Last_Freedom', 'gdwangh/kaggle-nlp-getting-start',\n",
      " 'eliwill/Krishnamurti', 'Chris1/boredapeyachtclub', 'student/celebA',\n",
      " 'eliwill/Lincoln', 'student/MNIST', 'huggan/chebakia',\n",
      " 'krinal214/tydiqa_ben_tel', 'Guldeniz/flower_dataset',\n",
      " 'Guldeniz/trimaps_dataset', 'huggingnft/dooggies',\n",
      " 'krinal214/squad_ben_tel_que_only', 'krinal214/squad_ben_tel_context',\n",
      " 'Chris1/cryptopunks', 'huggingnft/cryptoadz-by-gremplin',\n",
      " 'huggingnft/cyberkongz', 'huggingnft/mini-mutants', 'huggingnft/theshiboshis',\n",
      " 'huggingnft/cryptopunks', 'huggingnft/nftrex', 'huggingnft/etherbears',\n",
      " 'huggingnft/alpacadabraz', 'huggingnft/trippytoadznft',\n",
      " 'huggingnft/boredapeyachtclub', 'MalakhovIlya/RuREBus', 'LQQ/github-issues',\n",
      " 'jet-universe/top_quark_tagging', 'krinal214/squad_que_partial',\n",
      " 'lewtun/top_quark_tagging_old', 'Nabby/my_dataset', 'nsusemiehl/SciERC',\n",
      " 'arjundd/skm-tea-mini', 'aomar85/WikidataDS',\n",
      " 'Conrad747/Lg-En-Profession-Parallel-Corpus',\n",
      " 'DrishtiSharma/Anime-Face-Dataset', 'mattgmcadams/AirDrums',\n",
      " 'crystina-z/quora', 'crystina-z/quora-corpus', 'surdan/nerel_short',\n",
      " 'enimai/MuST-C-de', 'yogi/amazon',\n",
      " 'huggingface/semantic-segmentation-test-sample', 'westphal-jan/mnli_matched',\n",
      " 'csebuetnlp/squad_bn', 'openclimatefix/prepared-batches',\n",
      " 'lewtun/autoevaluate__emotion', 'AntoineLB/Frozen-lake-dataset',\n",
      " 'paul21/nq_dataset', 'Diva/AutomatedBlogSpot', 'arampacha/rsicd',\n",
      " 'Hasanmurad/github-issues', 'UrukHan/wav2vec2-ru-I',\n",
      " 'davanstrien/brill_one_label', 'dhirajprai/funsd',\n",
      " 'happifyhealth/test-dataset', 'theojolliffe/github-issues',\n",
      " 'theojolliffe/welsh-trans-1', 'vendrick17/dark_fantasy',\n",
      " 'irenelizihui/Surfer100', 'Soulaimen/cerebra', 'raquiba/Sarcasm_News_Headline',\n",
      " 'dandelin/imagenet', 'nntadotzip/iuQAchatbot_ver12April2022',\n",
      " 'Splend1dchan/NMSQA_wav2vec2-large-960h-lv60-self', 'taln-ls2n/inspec',\n",
      " 'yarongef/human_proteome_singlets', 'Matthijs/snacks',\n",
      " 'mwong/fever-evidence-related', 'yuanjie/demo', 'arakesh/test9920', 'gsm8k',\n",
      " 'HFFErica/steamreviews', 'sbu_captions', 'yarongef/human_proteome_doublets',\n",
      " 'yarongef/human_proteome_triplets', 'mwong/climate-evidence-related',\n",
      " 'Pavithree/eli5', 'Splend1dchan/NMSQA_wav2vec2-large-10min-lv60-self',\n",
      " 'enimai/MuST-C-and-WMT16-de-en', 'Matthijs/snacks-detection',\n",
      " 'arakesh/PennFudanPedestrian-1024x512', 'arakesh/deepglobe-2448x2448',\n",
      " 'pietrolesci/dnli', 'csteinmetz1/test-dataset', 'arakesh/uavid-15-hq-mixedres',\n",
      " 'mteb/quora-retrieval',\n",
      " 'bshaekos/Pasadena-Wind_Tunnel-ArtCenter_College_of_Design',\n",
      " 'mteb/cqadupstack-retrieval', 'pietrolesci/robust_nli',\n",
      " 'peteroli/github-issues', 'openenvironments/blockgroupvoting',\n",
      " 'hitomi-team/data-discord-toxicity', 'huggan/few-shot-universe',\n",
      " 'Soulaimen/layout', 'huggan/few-shot-aurora', 'Splend1dchan/slue-text',\n",
      " 'StinginAI/TestDataset', 'Sampson2022/test', 'HannahRoseKirk/HatemojiCheck',\n",
      " 'lwdragon/tets', 'ckdkambh/testDataSet', 'HannahRoseKirk/HatemojiBuild',\n",
      " 'ghomasHudson/hotpotExtendedAno', 'krinal214/tydiqa_Translated',\n",
      " 'huggan/smithsonian_butterflies_subset', 'krinal214/tydiqa_Translated_v2',\n",
      " 'javilonso/mex_data_title_with_opinion', 'SetFit/amazon_reviews_multi_en',\n",
      " 'vinaykudari/acled-information-extraction', 'dnhan/iwslt2015-en-vi',\n",
      " 'enimai/MuST-C-it', 'sh110495/lg-summarization', 'bullmount/squad_it',\n",
      " 'jordane95/msmarco-passage-query',\n",
      " 'ceyda/smithsonian_butterflies_transparent_cropped', 'Aanisha/NeonGAN_dataset',\n",
      " 'taln-ls2n/kp20k', 'Srini99/TamilQA', 'huggingnft/hapeprime', 'ajanco/pesp',\n",
      " 'truongpdd/task2Train', 'conceptual_captions', 'truongpdd/task2Test',\n",
      " 'Yaxin/codeSwitch', 'huggingnft/cryptoskulls', 'jason9693/APEACH',\n",
      " 'jason9693/autotrain-data-kor_hate_eval', 'daniel-dona/tfg-voice-1',\n",
      " 'javilonso/mex_data_title_with_opinion_augmented', 'craffel/tasky_or_not',\n",
      " 'miccull/met_museum', 'husnu/CommonVoice8.0_tr', 'huggingnft/azuki',\n",
      " 'huggingnft/mutant-ape-yacht-club', 'Chris1/mutant-ape-yacht-club',\n",
      " 'XiangPan/waimai_10k', 'XiangPan/online_shopping_10_cats_62k',\n",
      " 'XiangPan/ChnSentiCorp_htl_8k', 'awacke1/data.csv',\n",
      " 'Tristan/data-measurements-cache', 'bullmount/squad-it-exp',\n",
      " 'mwong/fever-claim-related', 'mwong/climate-claim-related',\n",
      " 'rocca/clip-keyphrase-embeddings', 'winryrb3/jcth_trans', 'nielsr/ade20k-demo',\n",
      " 'Peihao/test-dateset', 'UrukHan/wav2vec2-ru-II', 'UrukHan/wav2vec2-ru-III',\n",
      " 'UrukHan/wav2vec2-ru-IV', 'conceptual_12m', 'UrukHan/wav2vec2-ru-V',\n",
      " 'Chris1/hapeprime', 'Chris1/official-moar-by-joan-cornella',\n",
      " 'Chris1/the-art-of-seasons', 'Chris1/bored-ape-kennel-club', 'Chris1/clonex',\n",
      " 'Chris1/azuki', 'cestwc/cnn_dailymail_test_outputs', 'UrukHan/wav2vec2-ru-VI',\n",
      " 'eliwill/rhetLincoln', 'guipenedo/p3_sg_boolq_null',\n",
      " 'guipenedo/p3_sg_boolq_empty', 'guipenedo/p3_sg_cb_null',\n",
      " 'guipenedo/p3_sg_cb_empty', 'guipenedo/p3_sg_copa_null',\n",
      " 'guipenedo/p3_sg_copa_empty', 'guipenedo/p3_sg_multirc_null',\n",
      " 'guipenedo/p3_sg_multirc_empty', 'guipenedo/p3_sg_record_null',\n",
      " 'guipenedo/p3_sg_record_empty', 'guipenedo/p3_sg_rte_null',\n",
      " 'guipenedo/p3_sg_rte_empty', 'guipenedo/p3_sg_wic_null',\n",
      " 'guipenedo/p3_sg_wic_empty', 'guipenedo/p3_sg_wsc.fixed_null',\n",
      " 'guipenedo/p3_sg_wsc.fixed_empty', 'Peihao/sharestudy',\n",
      " 'yumingh/course_project', 'polinaeterna/jsonl_test',\n",
      " 'socratic-machines/case-briefs', 'tomekkorbak/toxicity-debug', 'ajanco/deep',\n",
      " 'kniemiec/testupdxdxddsgsgdfsgxdate-crack-segmentation', 'XiangPan/CovidQCLS',\n",
      " 'student/CIFAR-10', 'mdm/yesay', 'student/FFHQ',\n",
      " 'krinal214/squad_translated_20k_mbart', 'huseinzol05/Malay-TTS-Yasmin',\n",
      " 'student/ImageNet-64', 'top-landscape/top_quark_tagging',\n",
      " 'top-landscape/nsubjettiness', 'top-landscape/jet_images',\n",
      " 'westphal-jan/mnli_entailment', 'horsbug98/squad_demo',\n",
      " 'surrey-nlp/PLOD-filtered', 'danieleV9H/audio_snips',\n",
      " 'horsbug98/squad_ai4bharat_append', 'surrey-nlp/PLOD-unfiltered',\n",
      " 'horsbug98/squad_ai4bharat_ben_tel_train', 'necm77/negotiation_data',\n",
      " 'Paercky/Tweets', 'Paercky/autotrain-data-Tweets',\n",
      " 'huseinzol05/Malay-TTS-Osman', 'enimai/MuST-C-ru', 'Yaxin/Souhu',\n",
      " 'laion/laion5B-watermark-safety-ordered', 'horsbug98/ai4bharat_ben_tel_train',\n",
      " 'swardiantara/drone-ner', 'tomekkorbak/pile-toxicity-balanced2-filtered',\n",
      " 'Divyanshu/indicxnli', 'surafelkindu/Amharic_corpus',\n",
      " 'Pavithra/autopilot-sampled50k-train', 'Pavithra/autopilot-sampled50k-valid',\n",
      " 'rzhang123/US_Court_8_2', 'cestwc/shortcut', 'KevinZ/oLMpics',\n",
      " 'student/birds_400', 'student/CUB_birds_200_2011', 'agemagician/NetSurfP-SS3',\n",
      " 'multiIR/ccnews2016-8multi', 'nerpad/test', 'nerpad/test_model',\n",
      " 'unjustify/Justify', 'Winchester/BusStations']\n"
     ]
    }
   ],
   "source": [
    "datasets = list_datasets()\n",
    "print(\"Number of datasets in the Datasets library: \", len(datasets), \"\\n\\n\")\n",
    "#list of datasets in pretty-print format\n",
    "pprint(datasets, compact=True)"
   ],
   "metadata": {
    "collapsed": false,
    "pycharm": {
     "name": "#%%\n"
    }
   }
  },
  {
   "cell_type": "markdown",
   "source": [
    "The dataset library has 4227 datasets as of april 17, 2021. Based on that, I choose to work with the Stanford Question Answering Dataset (SQuAD) which is a reading comprehension dataset, consisting of questions posed by crowdworkers on a set of Wikipedia articles, where the answer to every question is a segment of text, or span, from the corresponding reading passage, or the question might be unanswerable.\n",
    "I chose to work with this dataset, because I have always found it interesting to know how the Question Answering systems work."
   ],
   "metadata": {
    "collapsed": false,
    "pycharm": {
     "name": "#%% md\n"
    }
   }
  },
  {
   "cell_type": "code",
   "execution_count": 8,
   "outputs": [
    {
     "name": "stdout",
     "output_type": "stream",
     "text": [
      "{'author': None,\n",
      " 'cardData': {'annotations_creators': ['crowdsourced'],\n",
      "              'language_creators': ['crowdsourced', 'found'],\n",
      "              'languages': ['en'],\n",
      "              'licenses': ['cc-by-4-0'],\n",
      "              'multilinguality': ['monolingual'],\n",
      "              'paperswithcode_id': 'squad',\n",
      "              'pretty_name': 'SQuAD',\n",
      "              'size_categories': ['10K<n<100K'],\n",
      "              'source_datasets': ['extended|wikipedia'],\n",
      "              'task_categories': ['question-answering'],\n",
      "              'task_ids': ['extractive-qa']},\n",
      " 'citation': '@article{2016arXiv160605250R,\\n'\n",
      "             '       author = {{Rajpurkar}, Pranav and {Zhang}, Jian and '\n",
      "             '{Lopyrev},\\n'\n",
      "             '                 Konstantin and {Liang}, Percy},\\n'\n",
      "             '        title = \"{SQuAD: 100,000+ Questions for Machine '\n",
      "             'Comprehension of Text}\",\\n'\n",
      "             '      journal = {arXiv e-prints},\\n'\n",
      "             '         year = 2016,\\n'\n",
      "             '          eid = {arXiv:1606.05250},\\n'\n",
      "             '        pages = {arXiv:1606.05250},\\n'\n",
      "             'archivePrefix = {arXiv},\\n'\n",
      "             '       eprint = {1606.05250},\\n'\n",
      "             '}',\n",
      " 'description': 'Stanford Question Answering Dataset (SQuAD) is a reading '\n",
      "                'comprehension dataset, consisting of questions posed by '\n",
      "                'crowdworkers on a set of Wikipedia articles, where the answer '\n",
      "                'to every question is a segment of text, or span, from the '\n",
      "                'corresponding reading passage, or the question might be '\n",
      "                'unanswerable.',\n",
      " 'downloads': 189490,\n",
      " 'gated': False,\n",
      " 'id': 'squad',\n",
      " 'lastModified': '2022-01-25T15:51:34.000Z',\n",
      " 'likes': 24,\n",
      " 'paperswithcode_id': 'squad',\n",
      " 'private': False,\n",
      " 'sha': '7b739d9ed70d2d68642e7473dbcbf2244c2dbd82',\n",
      " 'siblings': [],\n",
      " 'tags': ['pretty_name:SQuAD',\n",
      "          'annotations_creators:crowdsourced',\n",
      "          'language_creators:crowdsourced',\n",
      "          'language_creators:found',\n",
      "          'languages:en',\n",
      "          'licenses:cc-by-4-0',\n",
      "          'multilinguality:monolingual',\n",
      "          'size_categories:10K<n<100K',\n",
      "          'source_datasets:extended|wikipedia',\n",
      "          'task_categories:question-answering',\n",
      "          'task_ids:extractive-qa']}\n"
     ]
    }
   ],
   "source": [
    "#dataset attributes\n",
    "squad = list_datasets(with_details=True)[datasets.index('squad')]\n",
    "#calling the python dataclass\n",
    "pprint(squad.__dict__)"
   ],
   "metadata": {
    "collapsed": false,
    "pycharm": {
     "name": "#%%\n"
    }
   }
  },
  {
   "cell_type": "code",
   "execution_count": 9,
   "outputs": [
    {
     "name": "stderr",
     "output_type": "stream",
     "text": [
      "Downloading builder script: 5.27kB [00:00, 878kB/s]                    \n",
      "Downloading metadata: 2.36kB [00:00, 590kB/s]                    \n"
     ]
    },
    {
     "name": "stdout",
     "output_type": "stream",
     "text": [
      "Downloading and preparing dataset squad/plain_text (download: 33.51 MiB, generated: 85.63 MiB, post-processed: Unknown size, total: 119.14 MiB) to C:\\Users\\imTech\\.cache\\huggingface\\datasets\\squad\\plain_text\\1.0.0\\d6ec3ceb99ca480ce37cdd35555d6cb2511d223b9150cce08a837ef62ffea453...\n"
     ]
    },
    {
     "name": "stderr",
     "output_type": "stream",
     "text": [
      "Downloading data files:   0%|          | 0/2 [00:00<?, ?it/s]\n",
      "Downloading data:   0%|          | 0.00/8.12M [00:00<?, ?B/s]\u001B[A\n",
      "Downloading data:  23%|██▎       | 1.90M/8.12M [00:00<00:00, 18.8MB/s]\u001B[A\n",
      "Downloading data:  47%|████▋     | 3.78M/8.12M [00:00<00:00, 16.9MB/s]\u001B[A\n",
      "Downloading data:  68%|██████▊   | 5.48M/8.12M [00:00<00:00, 14.4MB/s]\u001B[A\n",
      "Downloading data:  96%|█████████▌| 7.81M/8.12M [00:00<00:00, 17.4MB/s]\u001B[A\n",
      "Downloading data: 10.1MB [00:00, 19.3MB/s]                            \u001B[A\n",
      "Downloading data: 12.2MB [00:00, 19.7MB/s]\u001B[A\n",
      "Downloading data: 14.2MB [00:00, 17.5MB/s]\u001B[A\n",
      "Downloading data: 16.3MB [00:00, 15.2MB/s]\u001B[A\n",
      "Downloading data: 18.1MB [00:01, 15.7MB/s]\u001B[A\n",
      "Downloading data: 19.8MB [00:01, 15.8MB/s]\u001B[A\n",
      "Downloading data: 21.4MB [00:01, 13.8MB/s]\u001B[A\n",
      "Downloading data: 23.7MB [00:01, 16.0MB/s]\u001B[A\n",
      "Downloading data: 26.4MB [00:01, 18.8MB/s]\u001B[A\n",
      "Downloading data: 30.3MB [00:01, 17.5MB/s]\u001B[A\n",
      "Downloading data files:  50%|█████     | 1/2 [00:06<00:06,  6.31s/it]\n",
      "Downloading data:   0%|          | 0.00/1.05M [00:00<?, ?B/s]\u001B[A\n",
      "Downloading data: 2.43MB [00:00, 24.3MB/s]                   \u001B[A\n",
      "Downloading data: 4.85MB [00:00, 22.3MB/s]\u001B[A\n",
      "Downloading data files: 100%|██████████| 2/2 [00:07<00:00,  3.52s/it]\n",
      "Extracting data files: 100%|██████████| 2/2 [00:00<00:00, 285.32it/s]\n",
      "                                                                                          \r"
     ]
    },
    {
     "name": "stdout",
     "output_type": "stream",
     "text": [
      "Dataset squad downloaded and prepared to C:\\Users\\imTech\\.cache\\huggingface\\datasets\\squad\\plain_text\\1.0.0\\d6ec3ceb99ca480ce37cdd35555d6cb2511d223b9150cce08a837ef62ffea453. Subsequent calls will reuse this data.\n"
     ]
    },
    {
     "name": "stderr",
     "output_type": "stream",
     "text": [
      "100%|██████████| 2/2 [00:00<00:00, 29.41it/s]\n"
     ]
    }
   ],
   "source": [
    "squad_dataset = load_dataset('squad')"
   ],
   "metadata": {
    "collapsed": false,
    "pycharm": {
     "name": "#%%\n"
    }
   }
  },
  {
   "cell_type": "code",
   "execution_count": 10,
   "outputs": [
    {
     "name": "stdout",
     "output_type": "stream",
     "text": [
      "DatasetDict({\n",
      "    train: Dataset({\n",
      "        features: ['id', 'title', 'context', 'question', 'answers'],\n",
      "        num_rows: 87599\n",
      "    })\n",
      "    validation: Dataset({\n",
      "        features: ['id', 'title', 'context', 'question', 'answers'],\n",
      "        num_rows: 10570\n",
      "    })\n",
      "})\n"
     ]
    }
   ],
   "source": [
    "print(squad_dataset)"
   ],
   "metadata": {
    "collapsed": false,
    "pycharm": {
     "name": "#%%\n"
    }
   }
  },
  {
   "cell_type": "code",
   "execution_count": 11,
   "outputs": [
    {
     "name": "stderr",
     "output_type": "stream",
     "text": [
      "Reusing dataset squad (C:\\Users\\imTech\\.cache\\huggingface\\datasets\\squad\\plain_text\\1.0.0\\d6ec3ceb99ca480ce37cdd35555d6cb2511d223b9150cce08a837ef62ffea453)\n",
      "Reusing dataset squad (C:\\Users\\imTech\\.cache\\huggingface\\datasets\\squad\\plain_text\\1.0.0\\d6ec3ceb99ca480ce37cdd35555d6cb2511d223b9150cce08a837ef62ffea453)\n"
     ]
    }
   ],
   "source": [
    "squad_train = load_dataset('squad', split='train')\n",
    "squad_valid = load_dataset('squad', split='validation')"
   ],
   "metadata": {
    "collapsed": false,
    "pycharm": {
     "name": "#%%\n"
    }
   }
  },
  {
   "cell_type": "code",
   "execution_count": 12,
   "outputs": [
    {
     "name": "stderr",
     "output_type": "stream",
     "text": [
      "Downloading builder script: 7.45kB [00:00, 1.86MB/s]                   \n",
      "Downloading metadata: 195kB [00:00, 21.6MB/s]                    \n"
     ]
    },
    {
     "ename": "ValueError",
     "evalue": "Config name is missing.\nPlease pick one among the available configs: ['Wireless_v1_00', 'Watches_v1_00', 'Video_Games_v1_00', 'Video_DVD_v1_00', 'Video_v1_00', 'Toys_v1_00', 'Tools_v1_00', 'Sports_v1_00', 'Software_v1_00', 'Shoes_v1_00', 'Pet_Products_v1_00', 'Personal_Care_Appliances_v1_00', 'PC_v1_00', 'Outdoors_v1_00', 'Office_Products_v1_00', 'Musical_Instruments_v1_00', 'Music_v1_00', 'Mobile_Electronics_v1_00', 'Mobile_Apps_v1_00', 'Major_Appliances_v1_00', 'Luggage_v1_00', 'Lawn_and_Garden_v1_00', 'Kitchen_v1_00', 'Jewelry_v1_00', 'Home_Improvement_v1_00', 'Home_Entertainment_v1_00', 'Home_v1_00', 'Health_Personal_Care_v1_00', 'Grocery_v1_00', 'Gift_Card_v1_00', 'Furniture_v1_00', 'Electronics_v1_00', 'Digital_Video_Games_v1_00', 'Digital_Video_Download_v1_00', 'Digital_Software_v1_00', 'Digital_Music_Purchase_v1_00', 'Digital_Ebook_Purchase_v1_00', 'Camera_v1_00', 'Books_v1_00', 'Beauty_v1_00', 'Baby_v1_00', 'Automotive_v1_00', 'Apparel_v1_00', 'Digital_Ebook_Purchase_v1_01', 'Books_v1_01', 'Books_v1_02']\nExample of usage:\n\t`load_dataset('amazon_us_reviews', 'Wireless_v1_00')`",
     "output_type": "error",
     "traceback": [
      "\u001B[1;31m---------------------------------------------------------------------------\u001B[0m",
      "\u001B[1;31mValueError\u001B[0m                                Traceback (most recent call last)",
      "\u001B[1;32m<ipython-input-12-81befe34f8d0>\u001B[0m in \u001B[0;36m<module>\u001B[1;34m\u001B[0m\n\u001B[1;32m----> 1\u001B[1;33m \u001B[0mamazon_us_reviews\u001B[0m \u001B[1;33m=\u001B[0m \u001B[0mload_dataset\u001B[0m\u001B[1;33m(\u001B[0m\u001B[1;34m'amazon_us_reviews'\u001B[0m\u001B[1;33m)\u001B[0m\u001B[1;33m\u001B[0m\u001B[1;33m\u001B[0m\u001B[0m\n\u001B[0m",
      "\u001B[1;32mc:\\users\\imtech\\appdata\\local\\programs\\python\\python37\\lib\\site-packages\\datasets\\load.py\u001B[0m in \u001B[0;36mload_dataset\u001B[1;34m(path, name, data_dir, data_files, split, cache_dir, features, download_config, download_mode, ignore_verifications, keep_in_memory, save_infos, revision, use_auth_token, task, streaming, **config_kwargs)\u001B[0m\n\u001B[0;32m   1673\u001B[0m         \u001B[0mrevision\u001B[0m\u001B[1;33m=\u001B[0m\u001B[0mrevision\u001B[0m\u001B[1;33m,\u001B[0m\u001B[1;33m\u001B[0m\u001B[1;33m\u001B[0m\u001B[0m\n\u001B[0;32m   1674\u001B[0m         \u001B[0muse_auth_token\u001B[0m\u001B[1;33m=\u001B[0m\u001B[0muse_auth_token\u001B[0m\u001B[1;33m,\u001B[0m\u001B[1;33m\u001B[0m\u001B[1;33m\u001B[0m\u001B[0m\n\u001B[1;32m-> 1675\u001B[1;33m         \u001B[1;33m**\u001B[0m\u001B[0mconfig_kwargs\u001B[0m\u001B[1;33m,\u001B[0m\u001B[1;33m\u001B[0m\u001B[1;33m\u001B[0m\u001B[0m\n\u001B[0m\u001B[0;32m   1676\u001B[0m     )\n\u001B[0;32m   1677\u001B[0m \u001B[1;33m\u001B[0m\u001B[0m\n",
      "\u001B[1;32mc:\\users\\imtech\\appdata\\local\\programs\\python\\python37\\lib\\site-packages\\datasets\\load.py\u001B[0m in \u001B[0;36mload_dataset_builder\u001B[1;34m(path, name, data_dir, data_files, cache_dir, features, download_config, download_mode, revision, use_auth_token, **config_kwargs)\u001B[0m\n\u001B[0;32m   1523\u001B[0m         \u001B[0muse_auth_token\u001B[0m\u001B[1;33m=\u001B[0m\u001B[0muse_auth_token\u001B[0m\u001B[1;33m,\u001B[0m\u001B[1;33m\u001B[0m\u001B[1;33m\u001B[0m\u001B[0m\n\u001B[0;32m   1524\u001B[0m         \u001B[1;33m**\u001B[0m\u001B[0mbuilder_kwargs\u001B[0m\u001B[1;33m,\u001B[0m\u001B[1;33m\u001B[0m\u001B[1;33m\u001B[0m\u001B[0m\n\u001B[1;32m-> 1525\u001B[1;33m         \u001B[1;33m**\u001B[0m\u001B[0mconfig_kwargs\u001B[0m\u001B[1;33m,\u001B[0m\u001B[1;33m\u001B[0m\u001B[1;33m\u001B[0m\u001B[0m\n\u001B[0m\u001B[0;32m   1526\u001B[0m     )\n\u001B[0;32m   1527\u001B[0m \u001B[1;33m\u001B[0m\u001B[0m\n",
      "\u001B[1;32mc:\\users\\imtech\\appdata\\local\\programs\\python\\python37\\lib\\site-packages\\datasets\\builder.py\u001B[0m in \u001B[0;36m__init__\u001B[1;34m(self, writer_batch_size, *args, **kwargs)\u001B[0m\n\u001B[0;32m   1029\u001B[0m \u001B[1;33m\u001B[0m\u001B[0m\n\u001B[0;32m   1030\u001B[0m     \u001B[1;32mdef\u001B[0m \u001B[0m__init__\u001B[0m\u001B[1;33m(\u001B[0m\u001B[0mself\u001B[0m\u001B[1;33m,\u001B[0m \u001B[1;33m*\u001B[0m\u001B[0margs\u001B[0m\u001B[1;33m,\u001B[0m \u001B[0mwriter_batch_size\u001B[0m\u001B[1;33m=\u001B[0m\u001B[1;32mNone\u001B[0m\u001B[1;33m,\u001B[0m \u001B[1;33m**\u001B[0m\u001B[0mkwargs\u001B[0m\u001B[1;33m)\u001B[0m\u001B[1;33m:\u001B[0m\u001B[1;33m\u001B[0m\u001B[1;33m\u001B[0m\u001B[0m\n\u001B[1;32m-> 1031\u001B[1;33m         \u001B[0msuper\u001B[0m\u001B[1;33m(\u001B[0m\u001B[1;33m)\u001B[0m\u001B[1;33m.\u001B[0m\u001B[0m__init__\u001B[0m\u001B[1;33m(\u001B[0m\u001B[1;33m*\u001B[0m\u001B[0margs\u001B[0m\u001B[1;33m,\u001B[0m \u001B[1;33m**\u001B[0m\u001B[0mkwargs\u001B[0m\u001B[1;33m)\u001B[0m\u001B[1;33m\u001B[0m\u001B[1;33m\u001B[0m\u001B[0m\n\u001B[0m\u001B[0;32m   1032\u001B[0m         \u001B[1;31m# Batch size used by the ArrowWriter\u001B[0m\u001B[1;33m\u001B[0m\u001B[1;33m\u001B[0m\u001B[1;33m\u001B[0m\u001B[0m\n\u001B[0;32m   1033\u001B[0m         \u001B[1;31m# It defines the number of samples that are kept in memory before writing them\u001B[0m\u001B[1;33m\u001B[0m\u001B[1;33m\u001B[0m\u001B[1;33m\u001B[0m\u001B[0m\n",
      "\u001B[1;32mc:\\users\\imtech\\appdata\\local\\programs\\python\\python37\\lib\\site-packages\\datasets\\builder.py\u001B[0m in \u001B[0;36m__init__\u001B[1;34m(self, cache_dir, name, hash, base_path, info, features, use_auth_token, namespace, data_files, data_dir, **config_kwargs)\u001B[0m\n\u001B[0;32m    266\u001B[0m             \u001B[0mname\u001B[0m\u001B[1;33m,\u001B[0m\u001B[1;33m\u001B[0m\u001B[1;33m\u001B[0m\u001B[0m\n\u001B[0;32m    267\u001B[0m             \u001B[0mcustom_features\u001B[0m\u001B[1;33m=\u001B[0m\u001B[0mfeatures\u001B[0m\u001B[1;33m,\u001B[0m\u001B[1;33m\u001B[0m\u001B[1;33m\u001B[0m\u001B[0m\n\u001B[1;32m--> 268\u001B[1;33m             \u001B[1;33m**\u001B[0m\u001B[0mconfig_kwargs\u001B[0m\u001B[1;33m,\u001B[0m\u001B[1;33m\u001B[0m\u001B[1;33m\u001B[0m\u001B[0m\n\u001B[0m\u001B[0;32m    269\u001B[0m         )\n\u001B[0;32m    270\u001B[0m \u001B[1;33m\u001B[0m\u001B[0m\n",
      "\u001B[1;32mc:\\users\\imtech\\appdata\\local\\programs\\python\\python37\\lib\\site-packages\\datasets\\builder.py\u001B[0m in \u001B[0;36m_create_builder_config\u001B[1;34m(self, name, custom_features, **config_kwargs)\u001B[0m\n\u001B[0;32m    348\u001B[0m                         \u001B[1;34m\"Config name is missing.\"\u001B[0m\u001B[1;33m\u001B[0m\u001B[1;33m\u001B[0m\u001B[0m\n\u001B[0;32m    349\u001B[0m                         \u001B[1;34mf\"\\nPlease pick one among the available configs: {list(self.builder_configs.keys())}\"\u001B[0m\u001B[1;33m\u001B[0m\u001B[1;33m\u001B[0m\u001B[0m\n\u001B[1;32m--> 350\u001B[1;33m                         \u001B[1;33m+\u001B[0m \u001B[1;34mf\"\\nExample of usage:\\n\\t`{example_of_usage}`\"\u001B[0m\u001B[1;33m\u001B[0m\u001B[1;33m\u001B[0m\u001B[0m\n\u001B[0m\u001B[0;32m    351\u001B[0m                     )\n\u001B[0;32m    352\u001B[0m                 \u001B[0mbuilder_config\u001B[0m \u001B[1;33m=\u001B[0m \u001B[0mself\u001B[0m\u001B[1;33m.\u001B[0m\u001B[0mBUILDER_CONFIGS\u001B[0m\u001B[1;33m[\u001B[0m\u001B[1;36m0\u001B[0m\u001B[1;33m]\u001B[0m\u001B[1;33m\u001B[0m\u001B[1;33m\u001B[0m\u001B[0m\n",
      "\u001B[1;31mValueError\u001B[0m: Config name is missing.\nPlease pick one among the available configs: ['Wireless_v1_00', 'Watches_v1_00', 'Video_Games_v1_00', 'Video_DVD_v1_00', 'Video_v1_00', 'Toys_v1_00', 'Tools_v1_00', 'Sports_v1_00', 'Software_v1_00', 'Shoes_v1_00', 'Pet_Products_v1_00', 'Personal_Care_Appliances_v1_00', 'PC_v1_00', 'Outdoors_v1_00', 'Office_Products_v1_00', 'Musical_Instruments_v1_00', 'Music_v1_00', 'Mobile_Electronics_v1_00', 'Mobile_Apps_v1_00', 'Major_Appliances_v1_00', 'Luggage_v1_00', 'Lawn_and_Garden_v1_00', 'Kitchen_v1_00', 'Jewelry_v1_00', 'Home_Improvement_v1_00', 'Home_Entertainment_v1_00', 'Home_v1_00', 'Health_Personal_Care_v1_00', 'Grocery_v1_00', 'Gift_Card_v1_00', 'Furniture_v1_00', 'Electronics_v1_00', 'Digital_Video_Games_v1_00', 'Digital_Video_Download_v1_00', 'Digital_Software_v1_00', 'Digital_Music_Purchase_v1_00', 'Digital_Ebook_Purchase_v1_00', 'Camera_v1_00', 'Books_v1_00', 'Beauty_v1_00', 'Baby_v1_00', 'Automotive_v1_00', 'Apparel_v1_00', 'Digital_Ebook_Purchase_v1_01', 'Books_v1_01', 'Books_v1_02']\nExample of usage:\n\t`load_dataset('amazon_us_reviews', 'Wireless_v1_00')`"
     ]
    }
   ],
   "source": [
    "amazon_us_reviews = load_dataset('amazon_us_reviews')\n",
    "amazon_us_reviews = load_dataset('amazon_us_reviews', 'Watches_v1_00')"
   ],
   "metadata": {
    "collapsed": false,
    "pycharm": {
     "name": "#%%\n"
    }
   }
  },
  {
   "cell_type": "code",
   "execution_count": 14,
   "outputs": [
    {
     "name": "stdout",
     "output_type": "stream",
     "text": [
      "Length of training set:  87599\n"
     ]
    }
   ],
   "source": [
    "print(\"Length of training set: \", len(squad_train))"
   ],
   "metadata": {
    "collapsed": false,
    "pycharm": {
     "name": "#%%\n"
    }
   }
  },
  {
   "cell_type": "code",
   "execution_count": 15,
   "outputs": [
    {
     "name": "stdout",
     "output_type": "stream",
     "text": [
      "First example from the dataset: \n",
      "\n",
      "{'answers': {'answer_start': [515], 'text': ['Saint Bernadette Soubirous']},\n",
      " 'context': 'Architecturally, the school has a Catholic character. Atop the '\n",
      "            \"Main Building's gold dome is a golden statue of the Virgin Mary. \"\n",
      "            'Immediately in front of the Main Building and facing it, is a '\n",
      "            'copper statue of Christ with arms upraised with the legend '\n",
      "            '\"Venite Ad Me Omnes\". Next to the Main Building is the Basilica '\n",
      "            'of the Sacred Heart. Immediately behind the basilica is the '\n",
      "            'Grotto, a Marian place of prayer and reflection. It is a replica '\n",
      "            'of the grotto at Lourdes, France where the Virgin Mary reputedly '\n",
      "            'appeared to Saint Bernadette Soubirous in 1858. At the end of the '\n",
      "            'main drive (and in a direct line that connects through 3 statues '\n",
      "            'and the Gold Dome), is a simple, modern stone statue of Mary.',\n",
      " 'id': '5733be284776f41900661182',\n",
      " 'question': 'To whom did the Virgin Mary allegedly appear in 1858 in Lourdes '\n",
      "             'France?',\n",
      " 'title': 'University_of_Notre_Dame'}\n"
     ]
    }
   ],
   "source": [
    "print(\"First example from the dataset: \\n\")\n",
    "pprint(squad_train[0])"
   ],
   "metadata": {
    "collapsed": false,
    "pycharm": {
     "name": "#%%\n"
    }
   }
  },
  {
   "cell_type": "code",
   "execution_count": 16,
   "outputs": [
    {
     "name": "stdout",
     "output_type": "stream",
     "text": [
      "Two examples from the dataset using slice operation: \n",
      "\n",
      "{'answers': [{'answer_start': [675], 'text': ['Buechner Prize for Preaching']},\n",
      "             {'answer_start': [487], 'text': ['eight']}],\n",
      " 'context': ['The university is the major seat of the Congregation of Holy '\n",
      "             'Cross (albeit not its official headquarters, which are in Rome). '\n",
      "             'Its main seminary, Moreau Seminary, is located on the campus '\n",
      "             'across St. Joseph lake from the Main Building. Old College, the '\n",
      "             'oldest building on campus and located near the shore of St. Mary '\n",
      "             'lake, houses undergraduate seminarians. Retired priests and '\n",
      "             'brothers reside in Fatima House (a former retreat center), Holy '\n",
      "             'Cross House, as well as Columba Hall near the Grotto. The '\n",
      "             'university through the Moreau Seminary has ties to theologian '\n",
      "             'Frederick Buechner. While not Catholic, Buechner has praised '\n",
      "             'writers from Notre Dame and Moreau Seminary created a Buechner '\n",
      "             'Prize for Preaching.',\n",
      "             'The College of Engineering was established in 1920, however, '\n",
      "             'early courses in civil and mechanical engineering were a part of '\n",
      "             'the College of Science since the 1870s. Today the college, '\n",
      "             'housed in the Fitzpatrick, Cushing, and Stinson-Remick Halls of '\n",
      "             'Engineering, includes five departments of study – aerospace and '\n",
      "             'mechanical engineering, chemical and biomolecular engineering, '\n",
      "             'civil engineering and geological sciences, computer science and '\n",
      "             'engineering, and electrical engineering – with eight B.S. '\n",
      "             'degrees offered. Additionally, the college offers five-year dual '\n",
      "             'degree programs with the Colleges of Arts and Letters and of '\n",
      "             'Business awarding additional B.A. and Master of Business '\n",
      "             'Administration (MBA) degrees, respectively.'],\n",
      " 'id': ['5733bed24776f4190066118c', '5733a6424776f41900660f51'],\n",
      " 'question': ['Which prize did Frederick Buechner create?',\n",
      "              'How many BS level degrees are offered in the College of '\n",
      "              'Engineering at Notre Dame?'],\n",
      " 'title': ['University_of_Notre_Dame', 'University_of_Notre_Dame']}\n"
     ]
    }
   ],
   "source": [
    "print(\"Two examples from the dataset using slice operation: \\n\")\n",
    "pprint(squad_train[14:16])"
   ],
   "metadata": {
    "collapsed": false,
    "pycharm": {
     "name": "#%%\n"
    }
   }
  },
  {
   "cell_type": "code",
   "execution_count": 17,
   "outputs": [
    {
     "name": "stdout",
     "output_type": "stream",
     "text": [
      "A column slice from the dataset: \n",
      "\n",
      "['To whom did the Virgin Mary allegedly appear in 1858 in Lourdes France?',\n",
      " 'What is in front of the Notre Dame Main Building?',\n",
      " 'The Basilica of the Sacred heart at Notre Dame is beside to which structure?',\n",
      " 'What is the Grotto at Notre Dame?',\n",
      " 'What sits on top of the Main Building at Notre Dame?']\n"
     ]
    }
   ],
   "source": [
    "print(\"A column slice from the dataset: \\n\")\n",
    "pprint(squad_train['question'][:5])"
   ],
   "metadata": {
    "collapsed": false,
    "pycharm": {
     "name": "#%%\n"
    }
   }
  },
  {
   "cell_type": "code",
   "execution_count": 18,
   "outputs": [
    {
     "name": "stdout",
     "output_type": "stream",
     "text": [
      "To whom did the Virgin Mary allegedly appear in 1858 in Lourdes France?\n",
      "To whom did the Virgin Mary allegedly appear in 1858 in Lourdes France?\n"
     ]
    }
   ],
   "source": [
    "print(squad_train['question'][0])\n",
    "print(squad_train[0]['question'])"
   ],
   "metadata": {
    "collapsed": false,
    "pycharm": {
     "name": "#%%\n"
    }
   }
  },
  {
   "cell_type": "code",
   "execution_count": 19,
   "outputs": [
    {
     "name": "stdout",
     "output_type": "stream",
     "text": [
      "True\n"
     ]
    }
   ],
   "source": [
    "print(squad_train['question'][0] == squad_train[0]['question'])"
   ],
   "metadata": {
    "collapsed": false,
    "pycharm": {
     "name": "#%%\n"
    }
   }
  },
  {
   "cell_type": "code",
   "execution_count": 20,
   "outputs": [
    {
     "name": "stdout",
     "output_type": "stream",
     "text": [
      "Features: \n",
      "{'answers': Sequence(feature={'text': Value(dtype='string', id=None), 'answer_start': Value(dtype='int32', id=None)}, length=-1, id=None),\n",
      " 'context': Value(dtype='string', id=None),\n",
      " 'id': Value(dtype='string', id=None),\n",
      " 'question': Value(dtype='string', id=None),\n",
      " 'title': Value(dtype='string', id=None)}\n",
      "Column names:  ['id', 'title', 'context', 'question', 'answers']\n"
     ]
    }
   ],
   "source": [
    "print(\"Features: \")\n",
    "pprint(squad_train.features)\n",
    "print(\"Column names: \", squad_train.column_names)"
   ],
   "metadata": {
    "collapsed": false,
    "pycharm": {
     "name": "#%%\n"
    }
   }
  },
  {
   "cell_type": "code",
   "execution_count": 21,
   "outputs": [
    {
     "name": "stdout",
     "output_type": "stream",
     "text": [
      "Number of rows:  87599\n",
      "Number of columns:  5\n",
      "Shape:  (87599, 5)\n"
     ]
    }
   ],
   "source": [
    "print(\"Number of rows: \", squad_train.num_rows)\n",
    "print(\"Number of columns: \", squad_train.num_columns)\n",
    "print(\"Shape: \", squad_train.shape)"
   ],
   "metadata": {
    "collapsed": false,
    "pycharm": {
     "name": "#%%\n"
    }
   }
  },
  {
   "cell_type": "code",
   "execution_count": 22,
   "outputs": [
    {
     "name": "stdout",
     "output_type": "stream",
     "text": [
      "Dataset({\n",
      "    features: ['id', 'title', 'context', 'question', 'answers', 'new_column'],\n",
      "    num_rows: 87599\n",
      "})\n"
     ]
    }
   ],
   "source": [
    "#Add/remove a column\n",
    "new_column = [\"foo\"] * len(squad_train)\n",
    "squad_train = squad_train.add_column(\"new_column\", new_column)\n",
    "print(squad_train)"
   ],
   "metadata": {
    "collapsed": false,
    "pycharm": {
     "name": "#%%\n"
    }
   }
  },
  {
   "cell_type": "code",
   "execution_count": 23,
   "outputs": [],
   "source": [
    "squad_train = squad_train.remove_columns(\"new_column\")"
   ],
   "metadata": {
    "collapsed": false,
    "pycharm": {
     "name": "#%%\n"
    }
   }
  },
  {
   "cell_type": "code",
   "execution_count": 33,
   "outputs": [
    {
     "data": {
      "text/plain": "<IPython.core.display.HTML object>",
      "text/html": "<table border=\"1\" class=\"dataframe\">\n  <thead>\n    <tr style=\"text-align: right;\">\n      <th></th>\n      <th>id</th>\n      <th>title</th>\n      <th>context</th>\n      <th>question</th>\n      <th>answers</th>\n    </tr>\n  </thead>\n  <tbody>\n    <tr>\n      <th>0</th>\n      <td>5726dd455951b619008f806b</td>\n      <td>Copyright_infringement</td>\n      <td>In 2007, the Institute for Policy Innovation (IPI) reported that music piracy took $12.5 billion from the U.S. economy. According to the study, musicians and those involved in the recording industry are not the only ones who experience losses attributed to music piracy. Retailers have lost over a billion dollars, while piracy has resulted in 46,000 fewer production-level jobs and almost 25,000 retail jobs. The U.S. government was also reported to suffer from music piracy, losing $422 million in tax revenue.</td>\n      <td>How many production-level jobs were lost?</td>\n      <td>{'text': ['46,000'], 'answer_start': [344]}</td>\n    </tr>\n    <tr>\n      <th>1</th>\n      <td>570c54a7b3d812140066d11b</td>\n      <td>John,_King_of_England</td>\n      <td>The new peace would only last for two years; war recommenced in the aftermath of John's decision in August 1200 to marry Isabella of Angoulême. In order to remarry, John first needed to abandon Isabel, Countess of Gloucester, his first wife; John accomplished this by arguing that he had failed to get the necessary papal permission to marry Isabel in the first place – as a cousin, John could not have legally wed her without this. It remains unclear why John chose to marry Isabella of Angoulême. Contemporary chroniclers argued that John had fallen deeply in love with Isabella, and John may have been motivated by desire for an apparently beautiful, if rather young, girl. On the other hand, the Angoumois lands that came with Isabella were strategically vital to John: by marrying Isabella, John was acquiring a key land route between Poitou and Gascony, which significantly strengthened his grip on Aquitaine.[nb 5]</td>\n      <td>How long did the new peace last?</td>\n      <td>{'text': ['two years'], 'answer_start': [34]}</td>\n    </tr>\n    <tr>\n      <th>2</th>\n      <td>57060ec552bb891400689828</td>\n      <td>The_Times</td>\n      <td>For the 2001 general election The Times declared its support for Tony Blair's Labour government, which was re-elected by a landslide. It supported Labour again in 2005, when Labour achieved a third successive win, though with a reduced majority. For the 2010 general election, however, the newspaper declared its support for the Tories once again; the election ended in the Tories taking the most votes and seats but having to form a coalition with the Liberal Democrats in order to form a government as they had failed to gain an overall majority.</td>\n      <td>For the 2010 general election, which political party did The Times support?</td>\n      <td>{'text': ['Tories'], 'answer_start': [374]}</td>\n    </tr>\n    <tr>\n      <th>3</th>\n      <td>56f8c61b9b226e1400dd0f88</td>\n      <td>Brain</td>\n      <td>Brains are most simply compared in terms of their size. The relationship between brain size, body size and other variables has been studied across a wide range of vertebrate species. As a rule, brain size increases with body size, but not in a simple linear proportion. In general, smaller animals tend to have larger brains, measured as a fraction of body size. For mammals, the relationship between brain volume and body mass essentially follows a power law with an exponent of about 0.75. This formula describes the central tendency, but every family of mammals departs from it to some degree, in a way that reflects in part the complexity of their behavior. For example, primates have brains 5 to 10 times larger than the formula predicts. Predators tend to have larger brains than their prey, relative to body size.</td>\n      <td>In mammals, brain volume and body mass follows a power law with an exponent of what?</td>\n      <td>{'text': ['0.75'], 'answer_start': [486]}</td>\n    </tr>\n    <tr>\n      <th>4</th>\n      <td>572e95a4c246551400ce4390</td>\n      <td>Cyprus</td>\n      <td>Among all cities in the Mediterranean part of the European Union, Limassol has one of the warmest winters, in the period January – February average temperature is 17–18 °C (63–64 °F) during the day and 7–8 °C (45–46 °F) at night, in other coastal locations in Cyprus is generally 16–17 °C (61–63 °F) during the day and 6–8 °C (43–46 °F) at night. During March, Limassol has average temperatures of 19–20 °C (66–68 °F) during the day and 9–11 °C (48–52 °F) at night, in other coastal locations in Cyprus is generally 17–19 °C (63–66 °F) during the day and 8–10 °C (46–50 °F) at night.</td>\n      <td>Which cities has one of the warmest winters in the European Union?</td>\n      <td>{'text': ['Limassol'], 'answer_start': [66]}</td>\n    </tr>\n    <tr>\n      <th>5</th>\n      <td>572678f9708984140094c745</td>\n      <td>Jews</td>\n      <td>Modern archaeology has largely discarded the historicity of the Patriarchs and of the Exodus story, with it being reframed as constituting the Israelites' inspiring national myth narrative. The Israelites and their culture, according to the modern archaeological account, did not overtake the region by force, but instead branched out of the Canaanite peoples and culture through the development of a distinct monolatristic — and later monotheistic — religion centered on Yahweh, one of the Ancient Canaanite deities. The growth of Yahweh-centric belief, along with a number of cultic practices, gradually gave rise to a distinct Israelite ethnic group, setting them apart from other Canaanites. The Canaanites themselves are archeologically attested in the Middle Bronze Age, while the Hebrew language is the last extant member of the Canaanite languages. In the Iron Age I period (1200–1000 BCE) Israelite culture was largely Canaanite in nature.</td>\n      <td>The period of time from 1200 to 1000 BCE is known as what?</td>\n      <td>{'text': ['Iron Age'], 'answer_start': [864]}</td>\n    </tr>\n    <tr>\n      <th>6</th>\n      <td>571cfac85efbb31900334e79</td>\n      <td>Pharmaceutical_industry</td>\n      <td>The aftermath of World War II saw an explosion in the discovery of new classes of antibacterial drugs including the cephalosporins (developed by Eli Lilly based on the seminal work of Giuseppe Brotzu and Edward Abraham), streptomycin (discovered during a Merck-funded research program in Selman Waksman's laboratory), the tetracyclines (discovered at Lederle Laboratories, now a part of Pfizer), erythromycin (discovered at Eli Lilly and Co.) and their extension to an increasingly wide range of bacterial pathogens. Streptomycin, discovered during a Merck-funded research program in Selman Waksman's laboratory at Rutgers in 1943, became the first effective treatment for tuberculosis. At the time of its discovery, sanitoriums for the isolation of tuberculosis-infected people were an ubiquitous feature of cities in developed countries, with 50% dying within 5 years of admission.</td>\n      <td>What percentage of patients infected with tuberculosis died within 5 years?</td>\n      <td>{'text': ['50%'], 'answer_start': [845]}</td>\n    </tr>\n    <tr>\n      <th>7</th>\n      <td>572e9ac6dfa6aa1500f8d1ea</td>\n      <td>Neptune</td>\n      <td>Models suggest that Neptune's troposphere is banded by clouds of varying compositions depending on altitude. The upper-level clouds lie at pressures below one bar, where the temperature is suitable for methane to condense. For pressures between one and five bars (100 and 500 kPa), clouds of ammonia and hydrogen sulfide are thought to form. Above a pressure of five bars, the clouds may consist of ammonia, ammonium sulfide, hydrogen sulfide and water. Deeper clouds of water ice should be found at pressures of about 50 bars (5.0 MPa), where the temperature reaches 273 K (0 °C). Underneath, clouds of ammonia and hydrogen sulfide may be found.</td>\n      <td>Which clouds on Neptune are suitable for methane to condense?</td>\n      <td>{'text': ['upper-level'], 'answer_start': [113]}</td>\n    </tr>\n    <tr>\n      <th>8</th>\n      <td>56e7b94300c9c71400d77565</td>\n      <td>Nanjing</td>\n      <td>The radish is also a typical food representing people of Nanjing, which has been spread through word of mouth as an interesting fact for many years in China. According to Nanjing.GOV.cn, \"There is a long history of growing radish in Nanjing especially the southern suburb. In the spring, the radish tastes very juicy and sweet. It is well-known that people in Nanjing like eating radish. And the people are even addressed as 'Nanjing big radish', which means they are unsophisticated, passionate and conservative. From health perspective, eating radish can help to offset the stodgy food that people take during the Spring Festival\".</td>\n      <td>What does calling someone 'Nanjing big radish' mean they are like?</td>\n      <td>{'text': ['they are unsophisticated, passionate and conservative'], 'answer_start': [459]}</td>\n    </tr>\n    <tr>\n      <th>9</th>\n      <td>57294c541d04691400779266</td>\n      <td>Bermuda</td>\n      <td>After several failed attempts, in 1930 the first aeroplane reached Bermuda. A Stinson Detroiter seaplane flying from New York, it had to land twice in the ocean: once because of darkness and again to refuel. Navigation and weather forecasting improved in 1933 when the Royal Air Force (then responsible for providing equipment and personnel for the Royal Navy's Fleet Air Arm) established a station at the Royal Naval Dockyard to repair (and supply replacement) float planes for the fleet. In 1936 Luft Hansa began to experiment with seaplane flights from Berlin via the Azores with continuation to New York City.</td>\n      <td>Who began experimenting with flights from Berlin to New York, stopping in the azores?</td>\n      <td>{'text': ['Luft Hansa'], 'answer_start': [498]}</td>\n    </tr>\n    <tr>\n      <th>10</th>\n      <td>57281515ff5b5019007d9cb4</td>\n      <td>Federalism</td>\n      <td>Until recently, in the absence of prior agreement on a clear and precise definition, the concept was thought to mean (as a shorthand) 'a division of sovereignty between two levels of government'. New research, however, argues that this cannot be correct, as dividing sovereignty - when this concept is properly understood in its core meaning of the final and absolute source of political authority in a political community - is not possible. The descent of the United States into Civil War in the mid-nineteenth century, over disputes about unallocated competences concerning slavery and ultimately the right of secession, showed this. One or other level of government could be sovereign to decide such matters, but not both simultaneously. Therefore, it is now suggested that federalism is more appropriately conceived as 'a division of the powers flowing from sovereignty between two levels of government'. What differentiates the concept from other multi-level political forms is the characteristic of equality of standing between the two levels of government established. This clarified definition opens the way to identifying two distinct federal forms, where before only one was known, based upon whether sovereignty resides in the whole (in one people) or in the parts (in many peoples): the federal state (or federation) and the federal union of states (or federal union), respectively. Leading examples of the federal state include the United States, Germany, Canada, Switzerland, Australia and India. The leading example of the federal union of states is the European Union.</td>\n      <td>What organization is a leading example of a federal union?</td>\n      <td>{'text': ['European Union'], 'answer_start': [1569]}</td>\n    </tr>\n    <tr>\n      <th>11</th>\n      <td>56d62ff91c85041400946fbd</td>\n      <td>2008_Sichuan_earthquake</td>\n      <td>Many websites converted their home page to black and white; Sina.com and Sohu, major internet portals, limited their homepages to news items and removed all advertisements. Chinese video sharing websites Youku and Tudou displayed a black background and placed multiple videos showing earthquake footage and news reports. The Chinese version of MSN, cn.msn.com, also displayed banner ads about the earthquake and the relief efforts. Other entertainment websites, including various gaming sites, such as the Chinese servers for World of Warcraft, had shut down altogether, or had corresponding links to earthquake donations. After the moments of silence, in Tiananmen Square, crowds spontaneously burst out cheering various slogans, including \"Long Live China\". Casinos in Macau closed down.</td>\n      <td>What did the crowds in Tiananmen Square do after the moment of silence?</td>\n      <td>{'text': ['burst out cheering'], 'answer_start': [695]}</td>\n    </tr>\n    <tr>\n      <th>12</th>\n      <td>57276dd7708984140094dd52</td>\n      <td>Dissolution_of_the_Soviet_Union</td>\n      <td>The dissolution of the Soviet Union was formally enacted on December 26, 1991, as a result of the declaration no. 142-Н of the Soviet of the Republics of the Supreme Soviet of the Soviet Union. The declaration acknowledged the independence of the former Soviet republics and created the Commonwealth of Independent States (CIS), although five of the signatories ratified it much later or not at all. On the previous day, Soviet President Mikhail Gorbachev, the eighth and last leader of the Soviet Union, resigned, declared his office extinct, and handed over its powers – including control of the Soviet nuclear missile launching codes – to Russian President Boris Yeltsin. That evening at 7:32 p.m., the Soviet flag was lowered from the Kremlin for the last time and replaced with the pre-revolutionary Russian flag.</td>\n      <td>What entity was created in place of the Soviet Union?</td>\n      <td>{'text': ['Commonwealth of Independent States'], 'answer_start': [287]}</td>\n    </tr>\n    <tr>\n      <th>13</th>\n      <td>5726f1c9f1498d1400e8f0ac</td>\n      <td>History_of_science</td>\n      <td>Ancient Egypt made significant advances in astronomy, mathematics and medicine. Their development of geometry was a necessary outgrowth of surveying to preserve the layout and ownership of farmland, which was flooded annually by the Nile river. The 3-4-5 right triangle and other rules of thumb were used to build rectilinear structures, and the post and lintel architecture of Egypt. Egypt was also a center of alchemy research for much of the Mediterranean.The Edwin Smith papyrus is one of the first medical documents still extant, and perhaps the earliest document that attempts to describe and analyse the brain: it might be seen as the very beginnings of modern neuroscience. However, while Egyptian medicine had some effective practices, it was not without its ineffective and sometimes harmful practices. Medical historians believe that ancient Egyptian pharmacology, for example, was largely ineffective. Nevertheless, it applies the following components to the treatment of disease: examination, diagnosis, treatment, and prognosis, which display strong parallels to the basic empirical method of science and according to G. E. R. Lloyd played a significant role in the development of this methodology. The Ebers papyrus (c. 1550 BC) also contains evidence of traditional empiricism.</td>\n      <td>What is the name of the earliest medical document?</td>\n      <td>{'text': ['The Edwin Smith papyrus'], 'answer_start': [459]}</td>\n    </tr>\n    <tr>\n      <th>14</th>\n      <td>5727b338ff5b5019007d92f4</td>\n      <td>Detroit</td>\n      <td>Detroit (/dᵻˈtrɔɪt/) is the most populous city in the U.S. state of Michigan, the fourth-largest city in the Midwest and the largest city on the United States–Canada border. It is the seat of Wayne County, the most populous county in the state. Detroit's metropolitan area, known as Metro Detroit, is home to 5.3 million people, making it the fourteenth-most populous metropolitan area in the United States and the second-largest in the Midwestern United States (behind Chicago). It is a major port on the Detroit River, a strait that connects the Great Lakes system to the Saint Lawrence Seaway. The City of Detroit anchors the second-largest economic region in the Midwest, behind Chicago, and the thirteenth-largest in the United States.</td>\n      <td>In what region of the country is Detroit located?</td>\n      <td>{'text': ['Midwest'], 'answer_start': [667]}</td>\n    </tr>\n    <tr>\n      <th>15</th>\n      <td>57279e2cff5b5019007d9125</td>\n      <td>Gramophone_record</td>\n      <td>In the 1930s, record companies began issuing collections of 78 rpm records by one performer or of one type of music in specially assembled albums, typically with artwork on the front cover and liner notes on the back or inside cover. Most albums included three or four records, with two sides each, making six or eight tunes per album. When the 12-inch vinyl LP era began in 1949, the single record often had the same or similar number of tunes as a typical album of 78s, and was still often referred to as an \"album\".</td>\n      <td>When did the vinyl LP records Era begin?</td>\n      <td>{'text': ['1949'], 'answer_start': [375]}</td>\n    </tr>\n    <tr>\n      <th>16</th>\n      <td>572eda4a03f9891900756a7a</td>\n      <td>Modern_history</td>\n      <td>In the Pre-Modern era, many people's sense of self and purpose was often expressed via a faith in some form of deity, be that in a single God or in many gods. Pre-modern cultures have not been thought of creating a sense of distinct individuality, though. Religious officials, who often held positions of power, were the spiritual intermediaries to the common person. It was only through these intermediaries that the general masses had access to the divine. Tradition was sacred to ancient cultures and was unchanging and the social order of ceremony and morals in a culture could be strictly enforced.</td>\n      <td>What were Religious officials perceived as in the Pre-Modern era?</td>\n      <td>{'text': ['spiritual intermediaries'], 'answer_start': [321]}</td>\n    </tr>\n    <tr>\n      <th>17</th>\n      <td>5733d858d058e614000b63c7</td>\n      <td>Montana</td>\n      <td>Montana's motto, Oro y Plata, Spanish for \"Gold and Silver\", recognizing the significant role of mining, was first adopted in 1865, when Montana was still a territory. A state seal with a miner's pick and shovel above the motto, surrounded by the mountains and the Great Falls of the Missouri River, was adopted during the first meeting of the territorial legislature in 1864–65. The design was only slightly modified after Montana became a state and adopted it as the Great Seal of the State of Montana, enacted by the legislature in 1893. The state flower, the bitterroot, was adopted in 1895 with the support of a group called the Floral Emblem Association, which formed after Montana's Women's Christian Temperance Union adopted the bitterroot as the organization's state flower. All other symbols were adopted throughout the 20th century, save for Montana's newest symbol, the state butterfly, the mourning cloak, adopted in 2001, and the state lullaby, \"Montana Lullaby\", adopted in 2007.</td>\n      <td>What is Montana's motto?</td>\n      <td>{'text': ['Oro y Plata'], 'answer_start': [17]}</td>\n    </tr>\n    <tr>\n      <th>18</th>\n      <td>572fd2e7947a6a140053cd0c</td>\n      <td>Pacific_War</td>\n      <td>In the early hours of 7 December (Hawaiian time), Japan launched a major surprise carrier-based air strike on Pearl Harbor without explicit warning, which crippled the U.S. Pacific Fleet, leaving eight American battleships out of action, 188 American aircraft destroyed, and 2,403 American citizens dead. At the time of the attack, the U.S. was not officially at war anywhere in the world, which means that the people killed or property destroyed at Pearl Harbor by the Japanese attack had a non-combatant status.[nb 11] The Japanese had gambled that the United States, when faced with such a sudden and massive blow, would agree to a negotiated settlement and allow Japan free rein in Asia. This gamble did not pay off. American losses were less serious than initially thought: The American aircraft carriers, which would prove to be more important than battleships, were at sea, and vital naval infrastructure (fuel oil tanks, shipyard facilities, and a power station), submarine base, and signals intelligence units were unscathed. Japan's fallback strategy, relying on a war of attrition to make the U.S. come to terms, was beyond the IJN's capabilities.</td>\n      <td>How many U.S. battleships were incapacitated in the Pearl Harbor attacks?</td>\n      <td>{'text': ['eight'], 'answer_start': [196]}</td>\n    </tr>\n    <tr>\n      <th>19</th>\n      <td>5725ed7838643c19005ace97</td>\n      <td>Buckingham_Palace</td>\n      <td>Formerly, men not wearing military uniform wore knee breeches of an 18th-century design. Women's evening dress included obligatory trains and tiaras or feathers in their hair (or both). The dress code governing formal court uniform and dress has progressively relaxed. After World War I, when Queen Mary wished to follow fashion by raising her skirts a few inches from the ground, she requested a lady-in-waiting to shorten her own skirt first to gauge the king's reaction. King George V was horrified, so the queen kept her hemline unfashionably low. Following their accession in 1936, King George VI and his consort, Queen Elizabeth, allowed the hemline of daytime skirts to rise. Today, there is no official dress code. Most men invited to Buckingham Palace in the daytime choose to wear service uniform or lounge suits; a minority wear morning coats, and in the evening, depending on the formality of the occasion, black tie or white tie.</td>\n      <td>Which King was horrified to see the Queen's hemline raised a few inches?</td>\n      <td>{'text': ['King George V'], 'answer_start': [474]}</td>\n    </tr>\n    <tr>\n      <th>20</th>\n      <td>572837e7ff5b5019007d9f47</td>\n      <td>Federalism</td>\n      <td>The post-Imperial nature of Russian subdivision of government changed towards a generally autonomous model which began with the establishment of the USSR (of which Russia was governed as part). It was liberalized in the aftermath of the Soviet Union, with the reforms under Boris Yeltsin preserving much of the Soviet structure while applying increasingly liberal reforms to the governance of the constituent republics and subjects (while also coming into conflict with Chechen secessionist rebels during the Chechen War). Some of the reforms under Yeltsin were scaled back by Vladimir Putin.</td>\n      <td>When was Russia's subdivision liberalized?</td>\n      <td>{'text': ['in the aftermath of the Soviet Union'], 'answer_start': [213]}</td>\n    </tr>\n    <tr>\n      <th>21</th>\n      <td>56dff532231d4119001abf04</td>\n      <td>Pub</td>\n      <td>In Ireland, pubs are known for their atmosphere or \"craic\". In Irish, a pub is referred to as teach tábhairne (\"tavernhouse\") or teach óil (\"drinkinghouse\"). Live music, either sessions of traditional Irish music or varieties of modern popular music, is frequently featured in the pubs of Ireland. Pubs in Northern Ireland are largely identical to their counterparts in the Republic of Ireland except for the lack of spirit grocers. A side effect of \"The Troubles\" was that the lack of a tourist industry meant that a higher proportion of traditional bars have survived the wholesale refitting of Irish pub interiors in the 'English style' in the 1950s and 1960s. New Zealand sports a number of Irish pubs.</td>\n      <td>Vis-à-vis pubs in Ireland, what feature do pubs in Northern Ireland lack?</td>\n      <td>{'text': ['spirit grocers'], 'answer_start': [417]}</td>\n    </tr>\n    <tr>\n      <th>22</th>\n      <td>57310199a5e9cc1400cdbb93</td>\n      <td>Namibia</td>\n      <td>About half of the population depends on agriculture (largely subsistence agriculture) for its livelihood, but Namibia must still import some of its food. Although per capita GDP is five times the per capita GDP of Africa's poorest countries, the majority of Namibia's people live in rural areas and exist on a subsistence way of life. Namibia has one of the highest rates of income inequality in the world, due in part to the fact that there is an urban economy and a more rural cash-less economy. The inequality figures thus take into account people who do not actually rely on the formal economy for their survival. Although arable land accounts for only 1% of Namibia, nearly half of the population is employed in agriculture.</td>\n      <td>Where does a majority of Namibia's people live?</td>\n      <td>{'text': ['rural'], 'answer_start': [283]}</td>\n    </tr>\n    <tr>\n      <th>23</th>\n      <td>570b212d6b8089140040f75f</td>\n      <td>Xbox_360</td>\n      <td>When the Xbox 360 was released, Microsoft's online gaming service Xbox Live was shut down for 24 hours and underwent a major upgrade, adding a basic non-subscription service called Xbox Live Silver (later renamed Xbox Live Free) to its already established premium subscription-based service (which was renamed Gold). Xbox Live Free is included with all SKUs of the console. It allows users to create a user profile, join on message boards, and access Microsoft's Xbox Live Arcade and Marketplace and talk to other members. A Live Free account does not generally support multiplayer gaming; however, some games that have rather limited online functions already, (such as Viva Piñata) or games that feature their own subscription service (e.g. EA Sports games) can be played with a Free account. Xbox Live also supports voice the latter a feature possible with the Xbox Live Vision.</td>\n      <td>What was the \"color\" name given to the premium version of Xbox Live?</td>\n      <td>{'text': ['Gold'], 'answer_start': [310]}</td>\n    </tr>\n    <tr>\n      <th>24</th>\n      <td>570cf8e1fed7b91900d45b85</td>\n      <td>Macintosh</td>\n      <td>The Macintosh SE was released at the same time as the Macintosh II for $2900 (or $3900 with hard drive), as the first compact Mac with a 20 MB internal hard drive and an expansion slot. The SE's expansion slot was located inside the case along with the CRT, potentially exposing an upgrader to high voltage. For this reason, Apple recommended users bring their SE to an authorized Apple dealer to have upgrades performed. The SE also updated Jerry Manock and Terry Oyama's original design and shared the Macintosh II's Snow White design language, as well as the new Apple Desktop Bus (ADB) mouse and keyboard that had first appeared on the Apple IIGS some months earlier.</td>\n      <td>When was the Macintosh SE released at the same time as?</td>\n      <td>{'text': ['the Macintosh II'], 'answer_start': [50]}</td>\n    </tr>\n    <tr>\n      <th>25</th>\n      <td>5726e93cdd62a815002e94ca</td>\n      <td>Nigeria</td>\n      <td>NigeriaSat-2, Nigeria's second satellite, was built as a high-resolution earth satellite by Surrey Space Technology Limited, a United Kingdom-based satellite technology company. It has 2.5-metre resolution panchromatic (very high resolution), 5-metre multispectral (high resolution, NIR red, green and red bands), and 32-metre multispectral (medium resolution, NIR red, green and red bands) antennas, with a ground receiving station in Abuja. The NigeriaSat-2 spacecraft alone was built at a cost of over £35 million. This satellite was launched into orbit from a military base in China.</td>\n      <td>Where was Nigeria's second satellite launched?</td>\n      <td>{'text': ['China'], 'answer_start': [581]}</td>\n    </tr>\n    <tr>\n      <th>26</th>\n      <td>56e12f03e3433e1400422c96</td>\n      <td>Catalan_language</td>\n      <td>In the 11th century, documents written in macaronic Latin begin to show Catalan elements, with texts written almost completely in Romance appearing by 1080. Old Catalan shared many features with Gallo-Romance, diverging from Old Occitan between the 11th and 14th centuries.</td>\n      <td>When did macaronic Latin start showing signs of Catalan?</td>\n      <td>{'text': ['11th century'], 'answer_start': [7]}</td>\n    </tr>\n    <tr>\n      <th>27</th>\n      <td>56dfe1e57aa994140058e210</td>\n      <td>Pub</td>\n      <td>A trend in the late 20th century was for breweries to run their pubs directly, using managers rather than tenants. Most such breweries, such as the regional brewery Shepherd Neame in Kent and Young's and Fuller's in London, control hundreds of pubs in a particular region of the UK, while a few, such as Greene King, are spread nationally. The landlord of a tied pub may be an employee of the brewery—in which case he/she would be a manager of a managed house, or a self-employed tenant who has entered into a lease agreement with a brewery, a condition of which is the legal obligation (trade tie) only to purchase that brewery's beer. The beer selection is mainly limited to beers brewed by that particular company. The Beer Orders, passed in 1989, were aimed at getting tied houses to offer at least one alternative beer, known as a guest beer, from another brewery. This law has now been repealed but while in force it dramatically altered the industry. Some pubs still offer a regularly changing selection of guest beers.</td>\n      <td>What law required that a pub offer at least one beer from a brewery it wasn't tied to?</td>\n      <td>{'text': ['The Beer Orders'], 'answer_start': [718]}</td>\n    </tr>\n    <tr>\n      <th>28</th>\n      <td>572909171d04691400778fa3</td>\n      <td>United_States_presidential_election,_2004</td>\n      <td>In September 2003, retired four-star general Wesley Clark announced his intention to run in the presidential primary election for the Democratic Party nomination. His campaign focused on themes of leadership and patriotism; early campaign ads relied heavily on biography. His late start left him with relatively few detailed policy proposals. This weakness was apparent in his first few debates, although he soon presented a range of position papers, including a major tax-relief plan. Nevertheless, the Democrats did not flock to support his campaign.</td>\n      <td>What were Wesley Clarks's core issues?</td>\n      <td>{'text': ['leadership and patriotism'], 'answer_start': [197]}</td>\n    </tr>\n    <tr>\n      <th>29</th>\n      <td>56f8e22c9e9bad19000a0685</td>\n      <td>Near_East</td>\n      <td>Ptolemy's Geography divided Asia on a similar basis. In the north is \"Scythia this side of the Himalayas\" and \"Scythia beyond the Himalayas.\" To the south is \"India on this side of the Ganges\" and \"India beyond the Ganges.\" Asia began on the coast of Anatolia (\"land of the rising sun\"). Beyond the Ganges and Himalayas (including the Tien Shan) were Serica and Serae (sections of China) and some other identifiable far eastern locations known to the voyagers and geographers but not to the general European public.</td>\n      <td>\"Scythia this side of the Himalayas\" is located where?</td>\n      <td>{'text': ['In the north'], 'answer_start': [53]}</td>\n    </tr>\n    <tr>\n      <th>30</th>\n      <td>57271d8b708984140094d9fc</td>\n      <td>Capacitor</td>\n      <td>Most capacitors have numbers printed on their bodies to indicate their electrical characteristics. Larger capacitors like electrolytics usually display the actual capacitance together with the unit (for example, 220 μF). Smaller capacitors like ceramics, however, use a shorthand consisting of three numeric digits and a letter, where the digits indicate the capacitance in pF (calculated as XY × 10Z for digits XYZ) and the letter indicates the tolerance (J, K or M for ±5%, ±10% and ±20% respectively).</td>\n      <td>What does the abbreviated electrical characteristics of smaller capacitors consist of?</td>\n      <td>{'text': ['three numeric digits and a letter'], 'answer_start': [294]}</td>\n    </tr>\n    <tr>\n      <th>31</th>\n      <td>5728887dff5b5019007da2b8</td>\n      <td>Brigham_Young_University</td>\n      <td>BYU accepted 49 percent of the 11,423 people who applied for admission in the summer term and fall semester of 2013. The average GPA for these admitted students was 3.82. U.S. News and World Report describes BYU's selectivity as being \"more selective\" and compares it with such universities as the University of Texas at Austin and The Ohio State University. In addition, BYU is ranked 26th in colleges with the most freshman Merit Scholars, with 88 in 2006. BYU has one of the highest percentage of accepted applicants that go on to enroll (78 percent in 2010).</td>\n      <td>How many freshman at BYU were Merit Scholars in 2006?</td>\n      <td>{'text': ['88'], 'answer_start': [447]}</td>\n    </tr>\n    <tr>\n      <th>32</th>\n      <td>56e07bc7231d4119001ac1c3</td>\n      <td>Space_Race</td>\n      <td>The American professor Robert H. Goddard had worked on developing solid-fuel rockets since 1914, and demonstrated a light battlefield rocket to the US Army Signal Corps only five days before the signing of the armistice that ended World War I. He also started developing liquid-fueled rockets in 1921; yet he had not been taken seriously by the public, and was not sponsored by the government as part of the post-WW II rocket development effort. Von Braun, himself inspired by Goddard's work, was bemused by this when debriefed by his American handlers, asking them, \"Why didn't you just ask Dr. Goddard?\"[citation needed]</td>\n      <td>What professor began working on solid-fuel rockets since 1914?</td>\n      <td>{'text': ['Robert H. Goddard'], 'answer_start': [23]}</td>\n    </tr>\n    <tr>\n      <th>33</th>\n      <td>572818b63acd2414000df46d</td>\n      <td>Strasbourg</td>\n      <td>As for modern and contemporary architecture, Strasbourg possesses some fine Art Nouveau buildings (such as the huge Palais des Fêtes and houses and villas like Villa Schutzenberger and Hôtel Brion), good examples of post-World War II functional architecture (the Cité Rotterdam, for which Le Corbusier did not succeed in the architectural contest) and, in the very extended Quartier Européen, some spectacular administrative buildings of sometimes utterly large size, among which the European Court of Human Rights building by Richard Rogers is arguably the finest. Other noticeable contemporary buildings are the new Music school Cité de la Musique et de la Danse, the Musée d'Art moderne et contemporain and the Hôtel du Département facing it, as well as, in the outskirts, the tramway-station Hoenheim-Nord designed by Zaha Hadid.</td>\n      <td>Who built the European Court of Human Rights building?</td>\n      <td>{'text': ['Richard Rogers'], 'answer_start': [527]}</td>\n    </tr>\n    <tr>\n      <th>34</th>\n      <td>572f427604bcaa1900d767f2</td>\n      <td>Modern_history</td>\n      <td>Northern leaders agreed that victory would require more than the end of fighting. Secession and Confederate nationalism had to be totally repudiated and all forms of slavery or quasi-slavery had to be eliminated. Lincoln proved effective in mobilizing support for the war goals, raising large armies and supplying them, avoiding foreign interference, and making the end of slavery a war goal. The Confederacy had a larger area than it could defend, and it failed to keep its ports open and its rivers clear. The North kept up the pressure as the South could barely feed and clothe its soldiers. Its soldiers, especially those in the East under the command of General Robert E. Lee proved highly resourceful until they finally were overwhelmed by Generals Ulysses S. Grant and William T. Sherman in 1864–65, The Reconstruction Era (1863–77) began with the Emancipation proclamation in 1863, and included freedom, full citizenship and the vote for the Southern blacks. It was followed by a reaction that left the blacks in a second class status legally, politically, socially and economically until the 1960s.</td>\n      <td>What did Lincoln do well in the war?</td>\n      <td>{'text': ['mobilizing support for the war goals'], 'answer_start': [241]}</td>\n    </tr>\n    <tr>\n      <th>35</th>\n      <td>56cc88a56d243a140015f006</td>\n      <td>IPod</td>\n      <td>The iTunes Store (introduced April 29, 2003) is an online media store run by Apple and accessed through iTunes. The store became the market leader soon after its launch and Apple announced the sale of videos through the store on October 12, 2005. Full-length movies became available on September 12, 2006.</td>\n      <td>When was the Apple iTunes Store launched?</td>\n      <td>{'text': ['April 29, 2003'], 'answer_start': [29]}</td>\n    </tr>\n    <tr>\n      <th>36</th>\n      <td>56cec11faab44d1400b889c7</td>\n      <td>2008_Sichuan_earthquake</td>\n      <td>In the China Digital Times an article reports a close analysis by an alleged Chinese construction engineer known online as “Book Blade” (书剑子), who stated:</td>\n      <td>What did the China Digital Times report?</td>\n      <td>{'text': ['a close analysis by an alleged Chinese construction engineer'], 'answer_start': [46]}</td>\n    </tr>\n    <tr>\n      <th>37</th>\n      <td>570fcc155ab6b8190039100a</td>\n      <td>Dell</td>\n      <td>The slowing sales growth has been attributed to the maturing PC market, which constituted 66% of Dell's sales, and analysts suggested that Dell needed to make inroads into non-PC businesses segments such as storage, services and servers. Dell's price advantage was tied to its ultra-lean manufacturing for desktop PCs, but this became less important as savings became harder to find inside the company's supply chain, and as competitors such as Hewlett-Packard and Acer made their PC manufacturing operations more efficient to match Dell, weakening Dell's traditional price differentiation. Throughout the entire PC industry, declines in prices along with commensurate increases in performance meant that Dell had fewer opportunities to upsell to their customers (a lucrative strategy of encouraging buyers to upgrade the processor or memory). As a result, the company was selling a greater proportion of inexpensive PCs than before, which eroded profit margins. The laptop segment had become the fastest-growing of the PC market, but Dell produced low-cost notebooks in China like other PC manufacturers which eliminated Dell's manufacturing cost advantages, plus Dell's reliance on Internet sales meant that it missed out on growing notebook sales in big box stores. CNET has suggested that Dell was getting trapped in the increasing commoditization of high volume low margin computers, which prevented it from offering more exciting devices that consumers demanded.</td>\n      <td>What advantage did Dell hold in the PC market?</td>\n      <td>{'text': ['price'], 'answer_start': [245]}</td>\n    </tr>\n    <tr>\n      <th>38</th>\n      <td>5728fae2af94a219006a9eae</td>\n      <td>Alaska</td>\n      <td>Alaska's well-developed state-owned ferry system (known as the Alaska Marine Highway) serves the cities of southeast, the Gulf Coast and the Alaska Peninsula. The ferries transport vehicles as well as passengers. The system also operates a ferry service from Bellingham, Washington and Prince Rupert, British Columbia in Canada through the Inside Passage to Skagway. The Inter-Island Ferry Authority also serves as an important marine link for many communities in the Prince of Wales Island region of Southeast and works in concert with the Alaska Marine Highway.</td>\n      <td>Which other Ferry group works alongside the Alaska Marine Highway to coordinate travel?</td>\n      <td>{'text': ['The Inter-Island Ferry Authority'], 'answer_start': [367]}</td>\n    </tr>\n    <tr>\n      <th>39</th>\n      <td>572b36debe1ee31400cb82af</td>\n      <td>Empiricism</td>\n      <td>Hume maintained that all knowledge, even the most basic beliefs about the natural world, cannot be conclusively established by reason. Rather, he maintained, our beliefs are more a result of accumulated habits, developed in response to accumulated sense experiences. Among his many arguments Hume also added another important slant to the debate about scientific method — that of the problem of induction. Hume argued that it requires inductive reasoning to arrive at the premises for the principle of inductive reasoning, and therefore the justification for inductive reasoning is a circular argument. Among Hume's conclusions regarding the problem of induction is that there is no certainty that the future will resemble the past. Thus, as a simple instance posed by Hume, we cannot know with certainty by inductive reasoning that the sun will continue to rise in the East, but instead come to expect it to do so because it has repeatedly done so in the past.</td>\n      <td>Why did Hume say we expect the sun to rise?</td>\n      <td>{'text': ['because it has repeatedly done so in the past'], 'answer_start': [915]}</td>\n    </tr>\n    <tr>\n      <th>40</th>\n      <td>56cfe201234ae51400d9bffe</td>\n      <td>New_York_City</td>\n      <td>The 1916 Zoning Resolution required setbacks in new buildings, and restricted towers to a percentage of the lot size, to allow sunlight to reach the streets below. The Art Deco style of the Chrysler Building (1930) and Empire State Building (1931), with their tapered tops and steel spires, reflected the zoning requirements. The buildings have distinctive ornamentation, such as the eagles at the corners of the 61st floor on the Chrysler Building, and are considered some of the finest examples of the Art Deco style. A highly influential example of the international style in the United States is the Seagram Building (1957), distinctive for its façade using visible bronze-toned I-beams to evoke the building's structure. The Condé Nast Building (2000) is a prominent example of green design in American skyscrapers and has received an award from the American Institute of Architects as well as AIA New York State for its design.</td>\n      <td>When was the Empire State Building constructed?</td>\n      <td>{'text': ['1931'], 'answer_start': [242]}</td>\n    </tr>\n    <tr>\n      <th>41</th>\n      <td>56f8bb559e9bad19000a03d9</td>\n      <td>Brain</td>\n      <td>The operations of individual brain cells are now understood in considerable detail but the way they cooperate in ensembles of millions is yet to be solved. Recent models in modern neuroscience treat the brain as a biological computer, very different in mechanism from an electronic computer, but similar in the sense that it acquires information from the surrounding world, stores it, and processes it in a variety of ways, analogous to the central processing unit (CPU) in a computer.</td>\n      <td>Which part of a computer does the brain most resemble?</td>\n      <td>{'text': ['central processing unit (CPU)'], 'answer_start': [441]}</td>\n    </tr>\n    <tr>\n      <th>42</th>\n      <td>5730d552b54a4f140068cca6</td>\n      <td>United_States_Air_Force</td>\n      <td>Space Control is defined as \"operations to ensure freedom of action in space for the US and its allies and, when directed, deny an adversary freedom of action in space. This mission area includes: operations conducted to protect friendly space capabilities from attack, interference, or unintentional hazards (defensive space control); operations to deny an adversary's use of space capabilities (offensive space control); and the requisite current and predictive knowledge of the space environment and the operational environment upon which space operations depend (space situational awareness)\" (JP 1-02).</td>\n      <td>What is the definition of Space Control according to the US and its allies?</td>\n      <td>{'text': ['operations to ensure freedom of action in space'], 'answer_start': [29]}</td>\n    </tr>\n    <tr>\n      <th>43</th>\n      <td>572794d6f1498d1400e8fcbd</td>\n      <td>Hindu_philosophy</td>\n      <td>In its metaphysics, Nyāya school is closer to the Vaiśeṣika school than others. It holds that human suffering results from mistakes/defects produced by activity under wrong knowledge (notions and ignorance). Moksha (liberation), it states, is gained through right knowledge. This premise led Nyāya to concern itself with epistemology, that is the reliable means to gain correct knowledge and to remove wrong notions. False knowledge is not merely ignorance to Naiyayikas, it includes delusion. Correct knowledge is discovering and overcoming one's delusions, and understanding true nature of soul, self and reality. The Nyāya Sūtras begin:</td>\n      <td>What does Nyaya say causes human suffering?</td>\n      <td>{'text': ['mistakes/defects'], 'answer_start': [123]}</td>\n    </tr>\n    <tr>\n      <th>44</th>\n      <td>570b38466b8089140040f810</td>\n      <td>Military_history_of_the_United_States</td>\n      <td>Beginning in 1689, the colonies became involved in a series of wars between Great Britain and France for control of North America, the most important of which were Queen Anne's War, in which the British conquered French colony Acadia, and the final French and Indian War (1754–63) when Britain was victorious over all the French colonies in North America. This final war was to give thousands of colonists, including Virginia colonel George Washington, military experience which they put to use during the American Revolutionary War.</td>\n      <td>When did wars between Britain and France in North America start?</td>\n      <td>{'text': ['1689'], 'answer_start': [13]}</td>\n    </tr>\n    <tr>\n      <th>45</th>\n      <td>572f820a04bcaa1900d76a37</td>\n      <td>Seven_Years%27_War</td>\n      <td>British Prime Minister William Pitt's focus on the colonies for the 1758 campaign paid off with the taking of Louisbourg after French reinforcements were blocked by British naval victory in the Battle of Cartagena and in the successful capture of Fort Duquesne and Fort Frontenac. The British also continued the process of deporting the Acadian population with a wave of major operations against Île Saint-Jean (present-day Prince Edward Island), the St. John River valley, and the Petitcodiac River valley. The celebration of these successes was dampened by their embarrassing defeat in the Battle of Carillon (Ticonderoga), in which 4,000 French troops repulsed 16,000 British.</td>\n      <td>How did the British assure numerical superiority in taking Louisbourg?</td>\n      <td>{'text': ['French reinforcements were blocked by British naval victory in the Battle of Cartagena'], 'answer_start': [127]}</td>\n    </tr>\n    <tr>\n      <th>46</th>\n      <td>572f91f3a23a5019007fc77d</td>\n      <td>Han_dynasty</td>\n      <td>In 144 BC Emperor Jing abolished private minting in favor of central-government and commandery-level minting; he also introduced a new coin. Emperor Wu introduced another in 120 BC, but a year later he abandoned the ban liangs entirely in favor of the wuzhu (五銖) coin, weighing 3.2 g (0.11 oz). The wuzhu became China's standard coin until the Tang dynasty (618–907 AD). Its use was interrupted briefly by several new currencies introduced during Wang Mang's regime until it was reinstated in 40 AD by Emperor Guangwu.</td>\n      <td>During what dynasty did the wuzhu stop being the standard coin?</td>\n      <td>{'text': ['Tang dynasty'], 'answer_start': [344]}</td>\n    </tr>\n    <tr>\n      <th>47</th>\n      <td>572900181d04691400778f48</td>\n      <td>Paris</td>\n      <td>The Bibliothèque nationale de France (BnF) operates public libraries in Paris, among them the François Mitterrand Library, Richelieu Library, Louvois, Opéra Library, and Arsenal Library. There are three public libraries in the 4th arrondissement. The Forney Library, in the Marais district, is dedicated to the decorative arts; the Arsenal Library occupies a former military building, and has a large collection on French literature; and the Bibliothèque historique de la ville de Paris, also in Le Marais, contains the Paris historical research service. The Sainte-Geneviève Library is in 5th arrondissement; designed by Henri Labrouste and built in the mid-1800s, it contains a rare book and manuscript division. Bibliothèque Mazarine, in the 6th arrondissement, is the oldest public library in France. The Médiathèque Musicale Mahler in the 8th arrondissement opened in 1986 and contains collections related to music. The François Mitterrand Library (nicknamed Très Grande Bibliothèque) in the 13th arrondissement was completed in 1994 to a design of Dominique Perrault and contains four glass towers.</td>\n      <td>What is the oldest public library in France?</td>\n      <td>{'text': ['Bibliothèque Mazarine'], 'answer_start': [715]}</td>\n    </tr>\n    <tr>\n      <th>48</th>\n      <td>5730368a04bcaa1900d77380</td>\n      <td>Windows_8</td>\n      <td>Exceptions to the restrictions faced by Windows Store apps are given to web browsers. The user's default browser can distribute a Metro-style web browser in same package as the desktop version, which has access to functionality unavailable to other apps, such as being able to permanently run in the background, use multiple background processes, and use Windows API code instead of WinRT (allowing for code to be re-used with the desktop version, while still taking advantage of features available to Windows Store apps, such as charms). Microsoft advertises this exception privilege \"New experience enabled\" (formerly \"Metro-style enabled\").</td>\n      <td>What term did Microsoft give to its exception privilige for web browsing?</td>\n      <td>{'text': ['New experience enabled'], 'answer_start': [586]}</td>\n    </tr>\n    <tr>\n      <th>49</th>\n      <td>56f880ddaef237190062612c</td>\n      <td>Southampton</td>\n      <td>Southampton City Council has developed twinning links with Le Havre in France (since 1973), Rems-Murr-Kreis in Germany (since 1991), Trieste in Italy (since 2002); Hampton, Virginia in USA, Qingdao in China (since 1998), and Busan in South Korea (since 1978).</td>\n      <td>In what country does Southampton City Council have a twinning link with Rems-Murr-Kreis?</td>\n      <td>{'text': ['Germany'], 'answer_start': [111]}</td>\n    </tr>\n    <tr>\n      <th>50</th>\n      <td>56e13ab5e3433e1400422ce0</td>\n      <td>Catalan_language</td>\n      <td>With the Treaty of the Pyrenees (1659), Spain ceded the northern part of Catalonia to France, and soon thereafter the local Catalan varieties came under the influence of French, which in 1700 became the sole official language of the region.</td>\n      <td>When did French become the official language of that part of Catalonia?</td>\n      <td>{'text': ['1700'], 'answer_start': [187]}</td>\n    </tr>\n    <tr>\n      <th>51</th>\n      <td>5726b52a5951b619008f7b41</td>\n      <td>Mali</td>\n      <td>On 19 November 1968, following progressive economic decline, the Keïta regime was overthrown in a bloodless military coup led by Moussa Traoré, a day which is now commemorated as Liberation Day. The subsequent military-led regime, with Traoré as president, attempted to reform the economy. His efforts were frustrated by political turmoil and a devastating drought between 1968 to 1974, in which famine killed thousands of people. The Traoré regime faced student unrest beginning in the late 1970s and three coup attempts. The Traoré regime repressed all dissenters until the late 1980s.</td>\n      <td>What regime was overthrown in 1968?</td>\n      <td>{'text': ['Keïta regime'], 'answer_start': [65]}</td>\n    </tr>\n    <tr>\n      <th>52</th>\n      <td>57333ba64776f419006607b0</td>\n      <td>Financial_crisis_of_2007%E2%80%9308</td>\n      <td>Predatory lending refers to the practice of unscrupulous lenders, enticing borrowers to enter into \"unsafe\" or \"unsound\" secured loans for inappropriate purposes. A classic bait-and-switch method was used by Countrywide Financial, advertising low interest rates for home refinancing. Such loans were written into extensively detailed contracts, and swapped for more expensive loan products on the day of closing. Whereas the advertisement might state that 1% or 1.5% interest would be charged, the consumer would be put into an adjustable rate mortgage (ARM) in which the interest charged would be greater than the amount of interest paid. This created negative amortization, which the credit consumer might not notice until long after the loan transaction had been consummated.</td>\n      <td>What type predatory lending method did Countrywide Financial use?</td>\n      <td>{'text': ['classic bait-and-switch'], 'answer_start': [165]}</td>\n    </tr>\n    <tr>\n      <th>53</th>\n      <td>56d600eb1c85041400946eba</td>\n      <td>Dog</td>\n      <td>Domestic dogs inherited complex behaviors, such as bite inhibition, from their wolf ancestors, which would have been pack hunters with complex body language. These sophisticated forms of social cognition and communication may account for their trainability, playfulness, and ability to fit into human households and social situations, and these attributes have given dogs a relationship with humans that has enabled them to become one of the most successful species on the planet today.:pages95-136</td>\n      <td>Higher social attributes  and human relationships may have caused dogs to reach what as a species?</td>\n      <td>{'text': ['one of the most successful species on the planet today.'], 'answer_start': [431]}</td>\n    </tr>\n    <tr>\n      <th>54</th>\n      <td>56fb955db28b3419009f1e68</td>\n      <td>Middle_Ages</td>\n      <td>The large external sculptural schemes of Early Gothic churches gave way to more sculpture inside the building, as tombs became more elaborate and other features such as pulpits were sometimes lavishly carved, as in the Pulpit by Giovanni Pisano in Sant'Andrea. Painted or carved wooden relief altarpieces became common, especially as churches created many side-chapels. Early Netherlandish painting by artists such as Jan van Eyck (d. 1441) and Rogier van der Weyden (d. 1464) rivalled that of Italy, as did northern illuminated manuscripts, which in the 15th century began to be collected on a large scale by secular elites, who also commissioned secular books, especially histories. From about 1450 printed books rapidly became popular, though still expensive. There were around 30,000 different editions of incunabula, or works printed before 1500, by which time illuminated manuscripts were commissioned only by royalty and a few others. Very small woodcuts, nearly all religious, were affordable even by peasants in parts of Northern Europe from the middle of the 15th century. More expensive engravings supplied a wealthier market with a variety of images.</td>\n      <td>When did Rogier van der Weyden die?</td>\n      <td>{'text': ['1464'], 'answer_start': [471]}</td>\n    </tr>\n    <tr>\n      <th>55</th>\n      <td>572aa5d8f75d5e190021fbef</td>\n      <td>Royal_assent</td>\n      <td>Before the reign of Henry VIII, the sovereign always granted his or her assent in person. The sovereign, wearing the Imperial State Crown, would be seated on the throne in the Lords chamber, surrounded by heralds and members of the royal court—a scene that nowadays is repeated only at the annual State Opening of Parliament. The Commons, led by their speaker, would listen from the Bar of the Lords, just outside the chamber. The Clerk of the Parliaments presented the bills awaiting assent to the monarch, save that supply bills were traditionally brought up by the speaker. The Clerk of the Crown, standing on the sovereign's right, then read aloud the titles of the bills (in earlier times, the entire text of the bills). The Clerk of the Parliaments, standing on the sovereign's left, responded by stating the appropriate Norman French formula.</td>\n      <td>Nowadays, when is the only time a formal assention ceremony occurs?</td>\n      <td>{'text': ['the annual State Opening of Parliament'], 'answer_start': [286]}</td>\n    </tr>\n    <tr>\n      <th>56</th>\n      <td>570d5dadb3d812140066d758</td>\n      <td>Valencia</td>\n      <td>The Valencia Metro derailment occurred on 3 July 2006 at 1 pm. CEST (1100 UTC) between Jesús and Plaça d'Espanya stations on Line 1 of the Metrovalencia mass transit system. 43 people were killed and more than ten were seriously injured. It was not immediately clear what caused the crash. Both the Valencian government spokesman Vicente Rambla and Mayor Rita Barberá called the accident a \"fortuitous\" event. However, the trade union CC.OO. accused the authorities of \"rushing\" to say anything but admit that Line 1 is in a state of \"constant deterioration\" with a \"failure to carry out maintenance\".</td>\n      <td>On which Valencia metro line did the derailment occur?</td>\n      <td>{'text': ['1'], 'answer_start': [130]}</td>\n    </tr>\n    <tr>\n      <th>57</th>\n      <td>56e0e9887aa994140058e7ac</td>\n      <td>Space_Race</td>\n      <td>On October 21, 1959, Eisenhower approved the transfer of the Army's remaining space-related activities to NASA. On July 1, 1960, the Redstone Arsenal became NASA's George C. Marshall Space Flight Center, with von Braun as its first director. Development of the Saturn rocket family, which when mature, would finally give the US parity with the Soviets in terms of lifting capability, was thus transferred to NASA.</td>\n      <td>Who was the first director in charge of the George C. Marshall Space Flight Center?</td>\n      <td>{'text': ['von Braun'], 'answer_start': [209]}</td>\n    </tr>\n    <tr>\n      <th>58</th>\n      <td>57274df4f1498d1400e8f603</td>\n      <td>New_Haven,_Connecticut</td>\n      <td>New Haven was home to one of the important early events in the burgeoning anti-slavery movement when, in 1839, the trial of mutineering Mende tribesmen being transported as slaves on the Spanish slaveship Amistad was held in New Haven's United States District Court. There is a statue of Joseph Cinqué, the informal leader of the slaves, beside City Hall. See \"Museums\" below for more information. Abraham Lincoln delivered a speech on slavery in New Haven in 1860, shortly before he secured the Republican nomination for President.</td>\n      <td>Who was the informal leader of the slaves to whom there is a statue dedicated beside City Hall in New Haven?</td>\n      <td>{'text': ['Joseph Cinqué'], 'answer_start': [288]}</td>\n    </tr>\n    <tr>\n      <th>59</th>\n      <td>57344d20acc1501500babdd4</td>\n      <td>Hunting</td>\n      <td>During the feudal and colonial times in British India, hunting was regarded as a regal sport in the numerous princely states, as many maharajas and nawabs, as well as British officers, maintained a whole corps of shikaris (big-game hunters), who were native professional hunters. They would be headed by a master of the hunt, who might be styled mir-shikar. Often, they recruited the normally low-ranking local tribes because of their traditional knowledge of the environment and hunting techniques. Big game, such as Bengal tigers, might be hunted from the back of an elephant.</td>\n      <td>Why did the regals recruit low-ranking local tribes when hunting?</td>\n      <td>{'text': ['because of their traditional knowledge of the environment and hunting techniques'], 'answer_start': [418]}</td>\n    </tr>\n    <tr>\n      <th>60</th>\n      <td>57282557ff5b5019007d9dfa</td>\n      <td>John_von_Neumann</td>\n      <td>Von Neumann worked on lattice theory between 1937 and 1939. Von Neumann provided an abstract exploration of dimension in completed complemented modular topological lattices: \"Dimension is determined, up to a positive linear transformation, by the following two properties. It is conserved by perspective mappings (\"perspectivities\") and ordered by inclusion. The deepest part of the proof concerns the equivalence of perspectivity with \"projectivity by decomposition\"—of which a corollary is the transitivity of perspectivity.\" Garrett Birkhoff writes: \"John von Neumann's brilliant mind blazed over lattice theory like a meteor\".</td>\n      <td>What did von Neumann work on in 1937 - 39?</td>\n      <td>{'text': ['lattice theory'], 'answer_start': [22]}</td>\n    </tr>\n    <tr>\n      <th>61</th>\n      <td>5724eebf0a492a190043567c</td>\n      <td>Freemasonry</td>\n      <td>In contrast to Catholic allegations of rationalism and naturalism, Protestant objections are more likely to be based on allegations of mysticism, occultism, and even Satanism. Masonic scholar Albert Pike is often quoted (in some cases misquoted) by Protestant anti-Masons as an authority for the position of Masonry on these issues. However, Pike, although undoubtedly learned, was not a spokesman for Freemasonry and was also controversial among Freemasons in general. His writings represented his personal opinion only, and furthermore an opinion grounded in the attitudes and understandings of late 19th century Southern Freemasonry of the USA. Notably, his book carries in the preface a form of disclaimer from his own Grand Lodge. No one voice has ever spoken for the whole of Freemasonry.</td>\n      <td>What was Albert Pike actually more of an expert in?</td>\n      <td>{'text': ['late 19th century Southern Freemasonry of the USA'], 'answer_start': [597]}</td>\n    </tr>\n    <tr>\n      <th>62</th>\n      <td>573086f82461fd1900a9ce7e</td>\n      <td>Airport</td>\n      <td>Airports are divided into landside and airside areas. Landside areas include parking lots, public transportation train stations and access roads. Airside areas include all areas accessible to aircraft, including runways, taxiways and aprons. Access from landside areas to airside areas is tightly controlled at most airports. Passengers on commercial flights access airside areas through terminals, where they can purchase tickets, clear security check, or claim luggage and board aircraft through gates. The waiting areas which provide passenger access to aircraft are typically called concourses, although this term is often used interchangeably with terminal.</td>\n      <td>What do landside areas include?</td>\n      <td>{'text': ['parking lots, public transportation train stations and access roads'], 'answer_start': [77]}</td>\n    </tr>\n    <tr>\n      <th>63</th>\n      <td>57314a6f497a881900248d63</td>\n      <td>Red</td>\n      <td>Saint Valentine, a Roman Catholic Bishop or priest who was martyred in about 296 AD, seems to have had no known connection with romantic love, but the day of his martyrdom on the Roman Catholic calendar, Saint Valentine's Day (February 14), became, in the 14th century, an occasion for lovers to send messages to each other. In recent years the celebration of Saint Valentine' s day has spread beyond Christian countries to Japan and China and other parts of the world. The celebration of Saint Valentine's Day is forbidden or strongly condemned in many Islamic countries, including Saudi Arabia, Pakistan and Iran. In Saudi Arabia, in 2002 and 2011, religious police banned the sale of all Valentine's Day items, telling shop workers to remove any red items, as the day is considered a Christian holiday.</td>\n      <td>Which nation forbade the sale of Valentine's Day products in 2002 and 2011?</td>\n      <td>{'text': ['Saudi Arabia'], 'answer_start': [619]}</td>\n    </tr>\n    <tr>\n      <th>64</th>\n      <td>572888753acd2414000dfaa9</td>\n      <td>History_of_India</td>\n      <td>The Western Chalukya Empire (Kannada:ಪಶ್ಚಿಮ ಚಾಲುಕ್ಯ ಸಾಮ್ರಾಜ್ಯ) ruled most of the western Deccan, South India, between the 10th and 12th centuries. Vast areas between the Narmada River in the north and Kaveri River in the south came under Chalukya control. During this period the other major ruling families of the Deccan, the Hoysalas, the Seuna Yadavas of Devagiri, the Kakatiya dynasty and the Southern Kalachuri, were subordinates of the Western Chalukyas and gained their independence only when the power of the Chalukya waned during the later half of the 12th century. The Western Chalukyas developed an architectural style known today as a transitional style, an architectural link between the style of the early Chalukya dynasty and that of the later Hoysala empire. Most of its monuments are in the districts bordering the Tungabhadra River in central Karnataka. Well known examples are the Kasivisvesvara Temple at Lakkundi, the Mallikarjuna Temple at Kuruvatti, the Kallesvara Temple at Bagali and the Mahadeva Temple at Itagi. This was an important period in the development of fine arts in Southern India, especially in literature as the Western Chalukya kings encouraged writers in the native language of Kannada, and Sanskrit like the philosopher and statesman Basava and the great mathematician Bhāskara II.</td>\n      <td>During waht centuries did the Western Chalukya rule?</td>\n      <td>{'text': ['10th and 12th'], 'answer_start': [122]}</td>\n    </tr>\n    <tr>\n      <th>65</th>\n      <td>570e6f710dc6ce1900205061</td>\n      <td>Melbourne</td>\n      <td>The Melbourne rail network has its origins in privately built lines from the 1850s gold rush era, and today the suburban network consists of 209 suburban stations on 16 lines which radiate from the City Loop, a partially underground metro section of the network beneath the Central Business District (Hoddle Grid). Flinders Street Station is Melbourne's busiest railway station, and was the world's busiest passenger station in 1926. It remains a prominent Melbourne landmark and meeting place. The city has rail connections with regional Victorian cities, as well as direct interstate rail services to Sydney and Adelaide and beyond which depart from Melbourne's other major rail terminus, Southern Cross Station in Spencer Street. In the 2013–2014 financial year, the Melbourne rail network recorded 232.0 million passenger trips, the highest in its history. Many rail lines, along with dedicated lines and rail yards are also used for freight. The Overland to Adelaide departs Southern Cross twice a week, while the XPT to Sydney departs twice a day.</td>\n      <td>How many lines does the Melbourne rail network have?</td>\n      <td>{'text': ['16'], 'answer_start': [166]}</td>\n    </tr>\n    <tr>\n      <th>66</th>\n      <td>5726a296708984140094cc89</td>\n      <td>Late_Middle_Ages</td>\n      <td>Modern historiography on the period has reached a consensus between the two extremes of innovation and crisis. It is now (generally) acknowledged that conditions were vastly different north and south of the Alps, and \"Late Middle Ages\" is often avoided entirely within Italian historiography. The term \"Renaissance\" is still considered useful for describing certain intellectual, cultural, or artistic developments, but not as the defining feature of an entire European historical epoch. The period from the early 14th century up until – and sometimes including – the 16th century, is rather seen as characterised by other trends: demographic and economic decline followed by recovery, the end of western religious unity and the subsequent emergence of the nation state, and the expansion of European influence onto the rest of the world.</td>\n      <td>What geopolitical entity emerged from the Late Middle Ages?</td>\n      <td>{'text': ['the nation state'], 'answer_start': [753]}</td>\n    </tr>\n    <tr>\n      <th>67</th>\n      <td>5726d1c75951b619008f7f09</td>\n      <td>The_Sun_(United_Kingdom)</td>\n      <td>Hopkins' column also drew criticism on Twitter, including from Russell Brand, to whom Hopkins responded by accusing Brand's \"champagne socialist humanity\" of neglecting taxpayers. Simon Usborne, writing in The Independent, compared her use of the word \"cockroach\" to previous uses by the Nazis and just before the Rwandan Genocide by its perpetrators. He suspected that if any other contributor had written the piece it would not have been published and questioned her continued employment by the newspaper. Zoe Williams commented in The Guardian: \"It is no joke when people start talking like this. We are not 'giving her what she wants' when we make manifest our disgust. It is not a free speech issue. I’m not saying gag her: I’m saying fight her\".</td>\n      <td>With whom did Usborne draw parallels to Hopkins as a result of Hopkins' comments?</td>\n      <td>{'text': ['previous uses by the Nazis and just before the Rwandan Genocide by its perpetrators'], 'answer_start': [267]}</td>\n    </tr>\n    <tr>\n      <th>68</th>\n      <td>57335b42d058e614000b58e2</td>\n      <td>Financial_crisis_of_2007%E2%80%9308</td>\n      <td>Rapid increases in a number of commodity prices followed the collapse in the housing bubble. The price of oil nearly tripled from $50 to $147 from early 2007 to 2008, before plunging as the financial crisis began to take hold in late 2008. Experts debate the causes, with some attributing it to speculative flow of money from housing and other investments into commodities, some to monetary policy, and some to the increasing feeling of raw materials scarcity in a fast-growing world, leading to long positions taken on those markets, such as Chinese increasing presence in Africa. An increase in oil prices tends to divert a larger share of consumer spending into gasoline, which creates downward pressure on economic growth in oil importing countries, as wealth flows to oil-producing states. A pattern of spiking instability in the price of oil over the decade leading up to the price high of 2008 has been recently identified. The destabilizing effects of this price variance has been proposed as a contributory factor in the financial crisis.</td>\n      <td>How much did the price of oil increase from early 2007 to 2008?</td>\n      <td>{'text': ['nearly tripled from $50 to $147'], 'answer_start': [110]}</td>\n    </tr>\n    <tr>\n      <th>69</th>\n      <td>572a76c2fed8de19000d5c3f</td>\n      <td>Miami</td>\n      <td>The city proper is home to less than one-thirteenth of the population of South Florida. Miami is the 42nd-most populous city in the United States. The Miami metropolitan area, which includes Miami-Dade, Broward and Palm Beach counties, had a combined population of more than 5.5 million people, ranked seventh largest in the United States, and is the largest metropolitan area in the Southeastern United States. As of 2008[update], the United Nations estimates that the Miami Urban Agglomeration is the 44th-largest in the world.</td>\n      <td>Where does Miami-Dade rank in population among metropolitan areas in the US?</td>\n      <td>{'text': ['seventh'], 'answer_start': [302]}</td>\n    </tr>\n    <tr>\n      <th>70</th>\n      <td>5726dcf4f1498d1400e8edb4</td>\n      <td>Cubism</td>\n      <td>Also labeled an Orphist by Apollinaire, Marcel Duchamp was responsible for another extreme development inspired by Cubism. The ready-made arose from a joint consideration that the work itself is considered an object (just as a painting), and that it uses the material detritus of the world (as collage and papier collé in the Cubist construction and Assemblage). The next logical step, for Duchamp, was to present an ordinary object as a self-sufficient work of art representing only itself. In 1913 he attached a bicycle wheel to a kitchen stool and in 1914 selected a bottle-drying rack as a sculpture in its own right.</td>\n      <td>What object did Duchamp select in 1914 as a scuplture by itself?</td>\n      <td>{'text': ['bottle-drying rack'], 'answer_start': [570]}</td>\n    </tr>\n    <tr>\n      <th>71</th>\n      <td>5726e11bf1498d1400e8ee77</td>\n      <td>Nigeria</td>\n      <td>Nigeria has a varied landscape. The far south is defined by its tropical rainforest climate, where annual rainfall is 60 to 80 inches (1,500 to 2,000 mm) a year. In the southeast stands the Obudu Plateau. Coastal plains are found in both the southwest and the southeast. This forest zone's most southerly portion is defined as \"salt water swamp,\" also known as a mangrove swamp because of the large amount of mangroves in the area. North of this is fresh water swamp, containing different vegetation from the salt water swamp, and north of that is rain forest.</td>\n      <td>What type of climate is southern Nigeria?</td>\n      <td>{'text': ['tropical rainforest'], 'answer_start': [64]}</td>\n    </tr>\n    <tr>\n      <th>72</th>\n      <td>56e757c000c9c71400d76fdd</td>\n      <td>Daylight_saving_time</td>\n      <td>Proponents of DST generally argue that it saves energy, promotes outdoor leisure activity in the evening (in summer), and is therefore good for physical and psychological health, reduces traffic accidents, reduces crime, or is good for business. Groups that tend to support DST are urban workers, retail businesses, outdoor sports enthusiasts and businesses, tourism operators, and others who benefit from increased light during the evening in summer.</td>\n      <td>Would those in favor of DST argue that it causes people to use more electricity or saves energy?</td>\n      <td>{'text': ['saves energy'], 'answer_start': [42]}</td>\n    </tr>\n    <tr>\n      <th>73</th>\n      <td>572ee3a8c246551400ce477e</td>\n      <td>Han_dynasty</td>\n      <td>Following Huan's death, Dou Wu and the Grand Tutor Chen Fan (陳蕃) (d. 168 AD) attempted a coup d'état against the eunuchs Hou Lan (d. 172 AD), Cao Jie (d. 181 AD), and Wang Fu (王甫). When the plot was uncovered, the eunuchs arrested Empress Dowager Dou (d. 172 AD) and Chen Fan. General Zhang Huan (張奐) favored the eunuchs. He and his troops confronted Dou Wu and his retainers at the palace gate where each side shouted accusations of treason against the other. When the retainers gradually deserted Dou Wu, he was forced to commit suicide.</td>\n      <td>Who arrested Chen Fan in a failed plot?</td>\n      <td>{'text': ['the eunuchs'], 'answer_start': [210]}</td>\n    </tr>\n    <tr>\n      <th>74</th>\n      <td>5725fc3b89a1e219009ac134</td>\n      <td>Arsenal_F.C.</td>\n      <td>Highbury could hold more than 60,000 spectators at its peak, and had a capacity of 57,000 until the early 1990s. The Taylor Report and Premier League regulations obliged Arsenal to convert Highbury to an all-seater stadium in time for the 1993–94 season, thus reducing the capacity to 38,419 seated spectators. This capacity had to be reduced further during Champions League matches to accommodate additional advertising boards, so much so that for two seasons, from 1998 to 2000, Arsenal played Champions League home matches at Wembley, which could house more than 70,000 spectators.</td>\n      <td>Where did Arsenal play matches because of increased seating capacity?</td>\n      <td>{'text': ['Wembley'], 'answer_start': [529]}</td>\n    </tr>\n    <tr>\n      <th>75</th>\n      <td>572a589bb8ce0319002e2acd</td>\n      <td>Friedrich_Hayek</td>\n      <td>After editing a book on John Stuart Mill's letters he planned to publish two books on the liberal order, The Constitution of Liberty and \"The Creative Powers of a Free Civilization\" (eventually the title for the second chapter of The Constitution of Liberty). He completed The Constitution of Liberty in May 1959, with publication in February 1960. Hayek was concerned \"with that condition of men in which coercion of some by others is reduced as much as is possible in society\". Hayek was disappointed that the book did not receive the same enthusiastic general reception as The Road to Serfdom had sixteen years before.</td>\n      <td>As of the release of his 1960 book, how long had it been since The Road to Serfdom was released?</td>\n      <td>{'text': ['sixteen years'], 'answer_start': [600]}</td>\n    </tr>\n    <tr>\n      <th>76</th>\n      <td>56cd8d2462d2951400fa66d6</td>\n      <td>Sino-Tibetan_relations_during_the_Ming_dynasty</td>\n      <td>Tsai writes that shortly after the visit by Deshin Shekpa, the Yongle Emperor ordered the construction of a road and of trading posts in the upper reaches of the Yangzi and Mekong Rivers in order to facilitate trade with Tibet in tea, horses, and salt. The trade route passed through Sichuan and crossed Shangri-La County in Yunnan. Wang and Nyima assert that this \"tribute-related trade\" of the Ming exchanging Chinese tea for Tibetan horses—while granting Tibetan envoys and Tibetan merchants explicit permission to trade with Han Chinese merchants—\"furthered the rule of the Ming dynasty court over Tibet\". Rossabi and Sperling note that this trade in Tibetan horses for Chinese tea existed long before the Ming. Peter C. Perdue says that Wang Anshi (1021–1086), realizing that China could not produce enough militarily capable steeds, had also aimed to obtain horses from Inner Asia in exchange for Chinese tea. The Chinese needed horses not only for cavalry but also as draft animals for the army's supply wagons. The Tibetans required Chinese tea not only as a common beverage but also as a religious ceremonial supplement. The Ming government imposed a monopoly on tea production and attempted to regulate this trade with state-supervised markets, but these collapsed in 1449 due to military failures and internal ecological and commercial pressures on the tea-producing regions.</td>\n      <td>What did Yongle want to trade with Tibet?</td>\n      <td>{'text': ['tea, horses, and salt'], 'answer_start': [230]}</td>\n    </tr>\n    <tr>\n      <th>77</th>\n      <td>57268dd3708984140094c9ef</td>\n      <td>British_Empire</td>\n      <td>The Suez Crisis very publicly exposed Britain's limitations to the world and confirmed Britain's decline on the world stage, demonstrating that henceforth it could no longer act without at least the acquiescence, if not the full support, of the United States. The events at Suez wounded British national pride, leading one MP to describe it as \"Britain's Waterloo\" and another to suggest that the country had become an \"American satellite\". Margaret Thatcher later described the mindset she believed had befallen the British political establishment as \"Suez syndrome\", from which Britain did not recover until the successful recapture of the Falkland Islands from Argentina in 1982.</td>\n      <td>A British minister thought which country was becoming an 'American satellite'?</td>\n      <td>{'text': ['Britain'], 'answer_start': [38]}</td>\n    </tr>\n    <tr>\n      <th>78</th>\n      <td>5728114e2ca10214002d9d1a</td>\n      <td>Time</td>\n      <td>Another solution to the problem of causality-based temporal paradoxes is that such paradoxes cannot arise simply because they have not arisen. As illustrated in numerous works of fiction, free will either ceases to exist in the past or the outcomes of such decisions are predetermined. As such, it would not be possible to enact the grandfather paradox because it is a historical fact that your grandfather was not killed before his child (your parent) was conceived. This view doesn't simply hold that history is an unchangeable constant, but that any change made by a hypothetical future time traveler would already have happened in his or her past, resulting in the reality that the traveler moves from. More elaboration on this view can be found in the Novikov self-consistency principle.</td>\n      <td>What is another solution to the problem of temporal paradoxes?</td>\n      <td>{'text': ['paradoxes cannot arise simply because they have not arisen'], 'answer_start': [83]}</td>\n    </tr>\n    <tr>\n      <th>79</th>\n      <td>57263c94271a42140099d7a7</td>\n      <td>Incandescent_light_bulb</td>\n      <td>While inert gas reduces filament evaporation, it also conducts heat from the filament, thereby cooling the filament and reducing efficiency. At constant pressure and temperature, the thermal conductivity of a gas depends upon the molecular weight of the gas and the cross sectional area of the gas molecules. Higher molecular weight gasses have lower thermal conductivity, because both the molecular weight is higher and also the cross sectional area is higher. Xenon gas improves efficiency because of its high molecular weight, but is also more expensive, so its use is limited to smaller lamps.</td>\n      <td>Why does inert gas reduce efficiency?</td>\n      <td>{'text': ['conducts heat from the filament, thereby cooling the filament'], 'answer_start': [54]}</td>\n    </tr>\n    <tr>\n      <th>80</th>\n      <td>56cee809aab44d1400b88c6f</td>\n      <td>Spectre_(2015_film)</td>\n      <td>As of 21 February 2016[update] Spectre has grossed $879.3 million worldwide; $138.1 million of the takings have been generated from the UK market and $199.8 million from North America.</td>\n      <td>How much money had Spectre made by 2/21/2016?</td>\n      <td>{'text': ['$879.3 million'], 'answer_start': [51]}</td>\n    </tr>\n    <tr>\n      <th>81</th>\n      <td>5730dce3b7151e1900c0157e</td>\n      <td>United_States_Air_Force</td>\n      <td>Command and control is \"the exercise of authority and direction by a properly designated commander over assigned and attached forces in the accomplishment of the mission. Command and control functions are performed through an arrangement of personnel, equipment, communications, facilities, and procedures employed by a commander in planning, directing, coordinating, and controlling forces and operations in the accomplishment of the mission\" (JP 1-02). This core function includes all of the C2-related capabilities and activities associated with air, space, cyberspace, nuclear, and agile combat support operations to achieve strategic, operational, and tactical objectives.</td>\n      <td>What is the definition of Command and Control in the Air Force operations?</td>\n      <td>{'text': ['exercise of authority and direction by a properly designated commander over assigned and attached forces'], 'answer_start': [28]}</td>\n    </tr>\n    <tr>\n      <th>82</th>\n      <td>56f8c95e9b226e1400dd0ff4</td>\n      <td>Guinea-Bissau</td>\n      <td>In June 2005, presidential elections were held for the first time since the coup that deposed Ialá. Ialá returned as the candidate for the PRS, claiming to be the legitimate president of the country, but the election was won by former president João Bernardo Vieira, deposed in the 1999 coup. Vieira beat Malam Bacai Sanhá in a runoff election. Sanhá initially refused to concede, claiming that tampering and electoral fraud occurred in two constituencies including the capital, Bissau.</td>\n      <td>At that time, who ran claiming to be the legitimate president of the country?</td>\n      <td>{'text': ['Ialá'], 'answer_start': [100]}</td>\n    </tr>\n    <tr>\n      <th>83</th>\n      <td>57298558af94a219006aa4e7</td>\n      <td>Neoclassical_architecture</td>\n      <td>A new phase in neoclassical design was inaugurated by Robert and James Adam, who travelled in Italy and Dalmatia in the 1750s, observing the ruins of the classical world. On their return to Britain, they published a book entitled The Works in Architecture in installments between 1773 and 1779. This book of engraved designs made the Adam repertory available throughout Europe. The Adam brothers aimed to simplify the rococo and baroque styles which had been fashionable in the preceding decades, to bring what they felt to be a lighter and more elegant feel to Georgian houses. The Works in Architecture illustrated the main buildings the Adam brothers had worked on and crucially documented the interiors, furniture and fittings, designed by the Adams.</td>\n      <td>This new style was an attempt to give what different feel to design?</td>\n      <td>{'text': ['lighter and more elegant feel'], 'answer_start': [529]}</td>\n    </tr>\n    <tr>\n      <th>84</th>\n      <td>5725b267b80e561500fa6f29</td>\n      <td>Israel</td>\n      <td>On 29 November 1947, the United Nations General Assembly recommended the adoption and implementation of the Partition Plan for Mandatory Palestine. This UN plan specified borders for new Arab and Jewish states and also specified an area of Jerusalem and its environs which was to be administered by the UN under an international regime. The end of the British Mandate for Palestine was set for midnight on 14 May 1948. That day, David Ben-Gurion, the executive head of the Zionist Organization and president of the Jewish Agency for Palestine, declared \"the establishment of a Jewish state in Eretz Israel, to be known as the State of Israel,\" which would start to function from the termination of the mandate. The borders of the new state were not specified in the declaration. Neighboring Arab armies invaded the former Palestinian mandate on the next day and fought the Israeli forces. Israel has since fought several wars with neighboring Arab states, in the course of which it has occupied the West Bank, Sinai Peninsula (1956–57, 1967–82), part of Southern Lebanon (1982–2000), Gaza Strip (1967–2005; still considered occupied after 2005 disengagement) and the Golan Heights. It extended its laws to the Golan Heights and East Jerusalem, but not the West Bank. Efforts to resolve the Israeli–Palestinian conflict have not resulted in peace. However, peace treaties between Israel and both Egypt and Jordan have successfully been signed. Israel's occupation of Gaza, the West Bank and East Jerusalem is the world's longest military occupation in modern times.[note 2]</td>\n      <td>When was the end of the British Mandate set?</td>\n      <td>{'text': ['midnight on 14 May 1948'], 'answer_start': [394]}</td>\n    </tr>\n    <tr>\n      <th>85</th>\n      <td>57311971497a881900248b67</td>\n      <td>Bird</td>\n      <td>The classification of birds is a contentious issue. Sibley and Ahlquist's Phylogeny and Classification of Birds (1990) is a landmark work on the classification of birds, although it is frequently debated and constantly revised. Most evidence seems to suggest the assignment of orders is accurate, but scientists disagree about the relationships between the orders themselves; evidence from modern bird anatomy, fossils and DNA have all been brought to bear on the problem, but no strong consensus has emerged. More recently, new fossil and molecular evidence is providing an increasingly clear picture of the evolution of modern bird orders. The most recent effort is drawn above and is based on whole genome sequencing of 48 representative species.</td>\n      <td>Sibley and Ahlquist' Phylogeny and Classification of Birds is a landmark work on the classification of what animals?</td>\n      <td>{'text': ['birds'], 'answer_start': [163]}</td>\n    </tr>\n    <tr>\n      <th>86</th>\n      <td>5723f90ff6b826140030fd15</td>\n      <td>Queen_Victoria</td>\n      <td>On 29 May 1842, Victoria was riding in a carriage along The Mall, London, when John Francis aimed a pistol at her but the gun did not fire; he escaped. The following day, Victoria drove the same route, though faster and with a greater escort, in a deliberate attempt to provoke Francis to take a second aim and catch him in the act. As expected, Francis shot at her, but he was seized by plain-clothes policemen, and convicted of high treason. On 3 July, two days after Francis's death sentence was commuted to transportation for life, John William Bean also tried to fire a pistol at the Queen, but it was loaded only with paper and tobacco and had too little charge. Edward Oxford felt that the attempts were encouraged by his acquittal in 1840. Bean was sentenced to 18 months in jail. In a similar attack in 1849, unemployed Irishman William Hamilton fired a powder-filled pistol at Victoria's carriage as it passed along Constitution Hill, London. In 1850, the Queen did sustain injury when she was assaulted by a possibly insane ex-army officer, Robert Pate. As Victoria was riding in a carriage, Pate struck her with his cane, crushing her bonnet and bruising her forehead. Both Hamilton and Pate were sentenced to seven years' transportation.</td>\n      <td>On what date did John Francis try to shoot Queen Victoria?</td>\n      <td>{'text': ['29 May 1842'], 'answer_start': [3]}</td>\n    </tr>\n    <tr>\n      <th>87</th>\n      <td>572a89eaf75d5e190021fb62</td>\n      <td>Friedrich_Hayek</td>\n      <td>Arthur M. Diamond argues Hayek's problems arise when he goes beyond claims that can be evaluated within economic science. Diamond argued that: “The human mind, Hayek says, is not just limited in its ability to synthesize a vast array of concrete facts, it is also limited in its ability to give a deductively sound ground to ethics. Here is where the tension develops, for he also wants to give a reasoned moral defense of the free market. He is an intellectual skeptic who wants to give political philosophy a secure intellectual foundation. It is thus not too surprising that what results is confused and contradictory.”</td>\n      <td>What term does Diamond use to refer to Hayek?</td>\n      <td>{'text': ['intellectual skeptic'], 'answer_start': [449]}</td>\n    </tr>\n    <tr>\n      <th>88</th>\n      <td>57319323a5e9cc1400cdc0f4</td>\n      <td>Muammar_Gaddafi</td>\n      <td>Critics labelled Gaddafi \"despotic, cruel, arrogant, vain and stupid\", with western governments and press presenting him as the \"vicious dictator of an oppressed people\". During the Reagan administration, the United States regarded him as \"Public Enemy No. 1\" and Reagan famously dubbed him the \"mad dog of the Middle East\". According to critics, the Libyan people lived in a climate of fear under Gaddafi's administration, due to his government's pervasive surveillance of civilians. Gaddafi's Libya was typically described by western commentators as \"a police state\". Opponents were critical of Libya's human rights abuses; according to Human Rights Watch (HRW) and others, hundreds of arrested political opponents often failed to receive a fair trial, and were sometimes subjected to torture or extrajudicial execution, most notably in the Abu Salim prison, including an alleged massacre on 29 June 1996 in which HRW estimated that 1,270 prisoners were massacred. Dissidents abroad or \"stray dogs\" were also publicly threatened with death and sometimes killed by government hit squads. His government's treatment of non-Arab Libyans has also came in for criticism from human rights activists, with native Berbers, Italians, Jews, refugees, and foreign workers all facing persecution in Gaddafist Libya. According to journalist Annick Cojean and psychologist Seham Sergewa, Gaddafi and senior officials raped and imprisoned hundreds or thousands of young women and reportedly raped several of his female bodyguards. Gaddafi's government was frequently criticized for not being democratic, with Freedom House consistently giving Libya under Gaddafi the \"Not Free\" ranking for civil liberties and political rights.</td>\n      <td>What did Gaddafi call Libya dissidents based outside the country?</td>\n      <td>{'text': ['stray dogs'], 'answer_start': [989]}</td>\n    </tr>\n    <tr>\n      <th>89</th>\n      <td>56e104dfcd28a01900c67447</td>\n      <td>Space_Race</td>\n      <td>The Soviet Zond spacecraft was not yet ready for piloted circumlunar missions in 1968, after five unsuccessful and partially successful automated test launches: Cosmos 146 on March 10, 1967; Cosmos 154 on April 8, 1967; Zond 1967A September 27, 1967; Zond 1967B on November 22, 1967. Zond 4 was launched on March 2, 1968, and successfully made a circumlunar flight. After its successful flight around the Moon, Zond 4 encountered problems with its Earth reentry on March 9, and was ordered destroyed by an explosive charge 15,000 meters (49,000 ft) over the Gulf of Guinea. The Soviet official announcement said that Zond 4 was an automated test flight which ended with its intentional destruction, due to its recovery trajectory positioning it over the Atlantic Ocean instead of over the USSR.</td>\n      <td>Where was the Zond 4 over when it was destroyed by an explosion?</td>\n      <td>{'text': ['Gulf of Guinea'], 'answer_start': [558]}</td>\n    </tr>\n    <tr>\n      <th>90</th>\n      <td>56d0a987234ae51400d9c406</td>\n      <td>Buddhism</td>\n      <td>While he searched for enlightenment, Gautama combined the yoga practice of his teacher Kalama with what later became known as \"the immeasurables\".[dubious – discuss] Gautama thus invented a new kind of human, one without egotism.[dubious – discuss] What Thich Nhat Hanh calls the \"Four Immeasurable Minds\" of love, compassion, joy, and equanimity[full citation needed] are also known as brahmaviharas, divine abodes, or simply as four immeasurables.[web 5] Pema Chödrön calls them the \"four limitless ones\". Of the four, mettā or loving-kindness meditation is perhaps the best known.[web 5] The Four Immeasurables are taught as a form of meditation that cultivates \"wholesome attitudes towards all sentient beings.\"[web 6][web 7]</td>\n      <td>What are the Four Immeasurable Minds also known as?</td>\n      <td>{'text': ['brahmaviharas, divine abodes, or simply as four immeasurables'], 'answer_start': [387]}</td>\n    </tr>\n    <tr>\n      <th>91</th>\n      <td>57261fd438643c19005ad04e</td>\n      <td>Buckingham_Palace</td>\n      <td>In 1901 the accession of Edward VII saw new life breathed into the palace. The new King and his wife Queen Alexandra had always been at the forefront of London high society, and their friends, known as \"the Marlborough House Set\", were considered to be the most eminent and fashionable of the age. Buckingham Palace—the Ballroom, Grand Entrance, Marble Hall, Grand Staircase, vestibules and galleries redecorated in the Belle époque cream and gold colour scheme they retain today—once again became a setting for entertaining on a majestic scale but leaving some to feel King Edward's heavy redecorations were at odds with Nash's original work.</td>\n      <td>What colors were used in the redecorations overseen by King Edward VII?</td>\n      <td>{'text': ['Belle époque cream and gold'], 'answer_start': [420]}</td>\n    </tr>\n    <tr>\n      <th>92</th>\n      <td>56d627261c85041400946f3e</td>\n      <td>Dog</td>\n      <td>Anthropologists believe the most significant benefit would have been the use of dogs' robust sense of smell to assist with the hunt. The relationship between the presence of a dog and success in the hunt is often mentioned as a primary reason for the domestication of the wolf, and a 2004 study of hunter groups with and without a dog gives quantitative support to the hypothesis that the benefits of cooperative hunting was an important factor in wolf domestication.</td>\n      <td>What type of hunting is it called when humans and dogs hunt together?</td>\n      <td>{'text': ['cooperative hunting'], 'answer_start': [401]}</td>\n    </tr>\n    <tr>\n      <th>93</th>\n      <td>56f89a8d9e9bad19000a01b8</td>\n      <td>Alps</td>\n      <td>Glaciers end in ice caves (the Rhone Glacier), by trailing into a lake or river, or by shedding snowmelt on a meadow. Sometimes a piece of glacier will detach or break resulting in flooding, property damage and loss of life. In the 17th century about 2500 people were killed by an avalanche in a village on the French-Italian border; in the 19th century 120 homes in a village near Zermatt were destroyed by an avalanche.</td>\n      <td>What killed about 2500 people in the 17th century?</td>\n      <td>{'text': ['an avalanche'], 'answer_start': [278]}</td>\n    </tr>\n    <tr>\n      <th>94</th>\n      <td>56d1d4d3e7d4791d00902279</td>\n      <td>Frédéric_Chopin</td>\n      <td>In October 1810, six months after Fryderyk's birth, the family moved to Warsaw, where his father acquired a post teaching French at the Warsaw Lyceum, then housed in the Saxon Palace. Fryderyk lived with his family in the Palace grounds. The father played the flute and violin; the mother played the piano and gave lessons to boys in the boarding house that the Chopins kept. Chopin was of slight build, and even in early childhood was prone to illnesses.</td>\n      <td>Where did Chopin live with his family in Warsaw?</td>\n      <td>{'text': ['Saxon Palace.'], 'answer_start': [170]}</td>\n    </tr>\n    <tr>\n      <th>95</th>\n      <td>56e6b7e56fe0821900b8eb3b</td>\n      <td>Adult_contemporary_music</td>\n      <td>Adult contemporary music (AC) is a style of music, ranging from 1960s vocal and 1970s soft rock music to predominantly ballad-heavy music of the present day, with varying degrees of easy listening, pop, soul, rhythm and blues, quiet storm, and rock influence. Adult contemporary is rather a continuation of the easy listening and soft rock style that became popular in the 1960s and 1970s with some adjustments that reflect the evolution of pop/rock music.</td>\n      <td>What was the prevailing style of adult contemporary music in the 1970s?</td>\n      <td>{'text': ['soft rock'], 'answer_start': [86]}</td>\n    </tr>\n    <tr>\n      <th>96</th>\n      <td>5726b8c9708984140094cf22</td>\n      <td>Electric_motor</td>\n      <td>Another common application is the control of the throttle of an internal combustion engine in conjunction with an electronic governor. In this usage, the motor works against a return spring to move the throttle in accordance with the output of the governor. The latter monitors engine speed by counting electrical pulses from the ignition system or from a magnetic pickup and, depending on the speed, makes small adjustments to the amount of current applied to the motor. If the engine starts to slow down relative to the desired speed, the current will be increased, the motor will develop more torque, pulling against the return spring and opening the throttle. Should the engine run too fast, the governor will reduce the current being applied to the motor, causing the return spring to pull back and close the throttle.</td>\n      <td>What would a governor do to a too-fast running engine?</td>\n      <td>{'text': ['reduce the current being applied to the motor'], 'answer_start': [714]}</td>\n    </tr>\n    <tr>\n      <th>97</th>\n      <td>56de957acffd8e1900b4ba04</td>\n      <td>Materialism</td>\n      <td>Despite the large number of philosophical schools and subtle nuances between many, all philosophies are said to fall into one of two primary categories, which are defined in contrast to each other: Idealism, and materialism.[a] The basic proposition of these two categories pertains to the nature of reality, and the primary distinction between them is the way they answer two fundamental questions: \"what does reality consist of?\" and \"how does it originate?\" To idealists, spirit or mind or the objects of mind (ideas) are primary, and matter secondary. To materialists, matter is primary, and mind or spirit or ideas are secondary, the product of matter acting upon matter.</td>\n      <td>An idealist considers what as the most important?</td>\n      <td>{'text': ['spirit or mind or the objects of mind (ideas)'], 'answer_start': [475]}</td>\n    </tr>\n    <tr>\n      <th>98</th>\n      <td>56e0eaeb7aa994140058e7bc</td>\n      <td>Space_Race</td>\n      <td>The US reacted to the Luna program by embarking on the Ranger program in 1959, managed by NASA's Jet Propulsion Laboratory. The Block I Ranger 1 and Ranger 2 suffered Atlas-Agena launch failures in August and November 1961. The 727-pound (330 kg) Block II Ranger 3 launched successfully on January 26, 1962, but missed the Moon. The 730-pound (330 kg) Ranger 4 became the first US spacecraft to reach the Moon, but its solar panels and navigational system failed near the Moon and it impacted the far side without returning any scientific data. Ranger 5 ran out of power and missed the Moon by 725 kilometers (391 nmi) on October 21, 1962. The first successful Ranger mission was the 806-pound (366 kg) Block III Ranger 7 which impacted on July 31, 1964.</td>\n      <td>The Block III Ranger 7 mission successfully reached the moon on what date?</td>\n      <td>{'text': ['July 31, 1964'], 'answer_start': [740]}</td>\n    </tr>\n    <tr>\n      <th>99</th>\n      <td>56e10bf4cd28a01900c674c4</td>\n      <td>Space_Race</td>\n      <td>Having lost the race to the Moon, the USSR decided to concentrate on orbital space stations. During 1969 and 1970, they launched six more Soyuz flights after Soyuz 3, then launched the first space station, the Salyut 1 laboratory designed by Kerim Kerimov, on April 19, 1971. Three days later, the Soyuz 10 crew attempted to dock with it, but failed to achieve a secure enough connection to safely enter the station. The Soyuz 11 crew of Vladislav Volkov, Georgi Dobrovolski and Viktor Patsayev successfully docked on June 7, and completed a record 22-day stay. The crew became the second in-flight space fatality during their reentry on June 30. They were asphyxiated when their spacecraft's cabin lost all pressure, shortly after undocking. The disaster was blamed on a faulty cabin pressure valve, that allowed all the air to vent into space. The crew was not wearing pressure suits and had no chance of survival once the leak occurred.</td>\n      <td>Who made up the crew of the Soyuz 11?</td>\n      <td>{'text': ['Vladislav Volkov, Georgi Dobrovolski and Viktor Patsayev'], 'answer_start': [438]}</td>\n    </tr>\n  </tbody>\n</table>"
     },
     "metadata": {},
     "output_type": "display_data"
    }
   ],
   "source": [
    "import random\n",
    "from IPython.display import display, HTML\n",
    "def display_random_examples(dataset=squad_train, num_examples=5):\n",
    "    assert num_examples < len(dataset)\n",
    "\n",
    "    random_picks = []\n",
    "    for i in range(num_examples):\n",
    "        random_pick = random.randint(0,len(dataset)-1)\n",
    "        random_picks.append(random_pick)\n",
    "\n",
    "    df = pd.DataFrame(dataset[random_picks])\n",
    "    display(HTML(df.to_html()))\n",
    "    return df\n",
    "\n",
    "df = display_random_examples(squad_train, 100)"
   ],
   "metadata": {
    "collapsed": false,
    "pycharm": {
     "name": "#%%\n"
    }
   }
  },
  {
   "cell_type": "markdown",
   "source": [
    " Checking the types of data"
   ],
   "metadata": {
    "collapsed": false,
    "pycharm": {
     "name": "#%% md\n"
    }
   }
  },
  {
   "cell_type": "code",
   "execution_count": 34,
   "outputs": [
    {
     "data": {
      "text/plain": "id          object\ntitle       object\ncontext     object\nquestion    object\nanswers     object\ndtype: object"
     },
     "execution_count": 34,
     "metadata": {},
     "output_type": "execute_result"
    }
   ],
   "source": [
    "df.dtypes"
   ],
   "metadata": {
    "collapsed": false,
    "pycharm": {
     "name": "#%%\n"
    }
   }
  },
  {
   "cell_type": "markdown",
   "source": [
    "Dropping the duplicate rows"
   ],
   "metadata": {
    "collapsed": false,
    "pycharm": {
     "name": "#%% md\n"
    }
   }
  },
  {
   "cell_type": "code",
   "execution_count": 35,
   "outputs": [
    {
     "data": {
      "text/plain": "(100, 5)"
     },
     "execution_count": 35,
     "metadata": {},
     "output_type": "execute_result"
    }
   ],
   "source": [
    "df.shape"
   ],
   "metadata": {
    "collapsed": false,
    "pycharm": {
     "name": "#%%\n"
    }
   }
  },
  {
   "cell_type": "code",
   "execution_count": 36,
   "outputs": [
    {
     "ename": "TypeError",
     "evalue": "unhashable type: 'dict'",
     "output_type": "error",
     "traceback": [
      "\u001B[1;31m---------------------------------------------------------------------------\u001B[0m",
      "\u001B[1;31mTypeError\u001B[0m                                 Traceback (most recent call last)",
      "\u001B[1;32m<ipython-input-36-6e513c1d9392>\u001B[0m in \u001B[0;36m<module>\u001B[1;34m\u001B[0m\n\u001B[1;32m----> 1\u001B[1;33m \u001B[0mduplicate_rows_df\u001B[0m \u001B[1;33m=\u001B[0m \u001B[0mdf\u001B[0m\u001B[1;33m[\u001B[0m\u001B[0mdf\u001B[0m\u001B[1;33m.\u001B[0m\u001B[0mduplicated\u001B[0m\u001B[1;33m(\u001B[0m\u001B[1;33m)\u001B[0m\u001B[1;33m]\u001B[0m\u001B[1;33m\u001B[0m\u001B[1;33m\u001B[0m\u001B[0m\n\u001B[0m\u001B[0;32m      2\u001B[0m \u001B[0mprint\u001B[0m\u001B[1;33m(\u001B[0m\u001B[1;34m\"number of duplicate rows: \"\u001B[0m\u001B[1;33m,\u001B[0m \u001B[0mduplicate_rows_df\u001B[0m\u001B[1;33m.\u001B[0m\u001B[0mshape\u001B[0m\u001B[1;33m)\u001B[0m\u001B[1;33m\u001B[0m\u001B[1;33m\u001B[0m\u001B[0m\n",
      "\u001B[1;32mc:\\users\\imtech\\appdata\\local\\programs\\python\\python37\\lib\\site-packages\\pandas\\core\\frame.py\u001B[0m in \u001B[0;36mduplicated\u001B[1;34m(self, subset, keep)\u001B[0m\n\u001B[0;32m   5249\u001B[0m \u001B[1;33m\u001B[0m\u001B[0m\n\u001B[0;32m   5250\u001B[0m         \u001B[0mvals\u001B[0m \u001B[1;33m=\u001B[0m \u001B[1;33m(\u001B[0m\u001B[0mcol\u001B[0m\u001B[1;33m.\u001B[0m\u001B[0mvalues\u001B[0m \u001B[1;32mfor\u001B[0m \u001B[0mname\u001B[0m\u001B[1;33m,\u001B[0m \u001B[0mcol\u001B[0m \u001B[1;32min\u001B[0m \u001B[0mself\u001B[0m\u001B[1;33m.\u001B[0m\u001B[0mitems\u001B[0m\u001B[1;33m(\u001B[0m\u001B[1;33m)\u001B[0m \u001B[1;32mif\u001B[0m \u001B[0mname\u001B[0m \u001B[1;32min\u001B[0m \u001B[0msubset\u001B[0m\u001B[1;33m)\u001B[0m\u001B[1;33m\u001B[0m\u001B[1;33m\u001B[0m\u001B[0m\n\u001B[1;32m-> 5251\u001B[1;33m         \u001B[0mlabels\u001B[0m\u001B[1;33m,\u001B[0m \u001B[0mshape\u001B[0m \u001B[1;33m=\u001B[0m \u001B[0mmap\u001B[0m\u001B[1;33m(\u001B[0m\u001B[0mlist\u001B[0m\u001B[1;33m,\u001B[0m \u001B[0mzip\u001B[0m\u001B[1;33m(\u001B[0m\u001B[1;33m*\u001B[0m\u001B[0mmap\u001B[0m\u001B[1;33m(\u001B[0m\u001B[0mf\u001B[0m\u001B[1;33m,\u001B[0m \u001B[0mvals\u001B[0m\u001B[1;33m)\u001B[0m\u001B[1;33m)\u001B[0m\u001B[1;33m)\u001B[0m\u001B[1;33m\u001B[0m\u001B[1;33m\u001B[0m\u001B[0m\n\u001B[0m\u001B[0;32m   5252\u001B[0m \u001B[1;33m\u001B[0m\u001B[0m\n\u001B[0;32m   5253\u001B[0m         \u001B[0mids\u001B[0m \u001B[1;33m=\u001B[0m \u001B[0mget_group_index\u001B[0m\u001B[1;33m(\u001B[0m\u001B[0mlabels\u001B[0m\u001B[1;33m,\u001B[0m \u001B[0mshape\u001B[0m\u001B[1;33m,\u001B[0m \u001B[0msort\u001B[0m\u001B[1;33m=\u001B[0m\u001B[1;32mFalse\u001B[0m\u001B[1;33m,\u001B[0m \u001B[0mxnull\u001B[0m\u001B[1;33m=\u001B[0m\u001B[1;32mFalse\u001B[0m\u001B[1;33m)\u001B[0m\u001B[1;33m\u001B[0m\u001B[1;33m\u001B[0m\u001B[0m\n",
      "\u001B[1;32mc:\\users\\imtech\\appdata\\local\\programs\\python\\python37\\lib\\site-packages\\pandas\\core\\frame.py\u001B[0m in \u001B[0;36mf\u001B[1;34m(vals)\u001B[0m\n\u001B[0;32m   5224\u001B[0m         \u001B[1;32mdef\u001B[0m \u001B[0mf\u001B[0m\u001B[1;33m(\u001B[0m\u001B[0mvals\u001B[0m\u001B[1;33m)\u001B[0m\u001B[1;33m:\u001B[0m\u001B[1;33m\u001B[0m\u001B[1;33m\u001B[0m\u001B[0m\n\u001B[0;32m   5225\u001B[0m             labels, shape = algorithms.factorize(\n\u001B[1;32m-> 5226\u001B[1;33m                 \u001B[0mvals\u001B[0m\u001B[1;33m,\u001B[0m \u001B[0msize_hint\u001B[0m\u001B[1;33m=\u001B[0m\u001B[0mmin\u001B[0m\u001B[1;33m(\u001B[0m\u001B[0mlen\u001B[0m\u001B[1;33m(\u001B[0m\u001B[0mself\u001B[0m\u001B[1;33m)\u001B[0m\u001B[1;33m,\u001B[0m \u001B[0m_SIZE_HINT_LIMIT\u001B[0m\u001B[1;33m)\u001B[0m\u001B[1;33m\u001B[0m\u001B[1;33m\u001B[0m\u001B[0m\n\u001B[0m\u001B[0;32m   5227\u001B[0m             )\n\u001B[0;32m   5228\u001B[0m             \u001B[1;32mreturn\u001B[0m \u001B[0mlabels\u001B[0m\u001B[1;33m.\u001B[0m\u001B[0mastype\u001B[0m\u001B[1;33m(\u001B[0m\u001B[1;34m\"i8\"\u001B[0m\u001B[1;33m,\u001B[0m \u001B[0mcopy\u001B[0m\u001B[1;33m=\u001B[0m\u001B[1;32mFalse\u001B[0m\u001B[1;33m)\u001B[0m\u001B[1;33m,\u001B[0m \u001B[0mlen\u001B[0m\u001B[1;33m(\u001B[0m\u001B[0mshape\u001B[0m\u001B[1;33m)\u001B[0m\u001B[1;33m\u001B[0m\u001B[1;33m\u001B[0m\u001B[0m\n",
      "\u001B[1;32mc:\\users\\imtech\\appdata\\local\\programs\\python\\python37\\lib\\site-packages\\pandas\\core\\algorithms.py\u001B[0m in \u001B[0;36mfactorize\u001B[1;34m(values, sort, na_sentinel, size_hint)\u001B[0m\n\u001B[0;32m    676\u001B[0m \u001B[1;33m\u001B[0m\u001B[0m\n\u001B[0;32m    677\u001B[0m         codes, uniques = _factorize_array(\n\u001B[1;32m--> 678\u001B[1;33m             \u001B[0mvalues\u001B[0m\u001B[1;33m,\u001B[0m \u001B[0mna_sentinel\u001B[0m\u001B[1;33m=\u001B[0m\u001B[0mna_sentinel\u001B[0m\u001B[1;33m,\u001B[0m \u001B[0msize_hint\u001B[0m\u001B[1;33m=\u001B[0m\u001B[0msize_hint\u001B[0m\u001B[1;33m,\u001B[0m \u001B[0mna_value\u001B[0m\u001B[1;33m=\u001B[0m\u001B[0mna_value\u001B[0m\u001B[1;33m\u001B[0m\u001B[1;33m\u001B[0m\u001B[0m\n\u001B[0m\u001B[0;32m    679\u001B[0m         )\n\u001B[0;32m    680\u001B[0m \u001B[1;33m\u001B[0m\u001B[0m\n",
      "\u001B[1;32mc:\\users\\imtech\\appdata\\local\\programs\\python\\python37\\lib\\site-packages\\pandas\\core\\algorithms.py\u001B[0m in \u001B[0;36m_factorize_array\u001B[1;34m(values, na_sentinel, size_hint, na_value, mask)\u001B[0m\n\u001B[0;32m    499\u001B[0m     \u001B[0mtable\u001B[0m \u001B[1;33m=\u001B[0m \u001B[0mhash_klass\u001B[0m\u001B[1;33m(\u001B[0m\u001B[0msize_hint\u001B[0m \u001B[1;32mor\u001B[0m \u001B[0mlen\u001B[0m\u001B[1;33m(\u001B[0m\u001B[0mvalues\u001B[0m\u001B[1;33m)\u001B[0m\u001B[1;33m)\u001B[0m\u001B[1;33m\u001B[0m\u001B[1;33m\u001B[0m\u001B[0m\n\u001B[0;32m    500\u001B[0m     uniques, codes = table.factorize(\n\u001B[1;32m--> 501\u001B[1;33m         \u001B[0mvalues\u001B[0m\u001B[1;33m,\u001B[0m \u001B[0mna_sentinel\u001B[0m\u001B[1;33m=\u001B[0m\u001B[0mna_sentinel\u001B[0m\u001B[1;33m,\u001B[0m \u001B[0mna_value\u001B[0m\u001B[1;33m=\u001B[0m\u001B[0mna_value\u001B[0m\u001B[1;33m,\u001B[0m \u001B[0mmask\u001B[0m\u001B[1;33m=\u001B[0m\u001B[0mmask\u001B[0m\u001B[1;33m\u001B[0m\u001B[1;33m\u001B[0m\u001B[0m\n\u001B[0m\u001B[0;32m    502\u001B[0m     )\n\u001B[0;32m    503\u001B[0m \u001B[1;33m\u001B[0m\u001B[0m\n",
      "\u001B[1;32mpandas\\_libs\\hashtable_class_helper.pxi\u001B[0m in \u001B[0;36mpandas._libs.hashtable.PyObjectHashTable.factorize\u001B[1;34m()\u001B[0m\n",
      "\u001B[1;32mpandas\\_libs\\hashtable_class_helper.pxi\u001B[0m in \u001B[0;36mpandas._libs.hashtable.PyObjectHashTable._unique\u001B[1;34m()\u001B[0m\n",
      "\u001B[1;31mTypeError\u001B[0m: unhashable type: 'dict'"
     ]
    }
   ],
   "source": [
    "duplicate_rows_df = df[df.duplicated()]\n",
    "print(\"number of duplicate rows: \", duplicate_rows_df.shape)"
   ],
   "metadata": {
    "collapsed": false,
    "pycharm": {
     "name": "#%%\n"
    }
   }
  },
  {
   "cell_type": "code",
   "execution_count": 37,
   "outputs": [
    {
     "data": {
      "text/plain": "id          100\ntitle       100\ncontext     100\nquestion    100\nanswers     100\ndtype: int64"
     },
     "execution_count": 37,
     "metadata": {},
     "output_type": "execute_result"
    }
   ],
   "source": [
    "df.count()"
   ],
   "metadata": {
    "collapsed": false,
    "pycharm": {
     "name": "#%%\n"
    }
   }
  },
  {
   "cell_type": "code",
   "execution_count": 38,
   "outputs": [
    {
     "ename": "TypeError",
     "evalue": "unhashable type: 'dict'",
     "output_type": "error",
     "traceback": [
      "\u001B[1;31m---------------------------------------------------------------------------\u001B[0m",
      "\u001B[1;31mTypeError\u001B[0m                                 Traceback (most recent call last)",
      "\u001B[1;32m<ipython-input-38-a13bc61212ba>\u001B[0m in \u001B[0;36m<module>\u001B[1;34m\u001B[0m\n\u001B[1;32m----> 1\u001B[1;33m \u001B[0mdf\u001B[0m \u001B[1;33m=\u001B[0m \u001B[0mdf\u001B[0m\u001B[1;33m.\u001B[0m\u001B[0mdrop_duplicates\u001B[0m\u001B[1;33m(\u001B[0m\u001B[1;33m)\u001B[0m\u001B[1;33m\u001B[0m\u001B[1;33m\u001B[0m\u001B[0m\n\u001B[0m\u001B[0;32m      2\u001B[0m \u001B[0mdf\u001B[0m\u001B[1;33m.\u001B[0m\u001B[0mhead\u001B[0m\u001B[1;33m(\u001B[0m\u001B[1;36m5\u001B[0m\u001B[1;33m)\u001B[0m\u001B[1;33m\u001B[0m\u001B[1;33m\u001B[0m\u001B[0m\n",
      "\u001B[1;32mc:\\users\\imtech\\appdata\\local\\programs\\python\\python37\\lib\\site-packages\\pandas\\core\\frame.py\u001B[0m in \u001B[0;36mdrop_duplicates\u001B[1;34m(self, subset, keep, inplace, ignore_index)\u001B[0m\n\u001B[0;32m   5110\u001B[0m \u001B[1;33m\u001B[0m\u001B[0m\n\u001B[0;32m   5111\u001B[0m         \u001B[0minplace\u001B[0m \u001B[1;33m=\u001B[0m \u001B[0mvalidate_bool_kwarg\u001B[0m\u001B[1;33m(\u001B[0m\u001B[0minplace\u001B[0m\u001B[1;33m,\u001B[0m \u001B[1;34m\"inplace\"\u001B[0m\u001B[1;33m)\u001B[0m\u001B[1;33m\u001B[0m\u001B[1;33m\u001B[0m\u001B[0m\n\u001B[1;32m-> 5112\u001B[1;33m         \u001B[0mduplicated\u001B[0m \u001B[1;33m=\u001B[0m \u001B[0mself\u001B[0m\u001B[1;33m.\u001B[0m\u001B[0mduplicated\u001B[0m\u001B[1;33m(\u001B[0m\u001B[0msubset\u001B[0m\u001B[1;33m,\u001B[0m \u001B[0mkeep\u001B[0m\u001B[1;33m=\u001B[0m\u001B[0mkeep\u001B[0m\u001B[1;33m)\u001B[0m\u001B[1;33m\u001B[0m\u001B[1;33m\u001B[0m\u001B[0m\n\u001B[0m\u001B[0;32m   5113\u001B[0m \u001B[1;33m\u001B[0m\u001B[0m\n\u001B[0;32m   5114\u001B[0m         \u001B[0mresult\u001B[0m \u001B[1;33m=\u001B[0m \u001B[0mself\u001B[0m\u001B[1;33m[\u001B[0m\u001B[1;33m-\u001B[0m\u001B[0mduplicated\u001B[0m\u001B[1;33m]\u001B[0m\u001B[1;33m\u001B[0m\u001B[1;33m\u001B[0m\u001B[0m\n",
      "\u001B[1;32mc:\\users\\imtech\\appdata\\local\\programs\\python\\python37\\lib\\site-packages\\pandas\\core\\frame.py\u001B[0m in \u001B[0;36mduplicated\u001B[1;34m(self, subset, keep)\u001B[0m\n\u001B[0;32m   5249\u001B[0m \u001B[1;33m\u001B[0m\u001B[0m\n\u001B[0;32m   5250\u001B[0m         \u001B[0mvals\u001B[0m \u001B[1;33m=\u001B[0m \u001B[1;33m(\u001B[0m\u001B[0mcol\u001B[0m\u001B[1;33m.\u001B[0m\u001B[0mvalues\u001B[0m \u001B[1;32mfor\u001B[0m \u001B[0mname\u001B[0m\u001B[1;33m,\u001B[0m \u001B[0mcol\u001B[0m \u001B[1;32min\u001B[0m \u001B[0mself\u001B[0m\u001B[1;33m.\u001B[0m\u001B[0mitems\u001B[0m\u001B[1;33m(\u001B[0m\u001B[1;33m)\u001B[0m \u001B[1;32mif\u001B[0m \u001B[0mname\u001B[0m \u001B[1;32min\u001B[0m \u001B[0msubset\u001B[0m\u001B[1;33m)\u001B[0m\u001B[1;33m\u001B[0m\u001B[1;33m\u001B[0m\u001B[0m\n\u001B[1;32m-> 5251\u001B[1;33m         \u001B[0mlabels\u001B[0m\u001B[1;33m,\u001B[0m \u001B[0mshape\u001B[0m \u001B[1;33m=\u001B[0m \u001B[0mmap\u001B[0m\u001B[1;33m(\u001B[0m\u001B[0mlist\u001B[0m\u001B[1;33m,\u001B[0m \u001B[0mzip\u001B[0m\u001B[1;33m(\u001B[0m\u001B[1;33m*\u001B[0m\u001B[0mmap\u001B[0m\u001B[1;33m(\u001B[0m\u001B[0mf\u001B[0m\u001B[1;33m,\u001B[0m \u001B[0mvals\u001B[0m\u001B[1;33m)\u001B[0m\u001B[1;33m)\u001B[0m\u001B[1;33m)\u001B[0m\u001B[1;33m\u001B[0m\u001B[1;33m\u001B[0m\u001B[0m\n\u001B[0m\u001B[0;32m   5252\u001B[0m \u001B[1;33m\u001B[0m\u001B[0m\n\u001B[0;32m   5253\u001B[0m         \u001B[0mids\u001B[0m \u001B[1;33m=\u001B[0m \u001B[0mget_group_index\u001B[0m\u001B[1;33m(\u001B[0m\u001B[0mlabels\u001B[0m\u001B[1;33m,\u001B[0m \u001B[0mshape\u001B[0m\u001B[1;33m,\u001B[0m \u001B[0msort\u001B[0m\u001B[1;33m=\u001B[0m\u001B[1;32mFalse\u001B[0m\u001B[1;33m,\u001B[0m \u001B[0mxnull\u001B[0m\u001B[1;33m=\u001B[0m\u001B[1;32mFalse\u001B[0m\u001B[1;33m)\u001B[0m\u001B[1;33m\u001B[0m\u001B[1;33m\u001B[0m\u001B[0m\n",
      "\u001B[1;32mc:\\users\\imtech\\appdata\\local\\programs\\python\\python37\\lib\\site-packages\\pandas\\core\\frame.py\u001B[0m in \u001B[0;36mf\u001B[1;34m(vals)\u001B[0m\n\u001B[0;32m   5224\u001B[0m         \u001B[1;32mdef\u001B[0m \u001B[0mf\u001B[0m\u001B[1;33m(\u001B[0m\u001B[0mvals\u001B[0m\u001B[1;33m)\u001B[0m\u001B[1;33m:\u001B[0m\u001B[1;33m\u001B[0m\u001B[1;33m\u001B[0m\u001B[0m\n\u001B[0;32m   5225\u001B[0m             labels, shape = algorithms.factorize(\n\u001B[1;32m-> 5226\u001B[1;33m                 \u001B[0mvals\u001B[0m\u001B[1;33m,\u001B[0m \u001B[0msize_hint\u001B[0m\u001B[1;33m=\u001B[0m\u001B[0mmin\u001B[0m\u001B[1;33m(\u001B[0m\u001B[0mlen\u001B[0m\u001B[1;33m(\u001B[0m\u001B[0mself\u001B[0m\u001B[1;33m)\u001B[0m\u001B[1;33m,\u001B[0m \u001B[0m_SIZE_HINT_LIMIT\u001B[0m\u001B[1;33m)\u001B[0m\u001B[1;33m\u001B[0m\u001B[1;33m\u001B[0m\u001B[0m\n\u001B[0m\u001B[0;32m   5227\u001B[0m             )\n\u001B[0;32m   5228\u001B[0m             \u001B[1;32mreturn\u001B[0m \u001B[0mlabels\u001B[0m\u001B[1;33m.\u001B[0m\u001B[0mastype\u001B[0m\u001B[1;33m(\u001B[0m\u001B[1;34m\"i8\"\u001B[0m\u001B[1;33m,\u001B[0m \u001B[0mcopy\u001B[0m\u001B[1;33m=\u001B[0m\u001B[1;32mFalse\u001B[0m\u001B[1;33m)\u001B[0m\u001B[1;33m,\u001B[0m \u001B[0mlen\u001B[0m\u001B[1;33m(\u001B[0m\u001B[0mshape\u001B[0m\u001B[1;33m)\u001B[0m\u001B[1;33m\u001B[0m\u001B[1;33m\u001B[0m\u001B[0m\n",
      "\u001B[1;32mc:\\users\\imtech\\appdata\\local\\programs\\python\\python37\\lib\\site-packages\\pandas\\core\\algorithms.py\u001B[0m in \u001B[0;36mfactorize\u001B[1;34m(values, sort, na_sentinel, size_hint)\u001B[0m\n\u001B[0;32m    676\u001B[0m \u001B[1;33m\u001B[0m\u001B[0m\n\u001B[0;32m    677\u001B[0m         codes, uniques = _factorize_array(\n\u001B[1;32m--> 678\u001B[1;33m             \u001B[0mvalues\u001B[0m\u001B[1;33m,\u001B[0m \u001B[0mna_sentinel\u001B[0m\u001B[1;33m=\u001B[0m\u001B[0mna_sentinel\u001B[0m\u001B[1;33m,\u001B[0m \u001B[0msize_hint\u001B[0m\u001B[1;33m=\u001B[0m\u001B[0msize_hint\u001B[0m\u001B[1;33m,\u001B[0m \u001B[0mna_value\u001B[0m\u001B[1;33m=\u001B[0m\u001B[0mna_value\u001B[0m\u001B[1;33m\u001B[0m\u001B[1;33m\u001B[0m\u001B[0m\n\u001B[0m\u001B[0;32m    679\u001B[0m         )\n\u001B[0;32m    680\u001B[0m \u001B[1;33m\u001B[0m\u001B[0m\n",
      "\u001B[1;32mc:\\users\\imtech\\appdata\\local\\programs\\python\\python37\\lib\\site-packages\\pandas\\core\\algorithms.py\u001B[0m in \u001B[0;36m_factorize_array\u001B[1;34m(values, na_sentinel, size_hint, na_value, mask)\u001B[0m\n\u001B[0;32m    499\u001B[0m     \u001B[0mtable\u001B[0m \u001B[1;33m=\u001B[0m \u001B[0mhash_klass\u001B[0m\u001B[1;33m(\u001B[0m\u001B[0msize_hint\u001B[0m \u001B[1;32mor\u001B[0m \u001B[0mlen\u001B[0m\u001B[1;33m(\u001B[0m\u001B[0mvalues\u001B[0m\u001B[1;33m)\u001B[0m\u001B[1;33m)\u001B[0m\u001B[1;33m\u001B[0m\u001B[1;33m\u001B[0m\u001B[0m\n\u001B[0;32m    500\u001B[0m     uniques, codes = table.factorize(\n\u001B[1;32m--> 501\u001B[1;33m         \u001B[0mvalues\u001B[0m\u001B[1;33m,\u001B[0m \u001B[0mna_sentinel\u001B[0m\u001B[1;33m=\u001B[0m\u001B[0mna_sentinel\u001B[0m\u001B[1;33m,\u001B[0m \u001B[0mna_value\u001B[0m\u001B[1;33m=\u001B[0m\u001B[0mna_value\u001B[0m\u001B[1;33m,\u001B[0m \u001B[0mmask\u001B[0m\u001B[1;33m=\u001B[0m\u001B[0mmask\u001B[0m\u001B[1;33m\u001B[0m\u001B[1;33m\u001B[0m\u001B[0m\n\u001B[0m\u001B[0;32m    502\u001B[0m     )\n\u001B[0;32m    503\u001B[0m \u001B[1;33m\u001B[0m\u001B[0m\n",
      "\u001B[1;32mpandas\\_libs\\hashtable_class_helper.pxi\u001B[0m in \u001B[0;36mpandas._libs.hashtable.PyObjectHashTable.factorize\u001B[1;34m()\u001B[0m\n",
      "\u001B[1;32mpandas\\_libs\\hashtable_class_helper.pxi\u001B[0m in \u001B[0;36mpandas._libs.hashtable.PyObjectHashTable._unique\u001B[1;34m()\u001B[0m\n",
      "\u001B[1;31mTypeError\u001B[0m: unhashable type: 'dict'"
     ]
    }
   ],
   "source": [
    "df = df.drop_duplicates()\n",
    "df.head(5)"
   ],
   "metadata": {
    "collapsed": false,
    "pycharm": {
     "name": "#%%\n"
    }
   }
  },
  {
   "cell_type": "code",
   "execution_count": 39,
   "outputs": [
    {
     "data": {
      "text/plain": "id          100\ntitle       100\ncontext     100\nquestion    100\nanswers     100\ndtype: int64"
     },
     "execution_count": 39,
     "metadata": {},
     "output_type": "execute_result"
    }
   ],
   "source": [
    "df.count()"
   ],
   "metadata": {
    "collapsed": false,
    "pycharm": {
     "name": "#%%\n"
    }
   }
  },
  {
   "cell_type": "markdown",
   "source": [
    "Dropping the missing or null values"
   ],
   "metadata": {
    "collapsed": false,
    "pycharm": {
     "name": "#%% md\n"
    }
   }
  },
  {
   "cell_type": "code",
   "execution_count": 40,
   "outputs": [
    {
     "name": "stdout",
     "output_type": "stream",
     "text": [
      "id          0\n",
      "title       0\n",
      "context     0\n",
      "question    0\n",
      "answers     0\n",
      "dtype: int64\n"
     ]
    }
   ],
   "source": [
    "print(df.isnull().sum())"
   ],
   "metadata": {
    "collapsed": false,
    "pycharm": {
     "name": "#%%\n"
    }
   }
  },
  {
   "cell_type": "code",
   "execution_count": 41,
   "outputs": [
    {
     "data": {
      "text/plain": "id          100\ntitle       100\ncontext     100\nquestion    100\nanswers     100\ndtype: int64"
     },
     "execution_count": 41,
     "metadata": {},
     "output_type": "execute_result"
    }
   ],
   "source": [
    "df = df.dropna()    # Dropping the missing values.\n",
    "df.count()"
   ],
   "metadata": {
    "collapsed": false,
    "pycharm": {
     "name": "#%%\n"
    }
   }
  },
  {
   "cell_type": "code",
   "execution_count": 42,
   "outputs": [
    {
     "name": "stdout",
     "output_type": "stream",
     "text": [
      "id          0\n",
      "title       0\n",
      "context     0\n",
      "question    0\n",
      "answers     0\n",
      "dtype: int64\n"
     ]
    }
   ],
   "source": [
    "print(df.isnull().sum())   # After dropping the values"
   ],
   "metadata": {
    "collapsed": false,
    "pycharm": {
     "name": "#%%\n"
    }
   }
  },
  {
   "cell_type": "markdown",
   "source": [
    "Detecting Outliers"
   ],
   "metadata": {
    "collapsed": false,
    "pycharm": {
     "name": "#%% md\n"
    }
   }
  },
  {
   "cell_type": "code",
   "execution_count": 44,
   "outputs": [
    {
     "data": {
      "text/plain": "<AxesSubplot:>"
     },
     "execution_count": 44,
     "metadata": {},
     "output_type": "execute_result"
    },
    {
     "data": {
      "text/plain": "<Figure size 432x288 with 1 Axes>",
      "image/png": "[encoded data removed]"
     },
     "metadata": {},
     "output_type": "display_data"
    }
   ],
   "source": [
    "df['question'].str.len().hist()"
   ],
   "metadata": {
    "collapsed": false,
    "pycharm": {
     "name": "#%%\n"
    }
   }
  },
  {
   "cell_type": "markdown",
   "source": [
    "let’s check the average word length in each sentence."
   ],
   "metadata": {
    "collapsed": false,
    "pycharm": {
     "name": "#%% md\n"
    }
   }
  },
  {
   "cell_type": "code",
   "execution_count": 45,
   "outputs": [
    {
     "data": {
      "text/plain": "<AxesSubplot:>"
     },
     "execution_count": 45,
     "metadata": {},
     "output_type": "execute_result"
    },
    {
     "data": {
      "text/plain": "<Figure size 432x288 with 1 Axes>",
      "image/png": "[encoded data removed]"
     },
     "metadata": {},
     "output_type": "display_data"
    }
   ],
   "source": [
    "df['question'].str.split().\\\n",
    "   apply(lambda x : [len(i) for i in x]). \\\n",
    "   map(lambda x: np.mean(x)).hist()"
   ],
   "metadata": {
    "collapsed": false,
    "pycharm": {
     "name": "#%%\n"
    }
   }
  },
  {
   "cell_type": "markdown",
   "source": [
    "The average word length ranges between 1 to 8 with 5 being the most common length. Does it mean that people are using really short words in news headlines?Let’s find out."
   ],
   "metadata": {
    "collapsed": false,
    "pycharm": {
     "name": "#%% md\n"
    }
   }
  },
  {
   "cell_type": "markdown",
   "source": [
    "One reason why this may not be true is stopwords. Stopwords are the words that are most commonly used in any language such as “the”,” a”,” an” etc. As these words are probably small in length these words may have caused the above graph to be left-skewed.\n",
    "\n",
    "Analyzing the amount and the types of stopwords can give us some good insights into the data.\n",
    "\n",
    "To get the corpus containing stopwords you can use the nltk library. Nltk contains stopwords from many languages. Since we are only dealing with English news I will filter the English stopwords from the corpus."
   ],
   "metadata": {
    "collapsed": false,
    "pycharm": {
     "name": "#%% md\n"
    }
   }
  },
  {
   "cell_type": "code",
   "execution_count": 46,
   "outputs": [
    {
     "name": "stderr",
     "output_type": "stream",
     "text": [
      "[nltk_data] Downloading package stopwords to\n",
      "[nltk_data]     C:\\Users\\imTech\\AppData\\Roaming\\nltk_data...\n",
      "[nltk_data]   Unzipping corpora\\stopwords.zip.\n"
     ]
    }
   ],
   "source": [
    "from nltk.corpus import stopwords\n",
    "import nltk\n",
    "nltk.download('stopwords')\n",
    "stop=set(stopwords.words('english'))"
   ],
   "metadata": {
    "collapsed": false,
    "pycharm": {
     "name": "#%%\n"
    }
   }
  },
  {
   "cell_type": "markdown",
   "source": [
    "Now, we’ll  create the corpus."
   ],
   "metadata": {
    "collapsed": false,
    "pycharm": {
     "name": "#%% md\n"
    }
   }
  },
  {
   "cell_type": "code",
   "execution_count": 47,
   "outputs": [],
   "source": [
    "corpus=[]\n",
    "new= df['question'].str.split()\n",
    "new=new.values.tolist()\n",
    "corpus=[word for i in new for word in i]\n",
    "\n",
    "from collections import defaultdict\n",
    "dic=defaultdict(int)\n",
    "for word in corpus:\n",
    "    if word in stop:\n",
    "        dic[word]+=1"
   ],
   "metadata": {
    "collapsed": false,
    "pycharm": {
     "name": "#%%\n"
    }
   }
  },
  {
   "cell_type": "code",
   "execution_count": 48,
   "outputs": [
    {
     "data": {
      "text/plain": "<AxesSubplot:>"
     },
     "execution_count": 48,
     "metadata": {},
     "output_type": "execute_result"
    },
    {
     "data": {
      "text/plain": "<Figure size 432x288 with 1 Axes>",
      "image/png": "[encoded data removed]"
     },
     "metadata": {},
     "output_type": "display_data"
    }
   ],
   "source": [
    "from collections import Counter\n",
    "counter= Counter(corpus)\n",
    "most=counter.most_common()\n",
    "\n",
    "x, y= [], []\n",
    "for word,count in most[:40]:\n",
    "    if (word not in stop):\n",
    "        x.append(word)\n",
    "        y.append(count)\n",
    "\n",
    "sns.barplot(x=y,y=x)"
   ],
   "metadata": {
    "collapsed": false,
    "pycharm": {
     "name": "#%%\n"
    }
   }
  },
  {
   "cell_type": "markdown",
   "source": [
    "We can clearly see that the \"what\" dominates the question words"
   ],
   "metadata": {
    "collapsed": false,
    "pycharm": {
     "name": "#%% md\n"
    }
   }
  },
  {
   "cell_type": "markdown",
   "source": [
    "<h1>Ngram exploration</h1>"
   ],
   "metadata": {
    "collapsed": false,
    "pycharm": {
     "name": "#%% md\n"
    }
   }
  },
  {
   "cell_type": "code",
   "execution_count": 49,
   "outputs": [],
   "source": [
    "from sklearn.feature_extraction.text import CountVectorizer\n",
    "\n",
    "def get_top_ngram(corpus, n=None):\n",
    "    vec = CountVectorizer(ngram_range=(n, n)).fit(corpus)\n",
    "    bag_of_words = vec.transform(corpus)\n",
    "    sum_words = bag_of_words.sum(axis=0)\n",
    "    words_freq = [(word, sum_words[0, idx])\n",
    "                  for word, idx in vec.vocabulary_.items()]\n",
    "    words_freq =sorted(words_freq, key = lambda x: x[1], reverse=True)\n",
    "    return words_freq[:10]"
   ],
   "metadata": {
    "collapsed": false,
    "pycharm": {
     "name": "#%%\n"
    }
   }
  },
  {
   "cell_type": "code",
   "execution_count": 50,
   "outputs": [
    {
     "data": {
      "text/plain": "<AxesSubplot:>"
     },
     "execution_count": 50,
     "metadata": {},
     "output_type": "execute_result"
    },
    {
     "data": {
      "text/plain": "<Figure size 432x288 with 1 Axes>",
      "image/png": "[encoded data removed]"
     },
     "metadata": {},
     "output_type": "display_data"
    }
   ],
   "source": [
    "top_tri_grams=get_top_ngram(df['question'],n=3)\n",
    "x,y=map(list,zip(*top_tri_grams))\n",
    "sns.barplot(x=y,y=x)"
   ],
   "metadata": {
    "collapsed": false,
    "pycharm": {
     "name": "#%%\n"
    }
   }
  },
  {
   "cell_type": "markdown",
   "source": [
    "We can see that many of these trigrams are some combinations of \"what is the\" and “when was the”. It means that we should put some effort into data cleaning and see if we were able to combine those synonym terms into one clean token.\n"
   ],
   "metadata": {
    "collapsed": false,
    "pycharm": {
     "name": "#%% md\n"
    }
   }
  },
  {
   "cell_type": "markdown",
   "source": [
    "<h1>Wordcloud</h1>\n"
   ],
   "metadata": {
    "collapsed": false,
    "pycharm": {
     "name": "#%% md\n"
    }
   }
  },
  {
   "cell_type": "code",
   "execution_count": 52,
   "outputs": [
    {
     "data": {
      "text/plain": "<Figure size 864x864 with 1 Axes>",
      "image/png": "[encoded data removed]"
     },
     "metadata": {},
     "output_type": "display_data"
    }
   ],
   "source": [
    "from wordcloud import WordCloud, STOPWORDS\n",
    "stopwords = set(STOPWORDS)\n",
    "\n",
    "def show_wordcloud(data):\n",
    "    wordcloud = WordCloud(\n",
    "        background_color='white',\n",
    "        stopwords=stopwords,\n",
    "        max_words=100,\n",
    "        max_font_size=30,\n",
    "        scale=3,\n",
    "        random_state=1)\n",
    "\n",
    "    wordcloud=wordcloud.generate(str(data))\n",
    "\n",
    "    fig = plt.figure(1, figsize=(12, 12))\n",
    "    plt.axis('off')\n",
    "\n",
    "    plt.imshow(wordcloud)\n",
    "    plt.show()\n",
    "\n",
    "show_wordcloud(corpus)"
   ],
   "metadata": {
    "collapsed": false,
    "pycharm": {
     "name": "#%%\n"
    }
   }
  },
  {
   "cell_type": "code",
   "execution_count": null,
   "outputs": [],
   "source": [],
   "metadata": {
    "collapsed": false,
    "pycharm": {
     "name": "#%%\n"
    }
   }
  }
 ],
 "metadata": {
  "kernelspec": {
   "display_name": "Python 3",
   "language": "python",
   "name": "python3"
  },
  "language_info": {
   "codemirror_mode": {
    "name": "ipython",
    "version": 2
   },
   "file_extension": ".py",
   "mimetype": "text/x-python",
   "name": "python",
   "nbconvert_exporter": "python",
   "pygments_lexer": "ipython2",
   "version": "2.7.6"
  }
 },
 "nbformat": 4,
 "nbformat_minor": 0
}